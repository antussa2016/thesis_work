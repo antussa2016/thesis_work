{
  "nbformat": 4,
  "nbformat_minor": 0,
  "metadata": {
    "colab": {
      "provenance": [],
      "authorship_tag": "ABX9TyMMFy7rR6u/CtaYXyfJ6KPr",
      "include_colab_link": true
    },
    "kernelspec": {
      "name": "python3",
      "display_name": "Python 3"
    },
    "language_info": {
      "name": "python"
    }
  },
  "cells": [
    {
      "cell_type": "markdown",
      "metadata": {
        "id": "view-in-github",
        "colab_type": "text"
      },
      "source": [
        "<a href=\"https://colab.research.google.com/github/antussa2016/thesis_work/blob/master/model/R_Q_A_and_Tweets_model.ipynb\" target=\"_parent\"><img src=\"https://colab.research.google.com/assets/colab-badge.svg\" alt=\"Open In Colab\"/></a>"
      ]
    },
    {
      "cell_type": "code",
      "execution_count": 1,
      "metadata": {
        "colab": {
          "base_uri": "https://localhost:8080/"
        },
        "id": "MMB4ejM_SiKa",
        "outputId": "f75e97bd-fa36-4036-8c08-f0ef6933c48d"
      },
      "outputs": [
        {
          "output_type": "stream",
          "name": "stdout",
          "text": [
            "Mounted at /content/drive\n"
          ]
        }
      ],
      "source": [
        "from google.colab import drive\n",
        "drive.mount('/content/drive')"
      ]
    },
    {
      "cell_type": "code",
      "source": [
        "from tensorflow import keras\n",
        "from keras.layers import Conv1D, MaxPooling1D, Flatten, LSTM, Dense\n",
        "from keras.models import Sequential, load_model\n",
        "import matplotlib.pyplot as plt\n",
        "import numpy as np\n",
        "import pandas as pd\n",
        "import tensorflow as tf\n",
        "import seaborn as sns\n",
        "import ast\n",
        "import json"
      ],
      "metadata": {
        "id": "i8Lxu2ncSnSp"
      },
      "execution_count": 2,
      "outputs": []
    },
    {
      "cell_type": "code",
      "source": [
        "df = pd.read_csv('/content/drive/MyDrive/test_model_01.csv')"
      ],
      "metadata": {
        "id": "soLkRyYWStHJ"
      },
      "execution_count": 3,
      "outputs": []
    },
    {
      "cell_type": "markdown",
      "source": [
        "# **remove duplicates**"
      ],
      "metadata": {
        "id": "LGw0LRAC_tcw"
      }
    },
    {
      "cell_type": "code",
      "source": [
        "# df = df.drop_duplicates()"
      ],
      "metadata": {
        "id": "jFceGCASiENv"
      },
      "execution_count": null,
      "outputs": []
    },
    {
      "cell_type": "code",
      "source": [
        "df.info()"
      ],
      "metadata": {
        "id": "OdBvDotIiES_",
        "colab": {
          "base_uri": "https://localhost:8080/"
        },
        "outputId": "00279627-d076-421c-cd1a-e97128ac95b3"
      },
      "execution_count": 4,
      "outputs": [
        {
          "output_type": "stream",
          "name": "stdout",
          "text": [
            "<class 'pandas.core.frame.DataFrame'>\n",
            "RangeIndex: 1247 entries, 0 to 1246\n",
            "Data columns (total 4 columns):\n",
            " #   Column        Non-Null Count  Dtype  \n",
            "---  ------        --------------  -----  \n",
            " 0   encoded_data  1247 non-null   object \n",
            " 1   Reputation    1247 non-null   float64\n",
            " 2   Question      1247 non-null   float64\n",
            " 3   Answer        1247 non-null   float64\n",
            "dtypes: float64(3), object(1)\n",
            "memory usage: 39.1+ KB\n"
          ]
        }
      ]
    },
    {
      "cell_type": "code",
      "source": [
        "df['encoded_data'].describe()"
      ],
      "metadata": {
        "colab": {
          "base_uri": "https://localhost:8080/"
        },
        "id": "oGGi9d_Sj6wo",
        "outputId": "86ce37bd-7fef-4404-fd9d-7800b0ba8556"
      },
      "execution_count": 5,
      "outputs": [
        {
          "output_type": "execute_result",
          "data": {
            "text/plain": [
              "count                                                  1247\n",
              "unique                                                  803\n",
              "top       [-7.20829546e-01 -2.91609019e-01 -1.33424237e-...\n",
              "freq                                                      4\n",
              "Name: encoded_data, dtype: object"
            ]
          },
          "metadata": {},
          "execution_count": 5
        }
      ]
    },
    {
      "cell_type": "code",
      "source": [
        "df['encoded_data'] = df['encoded_data'].str.replace('\\n', '')"
      ],
      "metadata": {
        "id": "nVADe8IFkZ2Y"
      },
      "execution_count": 6,
      "outputs": []
    },
    {
      "cell_type": "code",
      "source": [
        "df['encoded_data']  = df['encoded_data'] .str.split().str.join(\" \")"
      ],
      "metadata": {
        "id": "rqIn9PbUlVPp"
      },
      "execution_count": 7,
      "outputs": []
    },
    {
      "cell_type": "code",
      "source": [
        "df['encoded_data'] = df['encoded_data'].str.strip('[]').str.split()"
      ],
      "metadata": {
        "id": "DiVX5SfIFAzu"
      },
      "execution_count": 8,
      "outputs": []
    },
    {
      "cell_type": "code",
      "source": [
        "print (type(df.loc[0, 'encoded_data'][0]))"
      ],
      "metadata": {
        "colab": {
          "base_uri": "https://localhost:8080/"
        },
        "id": "NXOODYwfmw5_",
        "outputId": "ecc3aaf2-3fd5-4f93-fc62-d08db1e961df"
      },
      "execution_count": 9,
      "outputs": [
        {
          "output_type": "stream",
          "name": "stdout",
          "text": [
            "<class 'str'>\n"
          ]
        }
      ]
    },
    {
      "cell_type": "code",
      "source": [
        "# df.encoded_values.str.strip(\"[]\").str.split(\", \", expand=True, regex=False).astype(float)"
      ],
      "metadata": {
        "id": "fOQ5dR1dHNEA"
      },
      "execution_count": null,
      "outputs": []
    },
    {
      "cell_type": "code",
      "source": [
        "df['encoded_data'] = df['encoded_data'].apply(lambda x: [float(y) for y in x])\n",
        "\n",
        "df['encoded_data'] = [[float(y) for y in x] for x in df['encoded_data']]"
      ],
      "metadata": {
        "id": "mxHmqXKT7N-h"
      },
      "execution_count": 10,
      "outputs": []
    },
    {
      "cell_type": "code",
      "source": [
        "print (type(df.loc[0, 'encoded_data'][0]))"
      ],
      "metadata": {
        "colab": {
          "base_uri": "https://localhost:8080/"
        },
        "id": "KVZ5WphmDlZY",
        "outputId": "54288461-58d0-43fe-f5ab-6bfe9bc71c31"
      },
      "execution_count": 11,
      "outputs": [
        {
          "output_type": "stream",
          "name": "stdout",
          "text": [
            "<class 'float'>\n"
          ]
        }
      ]
    },
    {
      "cell_type": "code",
      "source": [
        "df['encoded_data']"
      ],
      "metadata": {
        "id": "leldkCpcmWUE",
        "colab": {
          "base_uri": "https://localhost:8080/"
        },
        "outputId": "99845564-af97-4f8e-fa01-1889eee9d0ee"
      },
      "execution_count": 12,
      "outputs": [
        {
          "output_type": "execute_result",
          "data": {
            "text/plain": [
              "0       [-0.69729674, -0.42765418, -0.661093, 0.551479...\n",
              "1       [-0.69729674, -0.42765418, -0.661093, 0.551479...\n",
              "2       [-0.773091733, -0.356368035, -0.886602938, 0.6...\n",
              "3       [-0.769801915, -0.330034107, -0.247532338, 0.5...\n",
              "4       [-0.703908861, -0.390216738, -0.439860642, 0.5...\n",
              "                              ...                        \n",
              "1242    [-0.715716422, -0.363797963, -0.362285972, 0.4...\n",
              "1243    [-0.715716422, -0.363797963, -0.362285972, 0.4...\n",
              "1244    [-0.6868242, -0.50442165, -0.6755025, 0.595654...\n",
              "1245    [-0.718400359, -0.278013349, 0.0317952782, 0.4...\n",
              "1246    [-0.718400359, -0.278013349, 0.0317952782, 0.4...\n",
              "Name: encoded_data, Length: 1247, dtype: object"
            ]
          },
          "metadata": {},
          "execution_count": 12
        }
      ]
    },
    {
      "cell_type": "markdown",
      "source": [
        "# **To reshape**"
      ],
      "metadata": {
        "id": "_FFdLdVMsczn"
      }
    },
    {
      "cell_type": "code",
      "source": [
        "x = np.array(df['encoded_data'].tolist())\n",
        "\n",
        "# check the shape of the resulting array\n",
        "print(x.shape)"
      ],
      "metadata": {
        "colab": {
          "base_uri": "https://localhost:8080/"
        },
        "id": "MHWFRiBosEoc",
        "outputId": "a154810f-5cc8-4b5b-a17d-fcf6ceed6539"
      },
      "execution_count": 13,
      "outputs": [
        {
          "output_type": "stream",
          "name": "stdout",
          "text": [
            "(1247, 768)\n"
          ]
        }
      ]
    },
    {
      "cell_type": "code",
      "source": [
        "# y = np.array(df['Reputation'].tolist())"
      ],
      "metadata": {
        "id": "LXLdyraYTOPm"
      },
      "execution_count": null,
      "outputs": []
    },
    {
      "cell_type": "code",
      "source": [
        "# df2 = pd.DataFrame(df['encoded_values'].tolist(), index=df.index).astype(float).join(df[['encoded_values','Reputation']])"
      ],
      "metadata": {
        "id": "VB5whFbr-zJv"
      },
      "execution_count": null,
      "outputs": []
    },
    {
      "cell_type": "code",
      "source": [
        "# df.explode('encoded_values').astype({'encoded_values':float})"
      ],
      "metadata": {
        "id": "6ySCYCWo6wFa"
      },
      "execution_count": null,
      "outputs": []
    },
    {
      "cell_type": "code",
      "source": [
        "# df = df.drop(columns=['Question', 'Answer'])"
      ],
      "metadata": {
        "id": "4KyCCIy0yt_c"
      },
      "execution_count": null,
      "outputs": []
    },
    {
      "cell_type": "code",
      "source": [
        "from sklearn.model_selection import train_test_split"
      ],
      "metadata": {
        "id": "k9_HR67vy63D"
      },
      "execution_count": 14,
      "outputs": []
    },
    {
      "cell_type": "code",
      "source": [
        "# x = df.drop('Reputation', axis=1)\n",
        "y = df['Answer']"
      ],
      "metadata": {
        "id": "-zH-O24QzHKR"
      },
      "execution_count": 42,
      "outputs": []
    },
    {
      "cell_type": "code",
      "source": [
        "x_train, x_test, y_train, y_test = train_test_split(x, y, test_size=0.2,)"
      ],
      "metadata": {
        "id": "B3TXZi98zU80"
      },
      "execution_count": 43,
      "outputs": []
    },
    {
      "cell_type": "code",
      "source": [
        "print('X_train shape:', x_train.shape)\n",
        "print('X_test shape:', x_test.shape)\n",
        "print('y_train shape:', y_train.shape)\n",
        "print('y_test shape:', y_test.shape)"
      ],
      "metadata": {
        "colab": {
          "base_uri": "https://localhost:8080/"
        },
        "id": "JKIzgzqwzb1j",
        "outputId": "4d68d1a1-d39a-4ba7-f72b-89f5cdb960a8"
      },
      "execution_count": 17,
      "outputs": [
        {
          "output_type": "stream",
          "name": "stdout",
          "text": [
            "X_train shape: (997, 768)\n",
            "X_test shape: (250, 768)\n",
            "y_train shape: (997,)\n",
            "y_test shape: (250,)\n"
          ]
        }
      ]
    },
    {
      "cell_type": "code",
      "source": [
        "len(x_test)"
      ],
      "metadata": {
        "colab": {
          "base_uri": "https://localhost:8080/"
        },
        "id": "VfZR5a0KZ2CJ",
        "outputId": "d325cf15-96df-417d-d0da-49bfa15645e2"
      },
      "execution_count": null,
      "outputs": [
        {
          "output_type": "execute_result",
          "data": {
            "text/plain": [
              "250"
            ]
          },
          "metadata": {},
          "execution_count": 17
        }
      ]
    },
    {
      "cell_type": "code",
      "source": [
        "x_train[0].shape"
      ],
      "metadata": {
        "id": "97XtUQWJ0lYI",
        "colab": {
          "base_uri": "https://localhost:8080/"
        },
        "outputId": "4e6c08ab-719b-4ebe-f9d1-64d321fb50d0"
      },
      "execution_count": null,
      "outputs": [
        {
          "output_type": "execute_result",
          "data": {
            "text/plain": [
              "(768,)"
            ]
          },
          "metadata": {},
          "execution_count": 18
        }
      ]
    },
    {
      "cell_type": "markdown",
      "source": [
        "# **Feedforward Model**"
      ],
      "metadata": {
        "id": "hL8x-6o0oM0p"
      }
    },
    {
      "cell_type": "code",
      "source": [
        "model = Sequential([\n",
        "    keras.layers.Dense(64, input_shape=(768,), activation='relu'),\n",
        "    keras.layers.Dense(64,activation = 'relu'),\n",
        "    keras.layers.Dense(1, activation='linear')\n",
        "\n",
        "])\n",
        "model.compile(optimizer='adam', loss='mean_squared_error')\n",
        "model.fit(x_train, y_train,validation_data=(x_test,y_test), epochs=50,batch_size=32,verbose=1)"
      ],
      "metadata": {
        "colab": {
          "base_uri": "https://localhost:8080/"
        },
        "id": "BKZ_oTZOzqTH",
        "outputId": "5e0688ab-9644-4577-cbae-29b55a023faf"
      },
      "execution_count": 47,
      "outputs": [
        {
          "output_type": "stream",
          "name": "stdout",
          "text": [
            "Epoch 1/50\n",
            "32/32 [==============================] - 1s 7ms/step - loss: 0.0726 - val_loss: 0.0415\n",
            "Epoch 2/50\n",
            "32/32 [==============================] - 0s 3ms/step - loss: 0.0438 - val_loss: 0.0341\n",
            "Epoch 3/50\n",
            "32/32 [==============================] - 0s 4ms/step - loss: 0.0445 - val_loss: 0.0427\n",
            "Epoch 4/50\n",
            "32/32 [==============================] - 0s 4ms/step - loss: 0.0484 - val_loss: 0.0639\n",
            "Epoch 5/50\n",
            "32/32 [==============================] - 0s 4ms/step - loss: 0.0464 - val_loss: 0.0355\n",
            "Epoch 6/50\n",
            "32/32 [==============================] - 0s 4ms/step - loss: 0.0409 - val_loss: 0.0329\n",
            "Epoch 7/50\n",
            "32/32 [==============================] - 0s 4ms/step - loss: 0.0422 - val_loss: 0.0337\n",
            "Epoch 8/50\n",
            "32/32 [==============================] - 0s 4ms/step - loss: 0.0398 - val_loss: 0.0345\n",
            "Epoch 9/50\n",
            "32/32 [==============================] - 0s 4ms/step - loss: 0.0442 - val_loss: 0.0402\n",
            "Epoch 10/50\n",
            "32/32 [==============================] - 0s 4ms/step - loss: 0.0413 - val_loss: 0.0430\n",
            "Epoch 11/50\n",
            "32/32 [==============================] - 0s 4ms/step - loss: 0.0445 - val_loss: 0.0591\n",
            "Epoch 12/50\n",
            "32/32 [==============================] - 0s 4ms/step - loss: 0.0473 - val_loss: 0.0324\n",
            "Epoch 13/50\n",
            "32/32 [==============================] - 0s 5ms/step - loss: 0.0378 - val_loss: 0.0343\n",
            "Epoch 14/50\n",
            "32/32 [==============================] - 0s 5ms/step - loss: 0.0406 - val_loss: 0.0446\n",
            "Epoch 15/50\n",
            "32/32 [==============================] - 0s 5ms/step - loss: 0.0405 - val_loss: 0.0323\n",
            "Epoch 16/50\n",
            "32/32 [==============================] - 0s 6ms/step - loss: 0.0391 - val_loss: 0.0350\n",
            "Epoch 17/50\n",
            "32/32 [==============================] - 0s 5ms/step - loss: 0.0397 - val_loss: 0.0325\n",
            "Epoch 18/50\n",
            "32/32 [==============================] - 0s 6ms/step - loss: 0.0380 - val_loss: 0.0332\n",
            "Epoch 19/50\n",
            "32/32 [==============================] - 0s 6ms/step - loss: 0.0408 - val_loss: 0.0336\n",
            "Epoch 20/50\n",
            "32/32 [==============================] - 0s 6ms/step - loss: 0.0370 - val_loss: 0.0333\n",
            "Epoch 21/50\n",
            "32/32 [==============================] - 0s 6ms/step - loss: 0.0381 - val_loss: 0.0384\n",
            "Epoch 22/50\n",
            "32/32 [==============================] - 0s 5ms/step - loss: 0.0377 - val_loss: 0.0409\n",
            "Epoch 23/50\n",
            "32/32 [==============================] - 0s 5ms/step - loss: 0.0368 - val_loss: 0.0411\n",
            "Epoch 24/50\n",
            "32/32 [==============================] - 0s 6ms/step - loss: 0.0366 - val_loss: 0.0340\n",
            "Epoch 25/50\n",
            "32/32 [==============================] - 0s 6ms/step - loss: 0.0367 - val_loss: 0.0318\n",
            "Epoch 26/50\n",
            "32/32 [==============================] - 0s 6ms/step - loss: 0.0369 - val_loss: 0.0315\n",
            "Epoch 27/50\n",
            "32/32 [==============================] - 0s 6ms/step - loss: 0.0375 - val_loss: 0.0319\n",
            "Epoch 28/50\n",
            "32/32 [==============================] - 0s 6ms/step - loss: 0.0361 - val_loss: 0.0317\n",
            "Epoch 29/50\n",
            "32/32 [==============================] - 0s 6ms/step - loss: 0.0368 - val_loss: 0.0390\n",
            "Epoch 30/50\n",
            "32/32 [==============================] - 0s 6ms/step - loss: 0.0386 - val_loss: 0.0339\n",
            "Epoch 31/50\n",
            "32/32 [==============================] - 0s 5ms/step - loss: 0.0366 - val_loss: 0.0329\n",
            "Epoch 32/50\n",
            "32/32 [==============================] - 0s 5ms/step - loss: 0.0380 - val_loss: 0.0341\n",
            "Epoch 33/50\n",
            "32/32 [==============================] - 0s 6ms/step - loss: 0.0367 - val_loss: 0.0379\n",
            "Epoch 34/50\n",
            "32/32 [==============================] - 0s 6ms/step - loss: 0.0382 - val_loss: 0.0383\n",
            "Epoch 35/50\n",
            "32/32 [==============================] - 0s 6ms/step - loss: 0.0364 - val_loss: 0.0314\n",
            "Epoch 36/50\n",
            "32/32 [==============================] - 0s 6ms/step - loss: 0.0344 - val_loss: 0.0532\n",
            "Epoch 37/50\n",
            "32/32 [==============================] - 0s 6ms/step - loss: 0.0383 - val_loss: 0.0335\n",
            "Epoch 38/50\n",
            "32/32 [==============================] - 0s 6ms/step - loss: 0.0383 - val_loss: 0.0326\n",
            "Epoch 39/50\n",
            "32/32 [==============================] - 0s 6ms/step - loss: 0.0378 - val_loss: 0.0326\n",
            "Epoch 40/50\n",
            "32/32 [==============================] - 0s 6ms/step - loss: 0.0367 - val_loss: 0.0386\n",
            "Epoch 41/50\n",
            "32/32 [==============================] - 0s 6ms/step - loss: 0.0379 - val_loss: 0.0364\n",
            "Epoch 42/50\n",
            "32/32 [==============================] - 0s 6ms/step - loss: 0.0370 - val_loss: 0.0334\n",
            "Epoch 43/50\n",
            "32/32 [==============================] - 0s 6ms/step - loss: 0.0354 - val_loss: 0.0402\n",
            "Epoch 44/50\n",
            "32/32 [==============================] - 0s 6ms/step - loss: 0.0350 - val_loss: 0.0325\n",
            "Epoch 45/50\n",
            "32/32 [==============================] - 0s 6ms/step - loss: 0.0364 - val_loss: 0.0342\n",
            "Epoch 46/50\n",
            "32/32 [==============================] - 0s 6ms/step - loss: 0.0334 - val_loss: 0.0360\n",
            "Epoch 47/50\n",
            "32/32 [==============================] - 0s 5ms/step - loss: 0.0366 - val_loss: 0.0411\n",
            "Epoch 48/50\n",
            "32/32 [==============================] - 0s 6ms/step - loss: 0.0347 - val_loss: 0.0334\n",
            "Epoch 49/50\n",
            "32/32 [==============================] - 0s 5ms/step - loss: 0.0342 - val_loss: 0.0390\n",
            "Epoch 50/50\n",
            "32/32 [==============================] - 0s 6ms/step - loss: 0.0348 - val_loss: 0.0404\n"
          ]
        },
        {
          "output_type": "execute_result",
          "data": {
            "text/plain": [
              "<keras.src.callbacks.History at 0x7a9a0893b160>"
            ]
          },
          "metadata": {},
          "execution_count": 47
        }
      ]
    },
    {
      "cell_type": "code",
      "source": [
        "y_pred = model.predict(x_test)"
      ],
      "metadata": {
        "colab": {
          "base_uri": "https://localhost:8080/"
        },
        "id": "kINx5o4vz8mV",
        "outputId": "4347c159-c995-4757-e469-33ca954d78fd"
      },
      "execution_count": 45,
      "outputs": [
        {
          "output_type": "stream",
          "name": "stdout",
          "text": [
            "8/8 [==============================] - 0s 2ms/step\n"
          ]
        }
      ]
    },
    {
      "cell_type": "code",
      "source": [
        "from sklearn.metrics import r2_score\n",
        "r2_score(y_test,y_pred)"
      ],
      "metadata": {
        "colab": {
          "base_uri": "https://localhost:8080/"
        },
        "id": "pxyfKM8M0LC3",
        "outputId": "b2102380-0b6e-4dd3-e2a0-3c4a3ca91485"
      },
      "execution_count": 46,
      "outputs": [
        {
          "output_type": "execute_result",
          "data": {
            "text/plain": [
              "0.025724113955926886"
            ]
          },
          "metadata": {},
          "execution_count": 46
        }
      ]
    },
    {
      "cell_type": "markdown",
      "source": [
        "# **Evaluate the model**"
      ],
      "metadata": {
        "id": "TTN9lHd0nq-y"
      }
    },
    {
      "cell_type": "code",
      "source": [
        "# @title\n",
        "test_loss,test_acc=model.evaluate(x_test,y_test)\n",
        "print(\"Loss=%.3f\" %test_loss)\n",
        "print(\"Accuracy=%.3f\" %test_acc)"
      ],
      "metadata": {
        "id": "duCsqNEMnuZ5",
        "cellView": "form"
      },
      "execution_count": null,
      "outputs": []
    },
    {
      "cell_type": "code",
      "source": [
        "# @title\n",
        "prediction = model.predict(x_test)"
      ],
      "metadata": {
        "id": "jpSvUgn6gPyH",
        "cellView": "form"
      },
      "execution_count": null,
      "outputs": []
    },
    {
      "cell_type": "code",
      "source": [
        "# @title\n",
        "prediction[:50]"
      ],
      "metadata": {
        "id": "y4Jjo3zwgT8Z",
        "cellView": "form"
      },
      "execution_count": null,
      "outputs": []
    },
    {
      "cell_type": "code",
      "source": [
        "# @title\n",
        "y_test[:50]"
      ],
      "metadata": {
        "id": "OVg-M5WcgWBj",
        "cellView": "form"
      },
      "execution_count": null,
      "outputs": []
    },
    {
      "cell_type": "code",
      "source": [
        "# @title\n",
        "y_pred = []\n",
        "for element in prediction:\n",
        "    if element > 0.9:\n",
        "        y_pred.append(1)\n",
        "    else:\n",
        "        y_pred.append(0)"
      ],
      "metadata": {
        "id": "_BMd69q1ghZo",
        "cellView": "form"
      },
      "execution_count": null,
      "outputs": []
    },
    {
      "cell_type": "code",
      "source": [
        "# @title\n",
        "y_pred[:25]"
      ],
      "metadata": {
        "id": "lDpDOxRngkRV",
        "cellView": "form"
      },
      "execution_count": null,
      "outputs": []
    },
    {
      "cell_type": "code",
      "source": [
        "# @title\n",
        "Y_test = []\n",
        "for i in y_test:\n",
        "    if i> 0.9:\n",
        "        Y_test.append(1)\n",
        "    else:\n",
        "        Y_test.append(0)"
      ],
      "metadata": {
        "id": "F3K24Pe1gc-N",
        "cellView": "form"
      },
      "execution_count": null,
      "outputs": []
    },
    {
      "cell_type": "code",
      "source": [
        "# @title\n",
        "Y_test[:50]"
      ],
      "metadata": {
        "id": "hzLrMGGUgqkl",
        "cellView": "form"
      },
      "execution_count": null,
      "outputs": []
    },
    {
      "cell_type": "markdown",
      "source": [
        "# **COnfusion Matric**"
      ],
      "metadata": {
        "id": "fgWjVwFaVGJa"
      }
    },
    {
      "cell_type": "code",
      "source": [
        "# @title\n",
        "from sklearn.metrics import confusion_matrix ,ConfusionMatrixDisplay, classification_report"
      ],
      "metadata": {
        "id": "AsjytkXFVO8M",
        "cellView": "form"
      },
      "execution_count": null,
      "outputs": []
    },
    {
      "cell_type": "code",
      "source": [
        "# @title\n",
        "cm = confusion_matrix(Y_test, y_pred)\n",
        "cmd = ConfusionMatrixDisplay(cm, display_labels=['class 0', 'class 1'])"
      ],
      "metadata": {
        "id": "mCPlIRQ-gxcZ",
        "cellView": "form"
      },
      "execution_count": null,
      "outputs": []
    },
    {
      "cell_type": "code",
      "source": [
        "# @title\n",
        "fig, ax = plt.subplots(figsize=(8, 8))\n",
        "cmd.plot(ax=ax, cmap='Blues')\n",
        "plt.show()"
      ],
      "metadata": {
        "colab": {
          "base_uri": "https://localhost:8080/",
          "height": 653
        },
        "id": "G4RNpNLmg2EI",
        "outputId": "6e5fde49-5963-4197-a2e9-1761252cdd2d",
        "cellView": "form",
        "collapsed": true
      },
      "execution_count": null,
      "outputs": [
        {
          "output_type": "display_data",
          "data": {
            "text/plain": [
              "<Figure size 800x800 with 2 Axes>"
            ],
            "image/png": "[encoded data removed]"
          },
          "metadata": {}
        }
      ]
    },
    {
      "cell_type": "code",
      "source": [
        "# @title\n",
        "print(classification_report(Y_test,y_pred))"
      ],
      "metadata": {
        "colab": {
          "base_uri": "https://localhost:8080/"
        },
        "id": "ZvRY7hf8g4Vn",
        "outputId": "06851647-e40c-4c37-ab1f-6d318ffa0b13",
        "cellView": "form",
        "collapsed": true
      },
      "execution_count": null,
      "outputs": [
        {
          "output_type": "stream",
          "name": "stdout",
          "text": [
            "              precision    recall  f1-score   support\n",
            "\n",
            "           0       0.27      0.12      0.17        32\n",
            "           1       0.88      0.95      0.91       218\n",
            "\n",
            "    accuracy                           0.84       250\n",
            "   macro avg       0.57      0.54      0.54       250\n",
            "weighted avg       0.80      0.84      0.82       250\n",
            "\n"
          ]
        }
      ]
    },
    {
      "cell_type": "markdown",
      "source": [
        "# **Building 1DCNN Model**\n",
        "\n"
      ],
      "metadata": {
        "id": "jzMJxiQOs-M4"
      }
    },
    {
      "cell_type": "code",
      "source": [
        "model = Sequential()\n",
        "model.add(Conv1D(filters=64, kernel_size=3, activation='relu', input_shape=(768, 1)))# add 1D convolutional layer\n",
        "model.add(MaxPooling1D(pool_size=2))# add max pooling layer\n",
        "model.add(Flatten())# add flatten layer\n",
        "model.add(Dense(64, activation='relu'))\n",
        "model.add(Dense(64, activation='relu'))# add dense layer\n",
        "model.add(Dense(1, activation='linear'))# add output layer\n",
        "model.compile(optimizer='adam', loss='mean_squared_error')  # compile the model\n",
        "model.fit(x_train, y_train, batch_size=32, epochs=100)"
      ],
      "metadata": {
        "colab": {
          "base_uri": "https://localhost:8080/"
        },
        "id": "jY2iTwlrjZ43",
        "outputId": "abce4ba1-dfdb-4423-9680-34ef549f4b15"
      },
      "execution_count": 39,
      "outputs": [
        {
          "output_type": "stream",
          "name": "stdout",
          "text": [
            "Epoch 1/100\n",
            "32/32 [==============================] - 5s 108ms/step - loss: 0.1109\n",
            "Epoch 2/100\n",
            "32/32 [==============================] - 3s 106ms/step - loss: 0.0144\n",
            "Epoch 3/100\n",
            "32/32 [==============================] - 2s 62ms/step - loss: 0.0140\n",
            "Epoch 4/100\n",
            "32/32 [==============================] - 1s 40ms/step - loss: 0.0138\n",
            "Epoch 5/100\n",
            "32/32 [==============================] - 1s 40ms/step - loss: 0.0158\n",
            "Epoch 6/100\n",
            "32/32 [==============================] - 1s 40ms/step - loss: 0.0136\n",
            "Epoch 7/100\n",
            "32/32 [==============================] - 1s 39ms/step - loss: 0.0148\n",
            "Epoch 8/100\n",
            "32/32 [==============================] - 1s 41ms/step - loss: 0.0127\n",
            "Epoch 9/100\n",
            "32/32 [==============================] - 1s 40ms/step - loss: 0.0131\n",
            "Epoch 10/100\n",
            "32/32 [==============================] - 1s 39ms/step - loss: 0.0167\n",
            "Epoch 11/100\n",
            "32/32 [==============================] - 2s 52ms/step - loss: 0.0173\n",
            "Epoch 12/100\n",
            "32/32 [==============================] - 2s 67ms/step - loss: 0.0125\n",
            "Epoch 13/100\n",
            "32/32 [==============================] - 2s 68ms/step - loss: 0.0129\n",
            "Epoch 14/100\n",
            "32/32 [==============================] - 2s 68ms/step - loss: 0.0122\n",
            "Epoch 15/100\n",
            "32/32 [==============================] - 1s 42ms/step - loss: 0.0120\n",
            "Epoch 16/100\n",
            "32/32 [==============================] - 1s 39ms/step - loss: 0.0118\n",
            "Epoch 17/100\n",
            "32/32 [==============================] - 1s 39ms/step - loss: 0.0126\n",
            "Epoch 18/100\n",
            "32/32 [==============================] - 1s 39ms/step - loss: 0.0120\n",
            "Epoch 19/100\n",
            "32/32 [==============================] - 1s 40ms/step - loss: 0.0123\n",
            "Epoch 20/100\n",
            "32/32 [==============================] - 1s 40ms/step - loss: 0.0118\n",
            "Epoch 21/100\n",
            "32/32 [==============================] - 1s 43ms/step - loss: 0.0128\n",
            "Epoch 22/100\n",
            "32/32 [==============================] - 1s 39ms/step - loss: 0.0128\n",
            "Epoch 23/100\n",
            "32/32 [==============================] - 2s 67ms/step - loss: 0.0124\n",
            "Epoch 24/100\n",
            "32/32 [==============================] - 2s 69ms/step - loss: 0.0120\n",
            "Epoch 25/100\n",
            "32/32 [==============================] - 2s 65ms/step - loss: 0.0109\n",
            "Epoch 26/100\n",
            "32/32 [==============================] - 2s 58ms/step - loss: 0.0134\n",
            "Epoch 27/100\n",
            "32/32 [==============================] - 2s 65ms/step - loss: 0.0111\n",
            "Epoch 28/100\n",
            "32/32 [==============================] - 2s 63ms/step - loss: 0.0110\n",
            "Epoch 29/100\n",
            "32/32 [==============================] - 2s 62ms/step - loss: 0.0111\n",
            "Epoch 30/100\n",
            "32/32 [==============================] - 2s 55ms/step - loss: 0.0128\n",
            "Epoch 31/100\n",
            "32/32 [==============================] - 1s 38ms/step - loss: 0.0107\n",
            "Epoch 32/100\n",
            "32/32 [==============================] - 2s 59ms/step - loss: 0.0128\n",
            "Epoch 33/100\n",
            "32/32 [==============================] - 2s 62ms/step - loss: 0.0112\n",
            "Epoch 34/100\n",
            "32/32 [==============================] - 2s 66ms/step - loss: 0.0111\n",
            "Epoch 35/100\n",
            "32/32 [==============================] - 2s 67ms/step - loss: 0.0103\n",
            "Epoch 36/100\n",
            "32/32 [==============================] - 1s 40ms/step - loss: 0.0108\n",
            "Epoch 37/100\n",
            "32/32 [==============================] - 1s 39ms/step - loss: 0.0124\n",
            "Epoch 38/100\n",
            "32/32 [==============================] - 1s 40ms/step - loss: 0.0106\n",
            "Epoch 39/100\n",
            "32/32 [==============================] - 1s 40ms/step - loss: 0.0101\n",
            "Epoch 40/100\n",
            "32/32 [==============================] - 1s 39ms/step - loss: 0.0105\n",
            "Epoch 41/100\n",
            "32/32 [==============================] - 1s 39ms/step - loss: 0.0095\n",
            "Epoch 42/100\n",
            "32/32 [==============================] - 1s 38ms/step - loss: 0.0102\n",
            "Epoch 43/100\n",
            "32/32 [==============================] - 1s 38ms/step - loss: 0.0105\n",
            "Epoch 44/100\n",
            "32/32 [==============================] - 2s 64ms/step - loss: 0.0108\n",
            "Epoch 45/100\n",
            "32/32 [==============================] - 2s 67ms/step - loss: 0.0113\n",
            "Epoch 46/100\n",
            "32/32 [==============================] - 2s 64ms/step - loss: 0.0095\n",
            "Epoch 47/100\n",
            "32/32 [==============================] - 2s 61ms/step - loss: 0.0100\n",
            "Epoch 48/100\n",
            "32/32 [==============================] - 1s 40ms/step - loss: 0.0104\n",
            "Epoch 49/100\n",
            "32/32 [==============================] - 1s 39ms/step - loss: 0.0142\n",
            "Epoch 50/100\n",
            "32/32 [==============================] - 1s 40ms/step - loss: 0.0106\n",
            "Epoch 51/100\n",
            "32/32 [==============================] - 1s 41ms/step - loss: 0.0081\n",
            "Epoch 52/100\n",
            "32/32 [==============================] - 1s 40ms/step - loss: 0.0160\n",
            "Epoch 53/100\n",
            "32/32 [==============================] - 1s 39ms/step - loss: 0.0128\n",
            "Epoch 54/100\n",
            "32/32 [==============================] - 1s 39ms/step - loss: 0.0141\n",
            "Epoch 55/100\n",
            "32/32 [==============================] - 2s 52ms/step - loss: 0.0122\n",
            "Epoch 56/100\n",
            "32/32 [==============================] - 2s 64ms/step - loss: 0.0130\n",
            "Epoch 57/100\n",
            "32/32 [==============================] - 2s 66ms/step - loss: 0.0117\n",
            "Epoch 58/100\n",
            "32/32 [==============================] - 2s 66ms/step - loss: 0.0127\n",
            "Epoch 59/100\n",
            "32/32 [==============================] - 2s 47ms/step - loss: 0.0115\n",
            "Epoch 60/100\n",
            "32/32 [==============================] - 1s 38ms/step - loss: 0.0112\n",
            "Epoch 61/100\n",
            "32/32 [==============================] - 2s 53ms/step - loss: 0.0114\n",
            "Epoch 62/100\n",
            "32/32 [==============================] - 1s 41ms/step - loss: 0.0121\n",
            "Epoch 63/100\n",
            "32/32 [==============================] - 1s 40ms/step - loss: 0.0124\n",
            "Epoch 64/100\n",
            "32/32 [==============================] - 1s 38ms/step - loss: 0.0115\n",
            "Epoch 65/100\n",
            "32/32 [==============================] - 1s 38ms/step - loss: 0.0104\n",
            "Epoch 66/100\n",
            "32/32 [==============================] - 1s 41ms/step - loss: 0.0224\n",
            "Epoch 67/100\n",
            "32/32 [==============================] - 2s 67ms/step - loss: 0.0173\n",
            "Epoch 68/100\n",
            "32/32 [==============================] - 3s 95ms/step - loss: 0.0152\n",
            "Epoch 69/100\n",
            "32/32 [==============================] - 2s 63ms/step - loss: 0.0149\n",
            "Epoch 70/100\n",
            "32/32 [==============================] - 2s 48ms/step - loss: 0.0150\n",
            "Epoch 71/100\n",
            "32/32 [==============================] - 1s 39ms/step - loss: 0.0165\n",
            "Epoch 72/100\n",
            "32/32 [==============================] - 1s 40ms/step - loss: 0.0152\n",
            "Epoch 73/100\n",
            "32/32 [==============================] - 1s 40ms/step - loss: 0.0148\n",
            "Epoch 74/100\n",
            "32/32 [==============================] - 1s 39ms/step - loss: 0.0147\n",
            "Epoch 75/100\n",
            "32/32 [==============================] - 1s 39ms/step - loss: 0.0151\n",
            "Epoch 76/100\n",
            "32/32 [==============================] - 1s 40ms/step - loss: 0.0144\n",
            "Epoch 77/100\n",
            "32/32 [==============================] - 1s 40ms/step - loss: 0.0137\n",
            "Epoch 78/100\n",
            "32/32 [==============================] - 2s 61ms/step - loss: 0.0136\n",
            "Epoch 79/100\n",
            "32/32 [==============================] - 2s 66ms/step - loss: 0.0129\n",
            "Epoch 80/100\n",
            "32/32 [==============================] - 2s 64ms/step - loss: 0.0124\n",
            "Epoch 81/100\n",
            "32/32 [==============================] - 2s 63ms/step - loss: 0.0123\n",
            "Epoch 82/100\n",
            "32/32 [==============================] - 1s 41ms/step - loss: 0.0118\n",
            "Epoch 83/100\n",
            "32/32 [==============================] - 1s 39ms/step - loss: 0.0116\n",
            "Epoch 84/100\n",
            "32/32 [==============================] - 1s 40ms/step - loss: 0.0114\n",
            "Epoch 85/100\n",
            "32/32 [==============================] - 1s 40ms/step - loss: 0.0112\n",
            "Epoch 86/100\n",
            "32/32 [==============================] - 1s 39ms/step - loss: 0.0110\n",
            "Epoch 87/100\n",
            "32/32 [==============================] - 1s 40ms/step - loss: 0.0112\n",
            "Epoch 88/100\n",
            "32/32 [==============================] - 1s 39ms/step - loss: 0.0104\n",
            "Epoch 89/100\n",
            "32/32 [==============================] - 1s 41ms/step - loss: 0.0116\n",
            "Epoch 90/100\n",
            "32/32 [==============================] - 2s 65ms/step - loss: 0.0110\n",
            "Epoch 91/100\n",
            "32/32 [==============================] - 2s 65ms/step - loss: 0.0112\n",
            "Epoch 92/100\n",
            "32/32 [==============================] - 2s 67ms/step - loss: 0.0108\n",
            "Epoch 93/100\n",
            "32/32 [==============================] - 2s 55ms/step - loss: 0.0109\n",
            "Epoch 94/100\n",
            "32/32 [==============================] - 1s 39ms/step - loss: 0.0117\n",
            "Epoch 95/100\n",
            "32/32 [==============================] - 1s 39ms/step - loss: 0.0106\n",
            "Epoch 96/100\n",
            "32/32 [==============================] - 1s 38ms/step - loss: 0.0105\n",
            "Epoch 97/100\n",
            "32/32 [==============================] - 1s 37ms/step - loss: 0.0099\n",
            "Epoch 98/100\n",
            "32/32 [==============================] - 1s 37ms/step - loss: 0.0101\n",
            "Epoch 99/100\n",
            "32/32 [==============================] - 1s 38ms/step - loss: 0.0095\n",
            "Epoch 100/100\n",
            "32/32 [==============================] - 1s 37ms/step - loss: 0.0112\n"
          ]
        },
        {
          "output_type": "execute_result",
          "data": {
            "text/plain": [
              "<keras.src.callbacks.History at 0x7a9a08c19330>"
            ]
          },
          "metadata": {},
          "execution_count": 39
        }
      ]
    },
    {
      "cell_type": "code",
      "source": [
        "y_pred = model.predict(x_test)"
      ],
      "metadata": {
        "colab": {
          "base_uri": "https://localhost:8080/"
        },
        "id": "G2OKOETAjBct",
        "outputId": "961cbb04-cdef-4629-f857-50524d50613f"
      },
      "execution_count": 40,
      "outputs": [
        {
          "output_type": "stream",
          "name": "stdout",
          "text": [
            "8/8 [==============================] - 0s 14ms/step\n"
          ]
        }
      ]
    },
    {
      "cell_type": "code",
      "source": [
        "from sklearn.metrics import r2_score\n",
        "r2_score(y_test,y_pred)"
      ],
      "metadata": {
        "colab": {
          "base_uri": "https://localhost:8080/"
        },
        "id": "REEeyR_J2WhL",
        "outputId": "a4398468-464b-4515-92dd-34885ea431e0"
      },
      "execution_count": 41,
      "outputs": [
        {
          "output_type": "execute_result",
          "data": {
            "text/plain": [
              "0.21240840024763996"
            ]
          },
          "metadata": {},
          "execution_count": 41
        }
      ]
    },
    {
      "cell_type": "markdown",
      "source": [
        "# **LSTM Model building**"
      ],
      "metadata": {
        "id": "nyV8QDJZ_Gcl"
      }
    },
    {
      "cell_type": "code",
      "source": [
        "x_train = x_train.reshape((x_train.shape[0], 1, x_train.shape[1]))"
      ],
      "metadata": {
        "id": "PAlw_7so_L1x"
      },
      "execution_count": null,
      "outputs": []
    },
    {
      "cell_type": "code",
      "source": [
        "x_test = x_test.reshape((x_test.shape[0], 1, x_test.shape[1]))"
      ],
      "metadata": {
        "id": "JqEHrr33_Xp3"
      },
      "execution_count": null,
      "outputs": []
    },
    {
      "cell_type": "code",
      "source": [
        "model = Sequential()\n",
        "model.add(LSTM(units=64, input_shape=(1, 768)))\n",
        "model.add(Dense(units=1, activation='sigmoid'))\n",
        "model.compile(optimizer='adam', loss='binary_crossentropy', metrics=['accuracy'])\n",
        "\n",
        "# Train the model\n",
        "model.fit(x_train, y_train, batch_size=32, epochs=10)"
      ],
      "metadata": {
        "colab": {
          "base_uri": "https://localhost:8080/"
        },
        "id": "HVwNRT4P_R1E",
        "outputId": "d4cecc66-1be0-44fe-cef7-202f4203c737"
      },
      "execution_count": null,
      "outputs": [
        {
          "output_type": "stream",
          "name": "stdout",
          "text": [
            "Epoch 1/10\n",
            "32/32 [==============================] - 2s 5ms/step - loss: 0.3563 - accuracy: 0.0000e+00\n",
            "Epoch 2/10\n",
            "32/32 [==============================] - 0s 5ms/step - loss: 0.3263 - accuracy: 0.0000e+00\n",
            "Epoch 3/10\n",
            "32/32 [==============================] - 0s 5ms/step - loss: 0.3253 - accuracy: 0.0000e+00\n",
            "Epoch 4/10\n",
            "32/32 [==============================] - 0s 5ms/step - loss: 0.3241 - accuracy: 0.0000e+00\n",
            "Epoch 5/10\n",
            "32/32 [==============================] - 0s 5ms/step - loss: 0.3241 - accuracy: 0.0000e+00\n",
            "Epoch 6/10\n",
            "32/32 [==============================] - 0s 5ms/step - loss: 0.3242 - accuracy: 0.0000e+00\n",
            "Epoch 7/10\n",
            "32/32 [==============================] - 0s 4ms/step - loss: 0.3242 - accuracy: 0.0000e+00\n",
            "Epoch 8/10\n",
            "32/32 [==============================] - 0s 5ms/step - loss: 0.3241 - accuracy: 0.0000e+00\n",
            "Epoch 9/10\n",
            "32/32 [==============================] - 0s 5ms/step - loss: 0.3241 - accuracy: 0.0000e+00\n",
            "Epoch 10/10\n",
            "32/32 [==============================] - 0s 5ms/step - loss: 0.3243 - accuracy: 0.0000e+00\n"
          ]
        },
        {
          "output_type": "execute_result",
          "data": {
            "text/plain": [
              "<keras.callbacks.History at 0x7f7001902be0>"
            ]
          },
          "metadata": {},
          "execution_count": 277
        }
      ]
    },
    {
      "cell_type": "code",
      "source": [
        "test_loss,test_acc=model.evaluate(x_test,y_test)"
      ],
      "metadata": {
        "colab": {
          "base_uri": "https://localhost:8080/"
        },
        "id": "miFgbhXnAqkb",
        "outputId": "1701b431-0070-4399-9774-ea9e3d723111"
      },
      "execution_count": null,
      "outputs": [
        {
          "output_type": "stream",
          "name": "stdout",
          "text": [
            "8/8 [==============================] - 0s 3ms/step - loss: 0.3004 - accuracy: 0.0040\n"
          ]
        }
      ]
    },
    {
      "cell_type": "markdown",
      "source": [
        "# **Accuracy for reputation** 0.4%\n",
        "\n",
        "FFNN.......  0.0040\n",
        "\n",
        "1DCNN...... 0.0040\n",
        "\n",
        "LSTM.....  0.0040\n",
        "\n",
        "\n",
        "# **Accuracy for question** 8.8%\n",
        "\n",
        "FFNN....... 0.0880\n",
        "\n",
        "1DCNN...... 0.0880\n",
        "\n",
        "LSTM.....   0.0880\n",
        "\n",
        "# **Accuracy for Answer** 86%\n",
        "\n",
        "FFNN....... 0.8600\n",
        "\n",
        "1DCNN...... 0.8600\n",
        "\n",
        "LSTM..... 0.8600\n"
      ],
      "metadata": {
        "id": "WO45WP8SF1S7"
      }
    }
  ]
}