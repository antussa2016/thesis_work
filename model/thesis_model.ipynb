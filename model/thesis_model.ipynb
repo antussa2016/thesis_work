{
  "nbformat": 4,
  "nbformat_minor": 0,
  "metadata": {
    "colab": {
      "provenance": [],
      "authorship_tag": "ABX9TyPvV6fW6B8Loe8GUXI/oiRh",
      "include_colab_link": true
    },
    "kernelspec": {
      "name": "python3",
      "display_name": "Python 3"
    },
    "language_info": {
      "name": "python"
    }
  },
  "cells": [
    {
      "cell_type": "markdown",
      "metadata": {
        "id": "view-in-github",
        "colab_type": "text"
      },
      "source": [
        "<a href=\"https://colab.research.google.com/github/antussa2016/thesis_work/blob/master/model/thesis_model.ipynb\" target=\"_parent\"><img src=\"https://colab.research.google.com/assets/colab-badge.svg\" alt=\"Open In Colab\"/></a>"
      ]
    },
    {
      "cell_type": "code",
      "execution_count": 1,
      "metadata": {
        "colab": {
          "base_uri": "https://localhost:8080/"
        },
        "id": "-MkYLEiHwPP4",
        "outputId": "7b810b15-8bdd-4720-8d19-485da66cec1b"
      },
      "outputs": [
        {
          "output_type": "stream",
          "name": "stdout",
          "text": [
            "Cloning into 'thesis_work'...\n",
            "remote: Enumerating objects: 111, done.\u001b[K\n",
            "remote: Counting objects: 100% (111/111), done.\u001b[K\n",
            "remote: Compressing objects: 100% (94/94), done.\u001b[K\n",
            "remote: Total 111 (delta 44), reused 0 (delta 0), pack-reused 0\u001b[K\n",
            "Receiving objects: 100% (111/111), 384.15 KiB | 3.80 MiB/s, done.\n",
            "Resolving deltas: 100% (44/44), done.\n"
          ]
        }
      ],
      "source": [
        "! git clone https://github.com/antussa2016/thesis_work"
      ]
    },
    {
      "cell_type": "code",
      "source": [
        "import matplotlib.pyplot as plt\n",
        "import pandas as pd"
      ],
      "metadata": {
        "id": "iu5kODCtwkd6"
      },
      "execution_count": 2,
      "outputs": []
    },
    {
      "cell_type": "code",
      "source": [
        "df = pd.read_csv('thesis_work/dataset/data_for_model.csv')"
      ],
      "metadata": {
        "id": "e-ymV1s_wnnd"
      },
      "execution_count": 3,
      "outputs": []
    },
    {
      "cell_type": "code",
      "source": [
        "df.head(1)"
      ],
      "metadata": {
        "id": "E79vnRi3z1AE",
        "outputId": "42852e9d-8e32-4869-d686-e5bbe1240a13",
        "colab": {
          "base_uri": "https://localhost:8080/",
          "height": 200
        }
      },
      "execution_count": 4,
      "outputs": [
        {
          "output_type": "execute_result",
          "data": {
            "text/plain": [
              "  twitter_id  stackoverflow_id  question_count  answer_count  reputation  \\\n",
              "0       10F1            145587              13           500       74297   \n",
              "\n",
              "                                          answer_tag  \\\n",
              "0  ['go', 'json', 'http', 'goroutine', 'struct', ...   \n",
              "\n",
              "                                        question_tag  Openness  \\\n",
              "0  ['go', 'javascript', 'python', 'c++', 'linux',...  0.839299   \n",
              "\n",
              "   Conscientiousness  Extraversion  ...  preferred_tags1  preferred_tags2  \\\n",
              "0           0.170988      0.083984  ...               go       javascript   \n",
              "\n",
              "  preferred_tags3 micro-oop oop  web-pro  database  mobile  statistic  other  \n",
              "0            json         0   0        1         0       0          1      0  \n",
              "\n",
              "[1 rows x 22 columns]"
            ],
            "text/html": [
              "\n",
              "  <div id=\"df-9767db10-be3e-4273-a639-6d821abd2414\" class=\"colab-df-container\">\n",
              "    <div>\n",
              "<style scoped>\n",
              "    .dataframe tbody tr th:only-of-type {\n",
              "        vertical-align: middle;\n",
              "    }\n",
              "\n",
              "    .dataframe tbody tr th {\n",
              "        vertical-align: top;\n",
              "    }\n",
              "\n",
              "    .dataframe thead th {\n",
              "        text-align: right;\n",
              "    }\n",
              "</style>\n",
              "<table border=\"1\" class=\"dataframe\">\n",
              "  <thead>\n",
              "    <tr style=\"text-align: right;\">\n",
              "      <th></th>\n",
              "      <th>twitter_id</th>\n",
              "      <th>stackoverflow_id</th>\n",
              "      <th>question_count</th>\n",
              "      <th>answer_count</th>\n",
              "      <th>reputation</th>\n",
              "      <th>answer_tag</th>\n",
              "      <th>question_tag</th>\n",
              "      <th>Openness</th>\n",
              "      <th>Conscientiousness</th>\n",
              "      <th>Extraversion</th>\n",
              "      <th>...</th>\n",
              "      <th>preferred_tags1</th>\n",
              "      <th>preferred_tags2</th>\n",
              "      <th>preferred_tags3</th>\n",
              "      <th>micro-oop</th>\n",
              "      <th>oop</th>\n",
              "      <th>web-pro</th>\n",
              "      <th>database</th>\n",
              "      <th>mobile</th>\n",
              "      <th>statistic</th>\n",
              "      <th>other</th>\n",
              "    </tr>\n",
              "  </thead>\n",
              "  <tbody>\n",
              "    <tr>\n",
              "      <th>0</th>\n",
              "      <td>10F1</td>\n",
              "      <td>145587</td>\n",
              "      <td>13</td>\n",
              "      <td>500</td>\n",
              "      <td>74297</td>\n",
              "      <td>['go', 'json', 'http', 'goroutine', 'struct', ...</td>\n",
              "      <td>['go', 'javascript', 'python', 'c++', 'linux',...</td>\n",
              "      <td>0.839299</td>\n",
              "      <td>0.170988</td>\n",
              "      <td>0.083984</td>\n",
              "      <td>...</td>\n",
              "      <td>go</td>\n",
              "      <td>javascript</td>\n",
              "      <td>json</td>\n",
              "      <td>0</td>\n",
              "      <td>0</td>\n",
              "      <td>1</td>\n",
              "      <td>0</td>\n",
              "      <td>0</td>\n",
              "      <td>1</td>\n",
              "      <td>0</td>\n",
              "    </tr>\n",
              "  </tbody>\n",
              "</table>\n",
              "<p>1 rows × 22 columns</p>\n",
              "</div>\n",
              "    <div class=\"colab-df-buttons\">\n",
              "\n",
              "  <div class=\"colab-df-container\">\n",
              "    <button class=\"colab-df-convert\" onclick=\"convertToInteractive('df-9767db10-be3e-4273-a639-6d821abd2414')\"\n",
              "            title=\"Convert this dataframe to an interactive table.\"\n",
              "            style=\"display:none;\">\n",
              "\n",
              "  <svg xmlns=\"http://www.w3.org/2000/svg\" height=\"24px\" viewBox=\"0 -960 960 960\">\n",
              "    <path d=\"M120-120v-720h720v720H120Zm60-500h600v-160H180v160Zm220 220h160v-160H400v160Zm0 220h160v-160H400v160ZM180-400h160v-160H180v160Zm440 0h160v-160H620v160ZM180-180h160v-160H180v160Zm440 0h160v-160H620v160Z\"/>\n",
              "  </svg>\n",
              "    </button>\n",
              "\n",
              "  <style>\n",
              "    .colab-df-container {\n",
              "      display:flex;\n",
              "      gap: 12px;\n",
              "    }\n",
              "\n",
              "    .colab-df-convert {\n",
              "      background-color: #E8F0FE;\n",
              "      border: none;\n",
              "      border-radius: 50%;\n",
              "      cursor: pointer;\n",
              "      display: none;\n",
              "      fill: #1967D2;\n",
              "      height: 32px;\n",
              "      padding: 0 0 0 0;\n",
              "      width: 32px;\n",
              "    }\n",
              "\n",
              "    .colab-df-convert:hover {\n",
              "      background-color: #E2EBFA;\n",
              "      box-shadow: 0px 1px 2px rgba(60, 64, 67, 0.3), 0px 1px 3px 1px rgba(60, 64, 67, 0.15);\n",
              "      fill: #174EA6;\n",
              "    }\n",
              "\n",
              "    .colab-df-buttons div {\n",
              "      margin-bottom: 4px;\n",
              "    }\n",
              "\n",
              "    [theme=dark] .colab-df-convert {\n",
              "      background-color: #3B4455;\n",
              "      fill: #D2E3FC;\n",
              "    }\n",
              "\n",
              "    [theme=dark] .colab-df-convert:hover {\n",
              "      background-color: #434B5C;\n",
              "      box-shadow: 0px 1px 3px 1px rgba(0, 0, 0, 0.15);\n",
              "      filter: drop-shadow(0px 1px 2px rgba(0, 0, 0, 0.3));\n",
              "      fill: #FFFFFF;\n",
              "    }\n",
              "  </style>\n",
              "\n",
              "    <script>\n",
              "      const buttonEl =\n",
              "        document.querySelector('#df-9767db10-be3e-4273-a639-6d821abd2414 button.colab-df-convert');\n",
              "      buttonEl.style.display =\n",
              "        google.colab.kernel.accessAllowed ? 'block' : 'none';\n",
              "\n",
              "      async function convertToInteractive(key) {\n",
              "        const element = document.querySelector('#df-9767db10-be3e-4273-a639-6d821abd2414');\n",
              "        const dataTable =\n",
              "          await google.colab.kernel.invokeFunction('convertToInteractive',\n",
              "                                                    [key], {});\n",
              "        if (!dataTable) return;\n",
              "\n",
              "        const docLinkHtml = 'Like what you see? Visit the ' +\n",
              "          '<a target=\"_blank\" href=https://colab.research.google.com/notebooks/data_table.ipynb>data table notebook</a>'\n",
              "          + ' to learn more about interactive tables.';\n",
              "        element.innerHTML = '';\n",
              "        dataTable['output_type'] = 'display_data';\n",
              "        await google.colab.output.renderOutput(dataTable, element);\n",
              "        const docLink = document.createElement('div');\n",
              "        docLink.innerHTML = docLinkHtml;\n",
              "        element.appendChild(docLink);\n",
              "      }\n",
              "    </script>\n",
              "  </div>\n",
              "\n",
              "    </div>\n",
              "  </div>\n"
            ]
          },
          "metadata": {},
          "execution_count": 4
        }
      ]
    },
    {
      "cell_type": "code",
      "source": [
        "df.drop(columns=['twitter_id','stackoverflow_id','question_count','answer_count','answer_tag','question_tag'], inplace=True)"
      ],
      "metadata": {
        "id": "9t_SY1R5z-e8"
      },
      "execution_count": 5,
      "outputs": []
    },
    {
      "cell_type": "code",
      "source": [
        "df.head(1)"
      ],
      "metadata": {
        "id": "Fj1C5gci0bID",
        "outputId": "2304a370-d69d-401a-9e50-fd64c5b3dcb1",
        "colab": {
          "base_uri": "https://localhost:8080/",
          "height": 118
        }
      },
      "execution_count": 6,
      "outputs": [
        {
          "output_type": "execute_result",
          "data": {
            "text/plain": [
              "   reputation  Openness  Conscientiousness  Extraversion  Agreeableness  \\\n",
              "0       74297  0.839299           0.170988      0.083984       0.047367   \n",
              "\n",
              "   Neuroticism preferred_tags1 preferred_tags2 preferred_tags3  micro-oop  \\\n",
              "0     0.612101              go      javascript            json          0   \n",
              "\n",
              "   oop  web-pro  database  mobile  statistic  other  \n",
              "0    0        1         0       0          1      0  "
            ],
            "text/html": [
              "\n",
              "  <div id=\"df-7791e4ca-ddbf-4eeb-8c4e-437afaa561b3\" class=\"colab-df-container\">\n",
              "    <div>\n",
              "<style scoped>\n",
              "    .dataframe tbody tr th:only-of-type {\n",
              "        vertical-align: middle;\n",
              "    }\n",
              "\n",
              "    .dataframe tbody tr th {\n",
              "        vertical-align: top;\n",
              "    }\n",
              "\n",
              "    .dataframe thead th {\n",
              "        text-align: right;\n",
              "    }\n",
              "</style>\n",
              "<table border=\"1\" class=\"dataframe\">\n",
              "  <thead>\n",
              "    <tr style=\"text-align: right;\">\n",
              "      <th></th>\n",
              "      <th>reputation</th>\n",
              "      <th>Openness</th>\n",
              "      <th>Conscientiousness</th>\n",
              "      <th>Extraversion</th>\n",
              "      <th>Agreeableness</th>\n",
              "      <th>Neuroticism</th>\n",
              "      <th>preferred_tags1</th>\n",
              "      <th>preferred_tags2</th>\n",
              "      <th>preferred_tags3</th>\n",
              "      <th>micro-oop</th>\n",
              "      <th>oop</th>\n",
              "      <th>web-pro</th>\n",
              "      <th>database</th>\n",
              "      <th>mobile</th>\n",
              "      <th>statistic</th>\n",
              "      <th>other</th>\n",
              "    </tr>\n",
              "  </thead>\n",
              "  <tbody>\n",
              "    <tr>\n",
              "      <th>0</th>\n",
              "      <td>74297</td>\n",
              "      <td>0.839299</td>\n",
              "      <td>0.170988</td>\n",
              "      <td>0.083984</td>\n",
              "      <td>0.047367</td>\n",
              "      <td>0.612101</td>\n",
              "      <td>go</td>\n",
              "      <td>javascript</td>\n",
              "      <td>json</td>\n",
              "      <td>0</td>\n",
              "      <td>0</td>\n",
              "      <td>1</td>\n",
              "      <td>0</td>\n",
              "      <td>0</td>\n",
              "      <td>1</td>\n",
              "      <td>0</td>\n",
              "    </tr>\n",
              "  </tbody>\n",
              "</table>\n",
              "</div>\n",
              "    <div class=\"colab-df-buttons\">\n",
              "\n",
              "  <div class=\"colab-df-container\">\n",
              "    <button class=\"colab-df-convert\" onclick=\"convertToInteractive('df-7791e4ca-ddbf-4eeb-8c4e-437afaa561b3')\"\n",
              "            title=\"Convert this dataframe to an interactive table.\"\n",
              "            style=\"display:none;\">\n",
              "\n",
              "  <svg xmlns=\"http://www.w3.org/2000/svg\" height=\"24px\" viewBox=\"0 -960 960 960\">\n",
              "    <path d=\"M120-120v-720h720v720H120Zm60-500h600v-160H180v160Zm220 220h160v-160H400v160Zm0 220h160v-160H400v160ZM180-400h160v-160H180v160Zm440 0h160v-160H620v160ZM180-180h160v-160H180v160Zm440 0h160v-160H620v160Z\"/>\n",
              "  </svg>\n",
              "    </button>\n",
              "\n",
              "  <style>\n",
              "    .colab-df-container {\n",
              "      display:flex;\n",
              "      gap: 12px;\n",
              "    }\n",
              "\n",
              "    .colab-df-convert {\n",
              "      background-color: #E8F0FE;\n",
              "      border: none;\n",
              "      border-radius: 50%;\n",
              "      cursor: pointer;\n",
              "      display: none;\n",
              "      fill: #1967D2;\n",
              "      height: 32px;\n",
              "      padding: 0 0 0 0;\n",
              "      width: 32px;\n",
              "    }\n",
              "\n",
              "    .colab-df-convert:hover {\n",
              "      background-color: #E2EBFA;\n",
              "      box-shadow: 0px 1px 2px rgba(60, 64, 67, 0.3), 0px 1px 3px 1px rgba(60, 64, 67, 0.15);\n",
              "      fill: #174EA6;\n",
              "    }\n",
              "\n",
              "    .colab-df-buttons div {\n",
              "      margin-bottom: 4px;\n",
              "    }\n",
              "\n",
              "    [theme=dark] .colab-df-convert {\n",
              "      background-color: #3B4455;\n",
              "      fill: #D2E3FC;\n",
              "    }\n",
              "\n",
              "    [theme=dark] .colab-df-convert:hover {\n",
              "      background-color: #434B5C;\n",
              "      box-shadow: 0px 1px 3px 1px rgba(0, 0, 0, 0.15);\n",
              "      filter: drop-shadow(0px 1px 2px rgba(0, 0, 0, 0.3));\n",
              "      fill: #FFFFFF;\n",
              "    }\n",
              "  </style>\n",
              "\n",
              "    <script>\n",
              "      const buttonEl =\n",
              "        document.querySelector('#df-7791e4ca-ddbf-4eeb-8c4e-437afaa561b3 button.colab-df-convert');\n",
              "      buttonEl.style.display =\n",
              "        google.colab.kernel.accessAllowed ? 'block' : 'none';\n",
              "\n",
              "      async function convertToInteractive(key) {\n",
              "        const element = document.querySelector('#df-7791e4ca-ddbf-4eeb-8c4e-437afaa561b3');\n",
              "        const dataTable =\n",
              "          await google.colab.kernel.invokeFunction('convertToInteractive',\n",
              "                                                    [key], {});\n",
              "        if (!dataTable) return;\n",
              "\n",
              "        const docLinkHtml = 'Like what you see? Visit the ' +\n",
              "          '<a target=\"_blank\" href=https://colab.research.google.com/notebooks/data_table.ipynb>data table notebook</a>'\n",
              "          + ' to learn more about interactive tables.';\n",
              "        element.innerHTML = '';\n",
              "        dataTable['output_type'] = 'display_data';\n",
              "        await google.colab.output.renderOutput(dataTable, element);\n",
              "        const docLink = document.createElement('div');\n",
              "        docLink.innerHTML = docLinkHtml;\n",
              "        element.appendChild(docLink);\n",
              "      }\n",
              "    </script>\n",
              "  </div>\n",
              "\n",
              "    </div>\n",
              "  </div>\n"
            ]
          },
          "metadata": {},
          "execution_count": 6
        }
      ]
    },
    {
      "cell_type": "code",
      "source": [
        "# Calculate min and max values for the column\n",
        "min_value = df['reputation'].min()\n",
        "max_value = df['reputation'].max()\n",
        "\n",
        "# Apply min-max scaling to the column\n",
        "df['reputation'] = (df[['reputation']] - min_value) / (max_value - min_value)\n",
        "\n",
        "df.head(1)"
      ],
      "metadata": {
        "id": "kGDjaIWI08Ot",
        "outputId": "03a98010-3652-4b3c-fa91-e0015c624e2d",
        "colab": {
          "base_uri": "https://localhost:8080/",
          "height": 118
        }
      },
      "execution_count": 7,
      "outputs": [
        {
          "output_type": "execute_result",
          "data": {
            "text/plain": [
              "   reputation  Openness  Conscientiousness  Extraversion  Agreeableness  \\\n",
              "0    0.057832  0.839299           0.170988      0.083984       0.047367   \n",
              "\n",
              "   Neuroticism preferred_tags1 preferred_tags2 preferred_tags3  micro-oop  \\\n",
              "0     0.612101              go      javascript            json          0   \n",
              "\n",
              "   oop  web-pro  database  mobile  statistic  other  \n",
              "0    0        1         0       0          1      0  "
            ],
            "text/html": [
              "\n",
              "  <div id=\"df-efa96089-99c5-4800-8e17-4d74a9df44d6\" class=\"colab-df-container\">\n",
              "    <div>\n",
              "<style scoped>\n",
              "    .dataframe tbody tr th:only-of-type {\n",
              "        vertical-align: middle;\n",
              "    }\n",
              "\n",
              "    .dataframe tbody tr th {\n",
              "        vertical-align: top;\n",
              "    }\n",
              "\n",
              "    .dataframe thead th {\n",
              "        text-align: right;\n",
              "    }\n",
              "</style>\n",
              "<table border=\"1\" class=\"dataframe\">\n",
              "  <thead>\n",
              "    <tr style=\"text-align: right;\">\n",
              "      <th></th>\n",
              "      <th>reputation</th>\n",
              "      <th>Openness</th>\n",
              "      <th>Conscientiousness</th>\n",
              "      <th>Extraversion</th>\n",
              "      <th>Agreeableness</th>\n",
              "      <th>Neuroticism</th>\n",
              "      <th>preferred_tags1</th>\n",
              "      <th>preferred_tags2</th>\n",
              "      <th>preferred_tags3</th>\n",
              "      <th>micro-oop</th>\n",
              "      <th>oop</th>\n",
              "      <th>web-pro</th>\n",
              "      <th>database</th>\n",
              "      <th>mobile</th>\n",
              "      <th>statistic</th>\n",
              "      <th>other</th>\n",
              "    </tr>\n",
              "  </thead>\n",
              "  <tbody>\n",
              "    <tr>\n",
              "      <th>0</th>\n",
              "      <td>0.057832</td>\n",
              "      <td>0.839299</td>\n",
              "      <td>0.170988</td>\n",
              "      <td>0.083984</td>\n",
              "      <td>0.047367</td>\n",
              "      <td>0.612101</td>\n",
              "      <td>go</td>\n",
              "      <td>javascript</td>\n",
              "      <td>json</td>\n",
              "      <td>0</td>\n",
              "      <td>0</td>\n",
              "      <td>1</td>\n",
              "      <td>0</td>\n",
              "      <td>0</td>\n",
              "      <td>1</td>\n",
              "      <td>0</td>\n",
              "    </tr>\n",
              "  </tbody>\n",
              "</table>\n",
              "</div>\n",
              "    <div class=\"colab-df-buttons\">\n",
              "\n",
              "  <div class=\"colab-df-container\">\n",
              "    <button class=\"colab-df-convert\" onclick=\"convertToInteractive('df-efa96089-99c5-4800-8e17-4d74a9df44d6')\"\n",
              "            title=\"Convert this dataframe to an interactive table.\"\n",
              "            style=\"display:none;\">\n",
              "\n",
              "  <svg xmlns=\"http://www.w3.org/2000/svg\" height=\"24px\" viewBox=\"0 -960 960 960\">\n",
              "    <path d=\"M120-120v-720h720v720H120Zm60-500h600v-160H180v160Zm220 220h160v-160H400v160Zm0 220h160v-160H400v160ZM180-400h160v-160H180v160Zm440 0h160v-160H620v160ZM180-180h160v-160H180v160Zm440 0h160v-160H620v160Z\"/>\n",
              "  </svg>\n",
              "    </button>\n",
              "\n",
              "  <style>\n",
              "    .colab-df-container {\n",
              "      display:flex;\n",
              "      gap: 12px;\n",
              "    }\n",
              "\n",
              "    .colab-df-convert {\n",
              "      background-color: #E8F0FE;\n",
              "      border: none;\n",
              "      border-radius: 50%;\n",
              "      cursor: pointer;\n",
              "      display: none;\n",
              "      fill: #1967D2;\n",
              "      height: 32px;\n",
              "      padding: 0 0 0 0;\n",
              "      width: 32px;\n",
              "    }\n",
              "\n",
              "    .colab-df-convert:hover {\n",
              "      background-color: #E2EBFA;\n",
              "      box-shadow: 0px 1px 2px rgba(60, 64, 67, 0.3), 0px 1px 3px 1px rgba(60, 64, 67, 0.15);\n",
              "      fill: #174EA6;\n",
              "    }\n",
              "\n",
              "    .colab-df-buttons div {\n",
              "      margin-bottom: 4px;\n",
              "    }\n",
              "\n",
              "    [theme=dark] .colab-df-convert {\n",
              "      background-color: #3B4455;\n",
              "      fill: #D2E3FC;\n",
              "    }\n",
              "\n",
              "    [theme=dark] .colab-df-convert:hover {\n",
              "      background-color: #434B5C;\n",
              "      box-shadow: 0px 1px 3px 1px rgba(0, 0, 0, 0.15);\n",
              "      filter: drop-shadow(0px 1px 2px rgba(0, 0, 0, 0.3));\n",
              "      fill: #FFFFFF;\n",
              "    }\n",
              "  </style>\n",
              "\n",
              "    <script>\n",
              "      const buttonEl =\n",
              "        document.querySelector('#df-efa96089-99c5-4800-8e17-4d74a9df44d6 button.colab-df-convert');\n",
              "      buttonEl.style.display =\n",
              "        google.colab.kernel.accessAllowed ? 'block' : 'none';\n",
              "\n",
              "      async function convertToInteractive(key) {\n",
              "        const element = document.querySelector('#df-efa96089-99c5-4800-8e17-4d74a9df44d6');\n",
              "        const dataTable =\n",
              "          await google.colab.kernel.invokeFunction('convertToInteractive',\n",
              "                                                    [key], {});\n",
              "        if (!dataTable) return;\n",
              "\n",
              "        const docLinkHtml = 'Like what you see? Visit the ' +\n",
              "          '<a target=\"_blank\" href=https://colab.research.google.com/notebooks/data_table.ipynb>data table notebook</a>'\n",
              "          + ' to learn more about interactive tables.';\n",
              "        element.innerHTML = '';\n",
              "        dataTable['output_type'] = 'display_data';\n",
              "        await google.colab.output.renderOutput(dataTable, element);\n",
              "        const docLink = document.createElement('div');\n",
              "        docLink.innerHTML = docLinkHtml;\n",
              "        element.appendChild(docLink);\n",
              "      }\n",
              "    </script>\n",
              "  </div>\n",
              "\n",
              "    </div>\n",
              "  </div>\n"
            ]
          },
          "metadata": {},
          "execution_count": 7
        }
      ]
    },
    {
      "cell_type": "code",
      "source": [
        "# # Drop rows where any row contains 0 in 'Column1'\n",
        "# df = df[df['preferred_tags1'] != '0']\n"
      ],
      "metadata": {
        "id": "zQh-hHD51utR"
      },
      "execution_count": 8,
      "outputs": []
    },
    {
      "cell_type": "code",
      "source": [
        "# df = df[df['preferred_tags2'] != '0']"
      ],
      "metadata": {
        "id": "tGwUPaMC2A9U"
      },
      "execution_count": null,
      "outputs": []
    },
    {
      "cell_type": "code",
      "source": [
        "# df = df[df['preferred_tags3'] != '0']"
      ],
      "metadata": {
        "id": "JCFpuFop2GpD"
      },
      "execution_count": null,
      "outputs": []
    },
    {
      "cell_type": "code",
      "source": [
        "tag_to_code = {\n",
        "    '.net': 1,\n",
        "    'c#': 2,\n",
        "    'f#': 3,\n",
        "    'asp.net': 4,\n",
        "    'vb.net': 5,\n",
        "    'xml': 6,\n",
        "    'java': 7,\n",
        "    'python': 8,\n",
        "    'swing': 9,\n",
        "    'c++': 10,\n",
        "    'c': 11,\n",
        "    'php': 12,\n",
        "    'ruby': 13,\n",
        "    'perl': 14,\n",
        "    'jquery': 15,\n",
        "    'javascript': 16,\n",
        "    'node.js': 17,\n",
        "    'angularjs': 18,\n",
        "    'reactjs': 19,\n",
        "    'typescript': 20,\n",
        "    'html': 21,\n",
        "    'css': 22,\n",
        "    'json': 23,\n",
        "    'django': 24,\n",
        "    'sql': 25,\n",
        "    'sql-server': 26,\n",
        "    'mysql': 27,\n",
        "    'kotlin': 28,\n",
        "    'objective-c': 29,\n",
        "    'swift': 30,\n",
        "    'android': 31,\n",
        "    'ios': 32,\n",
        "    'go': 33,\n",
        "    'scala': 34,\n",
        "    'r': 35,\n",
        "    'git': 36,\n",
        "    'github': 38,\n",
        "    'os': 39,\n",
        "    'host': 40,\n",
        "    '0': 0\n",
        "\n",
        "\n",
        "}"
      ],
      "metadata": {
        "id": "h5qgrKa3BHwg"
      },
      "execution_count": 10,
      "outputs": []
    },
    {
      "cell_type": "code",
      "source": [
        "df['preferred_tags1'] = df['preferred_tags1'].map(tag_to_code)\n",
        "df['preferred_tags2'] = df['preferred_tags2'].map(tag_to_code)\n",
        "df['preferred_tags3'] = df['preferred_tags3'].map(tag_to_code)"
      ],
      "metadata": {
        "id": "78TElKbsCXEw"
      },
      "execution_count": 11,
      "outputs": []
    },
    {
      "cell_type": "code",
      "source": [
        "# Calculate min and max values for the column\n",
        "min_value = df['preferred_tags1'].min()\n",
        "max_value = df['preferred_tags1'].max()\n",
        "\n",
        "# Apply min-max scaling to the column\n",
        "df['preferred_tags1'] = (df[['preferred_tags1']] - min_value) / (max_value - min_value)\n"
      ],
      "metadata": {
        "id": "myosVmJUCW_l"
      },
      "execution_count": 14,
      "outputs": []
    },
    {
      "cell_type": "code",
      "source": [
        "min_value = df['preferred_tags2'].min()\n",
        "max_value = df['preferred_tags2'].max()\n",
        "\n",
        "# Apply min-max scaling to the column\n",
        "df['preferred_tags2'] = (df[['preferred_tags2']] - min_value) / (max_value - min_value)"
      ],
      "metadata": {
        "id": "3NC_I8bcCW6a"
      },
      "execution_count": 15,
      "outputs": []
    },
    {
      "cell_type": "code",
      "source": [
        "min_value = df['preferred_tags3'].min()\n",
        "max_value = df['preferred_tags3'].max()\n",
        "\n",
        "# Apply min-max scaling to the column\n",
        "df['preferred_tags3'] = (df[['preferred_tags3']] - min_value) / (max_value - min_value)"
      ],
      "metadata": {
        "id": "CTlCx1YZCW1a"
      },
      "execution_count": 16,
      "outputs": []
    },
    {
      "cell_type": "code",
      "source": [
        "import numpy as np\n",
        "x= np.array(df.iloc[:,0:9])\n",
        "y = np.array(df.iloc[:,-7:])\n"
      ],
      "metadata": {
        "id": "9HUxYY8G_y-U"
      },
      "execution_count": 36,
      "outputs": []
    },
    {
      "cell_type": "code",
      "source": [
        "y = y.argmax(axis=1)"
      ],
      "metadata": {
        "id": "L4u8ylH6EdMc"
      },
      "execution_count": 50,
      "outputs": []
    },
    {
      "cell_type": "code",
      "source": [
        "from sklearn.model_selection import train_test_split, GridSearchCV\n",
        "from sklearn.svm import SVC\n",
        "from sklearn.metrics import accuracy_score\n",
        "X_train, X_test, y_train, y_test = train_test_split(x,y, test_size=0.2, random_state=42)"
      ],
      "metadata": {
        "id": "Tfc0qJu-CWtg"
      },
      "execution_count": 51,
      "outputs": []
    },
    {
      "cell_type": "code",
      "source": [
        "y_train.shape\n"
      ],
      "metadata": {
        "colab": {
          "base_uri": "https://localhost:8080/"
        },
        "id": "jPN2aCI98a_9",
        "outputId": "c0313dfe-dd51-4001-83a2-2edf5e4bd547"
      },
      "execution_count": 52,
      "outputs": [
        {
          "output_type": "execute_result",
          "data": {
            "text/plain": [
              "(655,)"
            ]
          },
          "metadata": {},
          "execution_count": 52
        }
      ]
    },
    {
      "cell_type": "code",
      "source": [
        "# Initialize and train an SVM classifier with hyperparameter tuning\n",
        "param_grid = {'C': [0.1, 1, 10], 'kernel': ['linear']}\n",
        "grid_search = GridSearchCV(SVC(), param_grid, cv=3)\n",
        "grid_search.fit(X_train, y_train)\n",
        "\n",
        "# Get the best model from the grid search\n",
        "best_model = grid_search.best_estimator_\n",
        "\n",
        "# Make predictions on the test set\n",
        "predictions = best_model.predict(X_test)\n",
        "\n",
        "# Calculate the accuracy of the model\n",
        "accuracy = accuracy_score(y_test, predictions)\n",
        "print(\"Accuracy:\", accuracy)\n"
      ],
      "metadata": {
        "colab": {
          "base_uri": "https://localhost:8080/"
        },
        "id": "JzcPbi459rNi",
        "outputId": "d1f718f0-3db1-4e2a-8bb3-c911880d92f4"
      },
      "execution_count": 58,
      "outputs": [
        {
          "output_type": "stream",
          "name": "stdout",
          "text": [
            "Accuracy: 0.5548780487804879\n"
          ]
        }
      ]
    },
    {
      "cell_type": "code",
      "source": [
        "for i, (pred_label, true_label) in enumerate(zip(predictions, y_test)):\n",
        "    print(f\"Instance {i + 1}:\")\n",
        "    print(\"Predicted label:\", pred_label)\n",
        "    print(\"True label:\", true_label)\n",
        "    print(\"=\" * 40)"
      ],
      "metadata": {
        "id": "FjpZAJ_5NBPP"
      },
      "execution_count": null,
      "outputs": []
    },
    {
      "cell_type": "markdown",
      "source": [
        "# **Random forest**"
      ],
      "metadata": {
        "id": "1HLyQ09ZShA5"
      }
    },
    {
      "cell_type": "code",
      "source": [
        "from sklearn.ensemble import RandomForestClassifier\n",
        "from sklearn.model_selection import RandomizedSearchCV\n",
        "rf_classifier = RandomForestClassifier()\n",
        "param_grid = {\n",
        "   'n_estimators': [100, 200, 300],\n",
        "   'max_depth': [None, 10, 20, 30],\n",
        "   'min_samples_split': [2, 5, 10],\n",
        "   'min_samples_leaf': [1, 2, 4],\n",
        "   'max_features': ['auto', 'sqrt', 'log2'],\n",
        "   'bootstrap': [True, False]\n",
        "}\n",
        "random_search = RandomizedSearchCV(estimator=rf_classifier, param_distributions=param_grid, n_iter=100, cv=5, n_jobs=-1, verbose=2, random_state=42)\n",
        "random_search.fit(X_train, y_train)\n",
        "best_rf_classifier = random_search.best_estimator_"
      ],
      "metadata": {
        "colab": {
          "base_uri": "https://localhost:8080/"
        },
        "id": "Pogm30RfO-_-",
        "outputId": "b19119ab-4971-439a-b4e7-218e8395e5ce"
      },
      "execution_count": 71,
      "outputs": [
        {
          "output_type": "stream",
          "name": "stdout",
          "text": [
            "Fitting 5 folds for each of 100 candidates, totalling 500 fits\n"
          ]
        }
      ]
    },
    {
      "cell_type": "code",
      "source": [
        "from sklearn.metrics import classification_report\n",
        "best_rf_classifier.fit(X_train, y_train)\n",
        "y_pred = best_rf_classifier.predict(X_test)\n",
        "\n",
        "# Calculate the accuracy of the model\n",
        "accuracy = accuracy_score(y_test, y_pred)\n",
        "print(\"Accuracy:\", accuracy)\n",
        "report = classification_report(y_test, y_pred)\n",
        "print(\"report:\", report)"
      ],
      "metadata": {
        "colab": {
          "base_uri": "https://localhost:8080/"
        },
        "id": "DrKpZ2Q2Qpe5",
        "outputId": "bc5e8c1b-3c5e-4df0-cae2-4756385384d8"
      },
      "execution_count": 72,
      "outputs": [
        {
          "output_type": "stream",
          "name": "stdout",
          "text": [
            "Accuracy: 0.9573170731707317\n",
            "report:               precision    recall  f1-score   support\n",
            "\n",
            "           0       0.96      0.98      0.97        48\n",
            "           1       0.97      0.98      0.97        57\n",
            "           2       1.00      0.96      0.98        47\n",
            "           3       0.50      0.50      0.50         2\n",
            "           4       0.89      0.89      0.89         9\n",
            "           5       0.00      0.00      0.00         0\n",
            "           6       0.00      0.00      0.00         1\n",
            "\n",
            "    accuracy                           0.96       164\n",
            "   macro avg       0.62      0.62      0.62       164\n",
            "weighted avg       0.96      0.96      0.96       164\n",
            "\n"
          ]
        },
        {
          "output_type": "stream",
          "name": "stderr",
          "text": [
            "/usr/local/lib/python3.10/dist-packages/sklearn/metrics/_classification.py:1344: UndefinedMetricWarning: Precision and F-score are ill-defined and being set to 0.0 in labels with no predicted samples. Use `zero_division` parameter to control this behavior.\n",
            "  _warn_prf(average, modifier, msg_start, len(result))\n",
            "/usr/local/lib/python3.10/dist-packages/sklearn/metrics/_classification.py:1344: UndefinedMetricWarning: Recall and F-score are ill-defined and being set to 0.0 in labels with no true samples. Use `zero_division` parameter to control this behavior.\n",
            "  _warn_prf(average, modifier, msg_start, len(result))\n",
            "/usr/local/lib/python3.10/dist-packages/sklearn/metrics/_classification.py:1344: UndefinedMetricWarning: Precision and F-score are ill-defined and being set to 0.0 in labels with no predicted samples. Use `zero_division` parameter to control this behavior.\n",
            "  _warn_prf(average, modifier, msg_start, len(result))\n",
            "/usr/local/lib/python3.10/dist-packages/sklearn/metrics/_classification.py:1344: UndefinedMetricWarning: Recall and F-score are ill-defined and being set to 0.0 in labels with no true samples. Use `zero_division` parameter to control this behavior.\n",
            "  _warn_prf(average, modifier, msg_start, len(result))\n",
            "/usr/local/lib/python3.10/dist-packages/sklearn/metrics/_classification.py:1344: UndefinedMetricWarning: Precision and F-score are ill-defined and being set to 0.0 in labels with no predicted samples. Use `zero_division` parameter to control this behavior.\n",
            "  _warn_prf(average, modifier, msg_start, len(result))\n",
            "/usr/local/lib/python3.10/dist-packages/sklearn/metrics/_classification.py:1344: UndefinedMetricWarning: Recall and F-score are ill-defined and being set to 0.0 in labels with no true samples. Use `zero_division` parameter to control this behavior.\n",
            "  _warn_prf(average, modifier, msg_start, len(result))\n"
          ]
        }
      ]
    },
    {
      "cell_type": "code",
      "source": [
        "for i, (pred_label, true_label) in enumerate(zip(predictions, y_test)):\n",
        "    print(f\"Instance {i + 1}:\")\n",
        "    print(\"Predicted label:\", pred_label)\n",
        "    print(\"True label:\", true_label)\n",
        "    print(\"=\" * 40)"
      ],
      "metadata": {
        "id": "tVM1RfYyRTEx"
      },
      "execution_count": null,
      "outputs": []
    }
  ]
}