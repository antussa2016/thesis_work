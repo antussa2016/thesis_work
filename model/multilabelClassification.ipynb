{
  "nbformat": 4,
  "nbformat_minor": 0,
  "metadata": {
    "colab": {
      "provenance": [],
      "authorship_tag": "ABX9TyPDHhw9VAhe/IRpzfwxKHsS",
      "include_colab_link": true
    },
    "kernelspec": {
      "name": "python3",
      "display_name": "Python 3"
    },
    "language_info": {
      "name": "python"
    }
  },
  "cells": [
    {
      "cell_type": "markdown",
      "metadata": {
        "id": "view-in-github",
        "colab_type": "text"
      },
      "source": [
        "<a href=\"https://colab.research.google.com/github/antussa2016/thesis_work/blob/master/model/multilabelClassification.ipynb\" target=\"_parent\"><img src=\"https://colab.research.google.com/assets/colab-badge.svg\" alt=\"Open In Colab\"/></a>"
      ]
    },
    {
      "cell_type": "code",
      "execution_count": null,
      "metadata": {
        "colab": {
          "base_uri": "https://localhost:8080/"
        },
        "id": "qnOdkHPj3aHY",
        "outputId": "7c8f7acb-07e0-4a0d-f329-7c088f3bc7f8"
      },
      "outputs": [
        {
          "output_type": "stream",
          "name": "stdout",
          "text": [
            "Accuracy: 0.7\n"
          ]
        }
      ],
      "source": [
        "from sklearn.datasets import make_multilabel_classification\n",
        "from sklearn.model_selection import train_test_split, GridSearchCV\n",
        "from sklearn.svm import SVC\n",
        "from sklearn.metrics import accuracy_score\n",
        "\n",
        "# Generate a multilabel dataset\n",
        "X, y = make_multilabel_classification(n_samples=100, n_classes=3, n_labels=2, random_state=42)\n",
        "\n",
        "# Flatten the target labels array\n",
        "y_flattened = y.argmax(axis=1)\n",
        "\n",
        "# Split the data into training and testing sets\n",
        "X_train, X_test, y_train, y_test = train_test_split(X, y_flattened, test_size=0.2, random_state=42)\n",
        "\n",
        "# Initialize and train an SVM classifier with hyperparameter tuning\n",
        "param_grid = {'C': [0.1, 1, 10], 'kernel': ['linear']}\n",
        "grid_search = GridSearchCV(SVC(), param_grid, cv=3)\n",
        "grid_search.fit(X_train, y_train)\n",
        "\n",
        "# Get the best model from the grid search\n",
        "best_model = grid_search.best_estimator_\n",
        "\n",
        "# Make predictions on the test set\n",
        "predictions = best_model.predict(X_test)\n",
        "\n",
        "# Calculate the accuracy of the model\n",
        "accuracy = accuracy_score(y_test, predictions)\n",
        "print(\"Accuracy:\", accuracy)"
      ]
    },
    {
      "cell_type": "code",
      "source": [
        "for i, (pred_label, true_label) in enumerate(zip(predictions, y_test)):\n",
        "    print(f\"Instance {i + 1}:\")\n",
        "    print(\"Predicted label:\", pred_label)\n",
        "    print(\"True label:\", true_label)\n",
        "    print(\"=\" * 40)"
      ],
      "metadata": {
        "id": "Hym09mB29q6e",
        "outputId": "3327df48-5903-4239-bfed-17a5fadc7377",
        "colab": {
          "base_uri": "https://localhost:8080/"
        }
      },
      "execution_count": null,
      "outputs": [
        {
          "output_type": "stream",
          "name": "stdout",
          "text": [
            "Instance 1:\n",
            "Predicted label: 0\n",
            "True label: 0\n",
            "========================================\n",
            "Instance 2:\n",
            "Predicted label: 1\n",
            "True label: 1\n",
            "========================================\n",
            "Instance 3:\n",
            "Predicted label: 0\n",
            "True label: 1\n",
            "========================================\n",
            "Instance 4:\n",
            "Predicted label: 0\n",
            "True label: 0\n",
            "========================================\n",
            "Instance 5:\n",
            "Predicted label: 2\n",
            "True label: 1\n",
            "========================================\n",
            "Instance 6:\n",
            "Predicted label: 1\n",
            "True label: 0\n",
            "========================================\n",
            "Instance 7:\n",
            "Predicted label: 0\n",
            "True label: 0\n",
            "========================================\n",
            "Instance 8:\n",
            "Predicted label: 0\n",
            "True label: 1\n",
            "========================================\n",
            "Instance 9:\n",
            "Predicted label: 0\n",
            "True label: 1\n",
            "========================================\n",
            "Instance 10:\n",
            "Predicted label: 1\n",
            "True label: 1\n",
            "========================================\n",
            "Instance 11:\n",
            "Predicted label: 0\n",
            "True label: 0\n",
            "========================================\n",
            "Instance 12:\n",
            "Predicted label: 1\n",
            "True label: 1\n",
            "========================================\n",
            "Instance 13:\n",
            "Predicted label: 0\n",
            "True label: 0\n",
            "========================================\n",
            "Instance 14:\n",
            "Predicted label: 1\n",
            "True label: 1\n",
            "========================================\n",
            "Instance 15:\n",
            "Predicted label: 1\n",
            "True label: 1\n",
            "========================================\n",
            "Instance 16:\n",
            "Predicted label: 1\n",
            "True label: 1\n",
            "========================================\n",
            "Instance 17:\n",
            "Predicted label: 1\n",
            "True label: 0\n",
            "========================================\n",
            "Instance 18:\n",
            "Predicted label: 0\n",
            "True label: 0\n",
            "========================================\n",
            "Instance 19:\n",
            "Predicted label: 0\n",
            "True label: 0\n",
            "========================================\n",
            "Instance 20:\n",
            "Predicted label: 0\n",
            "True label: 0\n",
            "========================================\n"
          ]
        }
      ]
    },
    {
      "cell_type": "code",
      "source": [
        "from sklearn.model_selection import train_test_split\n",
        "from sklearn.multioutput import MultiOutputClassifier\n",
        "from sklearn.neighbors import KNeighborsClassifier\n",
        "from sklearn.feature_extraction.text import TfidfVectorizer\n",
        "from sklearn.preprocessing import MultiLabelBinarizer\n",
        "import numpy as np\n",
        "from sklearn.metrics import accuracy_score\n",
        "\n",
        "# Sample dataset: news articles and their categories (multi-label)\n",
        "articles = [\n",
        "    (\"Movie A\", [\"Action\", \"Thriller\"]),\n",
        "    (\"Movie B\", [\"Comedy\"]),\n",
        "    (\"Movie C\", [\"Drama\", \"Romance\"]),\n",
        "    (\"Movie D\", [\"Comedy\", \"Romance\"]),\n",
        "    (\"Movie E\", [\"Action\"])\n",
        "]\n",
        "\n",
        "# Separate articles and labels\n",
        "X = [article[0] for article in articles]\n",
        "y = [article[1] for article in articles]\n",
        "\n",
        "# Convert labels into binary format\n",
        "mlb = MultiLabelBinarizer()\n",
        "y_binary = mlb.fit_transform(y)\n",
        "\n",
        "# Vectorize article text using TF-IDF\n",
        "vectorizer = TfidfVectorizer()\n",
        "X_tfidf = vectorizer.fit_transform(X)\n",
        "\n",
        "# Split the dataset into training and testing sets\n",
        "X_train, X_test, y_train, y_test = train_test_split(X_tfidf, y_binary, test_size=0.2, random_state=42)\n",
        "\n",
        "# Initialize the classifier\n",
        "classifier = MultiOutputClassifier(KNeighborsClassifier(n_neighbors=1))\n",
        "\n",
        "# Train the classifier\n",
        "classifier.fit(X_train, y_train)\n",
        "\n",
        "# Predict categories for test articles\n",
        "y_pred = classifier.predict(X_test)\n",
        "\n",
        "# Convert predictions back to label format\n",
        "y_pred_labels = mlb.inverse_transform(y_pred)\n",
        "y_test_labels = mlb.inverse_transform(y_test)\n",
        "\n",
        "\n",
        "\n",
        "\n",
        "def predict_article_categories(input_article, vectorizer, classifier, mlb):\n",
        "    # Vectorize the input article using the same TF-IDF vectorizer\n",
        "    input_article_tfidf = vectorizer.transform([input_article])\n",
        "\n",
        "    # Predict categories for the input article\n",
        "    predicted_categories = classifier.predict(input_article_tfidf)\n",
        "\n",
        "    # Convert predictions to label format\n",
        "    predicted_labels = mlb.inverse_transform(predicted_categories)\n",
        "\n",
        "    return predicted_labels[0] if predicted_labels else []\n",
        "\n",
        "# # Display the results\n",
        "# for i, article in enumerate(X_test):\n",
        "#     print(f\"Article: {X[i]}\")\n",
        "#     print(f\"Predicted Categories: {y_pred_labels[i]}\")\n",
        "#     print(f\"Actual Categories: {y_test_labels[i]}\")\n",
        "#     print(\"=\" * 20)\n",
        "\n",
        "\n",
        "# input_article = \"Movie A\"\n",
        "# predicted_categories = predict_article_categories(input_article, vectorizer, classifier, mlb)\n",
        "# print(f\"Input Article: {input_article}\")\n",
        "# print(f\"Predicted Categories: {predicted_categories}\")\n",
        "\n",
        "accuracy = accuracy_score(y_test, y_pred)\n",
        "print(\"Accuracy:\", accuracy)"
      ],
      "metadata": {
        "colab": {
          "base_uri": "https://localhost:8080/"
        },
        "id": "mTUtWhWNGdMI",
        "outputId": "dede5270-a4b1-442f-db12-93bfc77f75a6"
      },
      "execution_count": null,
      "outputs": [
        {
          "output_type": "stream",
          "name": "stdout",
          "text": [
            "Accuracy: 0.0\n"
          ]
        }
      ]
    }
  ]
}