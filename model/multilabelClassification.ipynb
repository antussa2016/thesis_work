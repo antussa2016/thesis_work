{
  "nbformat": 4,
  "nbformat_minor": 0,
  "metadata": {
    "colab": {
      "provenance": [],
      "authorship_tag": "ABX9TyPiIvWZNMJkuv5CpSbBivRV",
      "include_colab_link": true
    },
    "kernelspec": {
      "name": "python3",
      "display_name": "Python 3"
    },
    "language_info": {
      "name": "python"
    }
  },
  "cells": [
    {
      "cell_type": "markdown",
      "metadata": {
        "id": "view-in-github",
        "colab_type": "text"
      },
      "source": [
        "<a href=\"https://colab.research.google.com/github/antussa2016/thesis_work/blob/master/model/multilabelClassification.ipynb\" target=\"_parent\"><img src=\"https://colab.research.google.com/assets/colab-badge.svg\" alt=\"Open In Colab\"/></a>"
      ]
    },
    {
      "cell_type": "code",
      "execution_count": null,
      "metadata": {
        "colab": {
          "base_uri": "https://localhost:8080/"
        },
        "id": "qnOdkHPj3aHY",
        "outputId": "7c8f7acb-07e0-4a0d-f329-7c088f3bc7f8"
      },
      "outputs": [
        {
          "output_type": "stream",
          "name": "stdout",
          "text": [
            "Accuracy: 0.7\n"
          ]
        }
      ],
      "source": [
        "from sklearn.datasets import make_multilabel_classification\n",
        "from sklearn.model_selection import train_test_split, GridSearchCV\n",
        "from sklearn.svm import SVC\n",
        "from sklearn.metrics import accuracy_score\n",
        "\n",
        "# Generate a multilabel dataset\n",
        "X, y = make_multilabel_classification(n_samples=100, n_classes=3, n_labels=2, random_state=42)\n",
        "\n",
        "# Flatten the target labels array\n",
        "y_flattened = y.argmax(axis=1)\n",
        "\n",
        "# Split the data into training and testing sets\n",
        "X_train, X_test, y_train, y_test = train_test_split(X, y_flattened, test_size=0.2, random_state=42)\n",
        "\n",
        "# Initialize and train an SVM classifier with hyperparameter tuning\n",
        "param_grid = {'C': [0.1, 1, 10], 'kernel': ['linear']}\n",
        "grid_search = GridSearchCV(SVC(), param_grid, cv=3)\n",
        "grid_search.fit(X_train, y_train)\n",
        "\n",
        "# Get the best model from the grid search\n",
        "best_model = grid_search.best_estimator_\n",
        "\n",
        "# Make predictions on the test set\n",
        "predictions = best_model.predict(X_test)\n",
        "\n",
        "# Calculate the accuracy of the model\n",
        "accuracy = accuracy_score(y_test, predictions)\n",
        "print(\"Accuracy:\", accuracy)"
      ]
    },
    {
      "cell_type": "code",
      "source": [
        "for i, (pred_label, true_label) in enumerate(zip(predictions, y_test)):\n",
        "    print(f\"Instance {i + 1}:\")\n",
        "    print(\"Predicted label:\", pred_label)\n",
        "    print(\"True label:\", true_label)\n",
        "    print(\"=\" * 40)"
      ],
      "metadata": {
        "id": "Hym09mB29q6e",
        "outputId": "3327df48-5903-4239-bfed-17a5fadc7377",
        "colab": {
          "base_uri": "https://localhost:8080/"
        }
      },
      "execution_count": null,
      "outputs": [
        {
          "output_type": "stream",
          "name": "stdout",
          "text": [
            "Instance 1:\n",
            "Predicted label: 0\n",
            "True label: 0\n",
            "========================================\n",
            "Instance 2:\n",
            "Predicted label: 1\n",
            "True label: 1\n",
            "========================================\n",
            "Instance 3:\n",
            "Predicted label: 0\n",
            "True label: 1\n",
            "========================================\n",
            "Instance 4:\n",
            "Predicted label: 0\n",
            "True label: 0\n",
            "========================================\n",
            "Instance 5:\n",
            "Predicted label: 2\n",
            "True label: 1\n",
            "========================================\n",
            "Instance 6:\n",
            "Predicted label: 1\n",
            "True label: 0\n",
            "========================================\n",
            "Instance 7:\n",
            "Predicted label: 0\n",
            "True label: 0\n",
            "========================================\n",
            "Instance 8:\n",
            "Predicted label: 0\n",
            "True label: 1\n",
            "========================================\n",
            "Instance 9:\n",
            "Predicted label: 0\n",
            "True label: 1\n",
            "========================================\n",
            "Instance 10:\n",
            "Predicted label: 1\n",
            "True label: 1\n",
            "========================================\n",
            "Instance 11:\n",
            "Predicted label: 0\n",
            "True label: 0\n",
            "========================================\n",
            "Instance 12:\n",
            "Predicted label: 1\n",
            "True label: 1\n",
            "========================================\n",
            "Instance 13:\n",
            "Predicted label: 0\n",
            "True label: 0\n",
            "========================================\n",
            "Instance 14:\n",
            "Predicted label: 1\n",
            "True label: 1\n",
            "========================================\n",
            "Instance 15:\n",
            "Predicted label: 1\n",
            "True label: 1\n",
            "========================================\n",
            "Instance 16:\n",
            "Predicted label: 1\n",
            "True label: 1\n",
            "========================================\n",
            "Instance 17:\n",
            "Predicted label: 1\n",
            "True label: 0\n",
            "========================================\n",
            "Instance 18:\n",
            "Predicted label: 0\n",
            "True label: 0\n",
            "========================================\n",
            "Instance 19:\n",
            "Predicted label: 0\n",
            "True label: 0\n",
            "========================================\n",
            "Instance 20:\n",
            "Predicted label: 0\n",
            "True label: 0\n",
            "========================================\n"
          ]
        }
      ]
    }
  ]
}