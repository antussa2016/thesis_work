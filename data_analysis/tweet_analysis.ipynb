{
  "nbformat": 4,
  "nbformat_minor": 0,
  "metadata": {
    "colab": {
      "provenance": [],
      "authorship_tag": "ABX9TyOFKVz173vqsnihocaIGEZ6",
      "include_colab_link": true
    },
    "kernelspec": {
      "name": "python3",
      "display_name": "Python 3"
    },
    "language_info": {
      "name": "python"
    }
  },
  "cells": [
    {
      "cell_type": "markdown",
      "metadata": {
        "id": "view-in-github",
        "colab_type": "text"
      },
      "source": [
        "<a href=\"https://colab.research.google.com/github/antussa2016/thesis_work/blob/master/data_analysis/tweet_analysis.ipynb\" target=\"_parent\"><img src=\"https://colab.research.google.com/assets/colab-badge.svg\" alt=\"Open In Colab\"/></a>"
      ]
    },
    {
      "cell_type": "code",
      "execution_count": null,
      "metadata": {
        "colab": {
          "base_uri": "https://localhost:8080/"
        },
        "id": "unDCmiXSvFKG",
        "outputId": "abd353bd-452d-4d9b-da9e-0e070436ea95"
      },
      "outputs": [
        {
          "output_type": "stream",
          "name": "stdout",
          "text": [
            "Mounted at /content/drive\n"
          ]
        }
      ],
      "source": [
        "from google.colab import drive\n",
        "drive.mount('/content/drive')"
      ]
    },
    {
      "cell_type": "code",
      "source": [
        "import pandas as pd\n",
        "import re\n",
        "import os"
      ],
      "metadata": {
        "id": "kJq0qamKvx2f"
      },
      "execution_count": null,
      "outputs": []
    },
    {
      "cell_type": "code",
      "source": [
        "df = pd.read_csv('/content/drive/MyDrive/Demo_dataframe.csv')"
      ],
      "metadata": {
        "id": "k5FUVTILvcx_"
      },
      "execution_count": null,
      "outputs": []
    },
    {
      "cell_type": "code",
      "source": [
        "df.info()"
      ],
      "metadata": {
        "colab": {
          "base_uri": "https://localhost:8080/"
        },
        "id": "e0bu-72-wVp_",
        "outputId": "4f0caf34-bae0-45e4-eed0-328c8f06d8c4"
      },
      "execution_count": null,
      "outputs": [
        {
          "output_type": "stream",
          "name": "stdout",
          "text": [
            "<class 'pandas.core.frame.DataFrame'>\n",
            "RangeIndex: 1247 entries, 0 to 1246\n",
            "Data columns (total 13 columns):\n",
            " #   Column                  Non-Null Count  Dtype  \n",
            "---  ------                  --------------  -----  \n",
            " 0   Twitter ID              1247 non-null   object \n",
            " 1   big5_openness           1247 non-null   float64\n",
            " 2   big5_conscientiousness  1247 non-null   float64\n",
            " 3   big5_extraversion       1247 non-null   float64\n",
            " 4   big5_agreeableness      1247 non-null   float64\n",
            " 5   big5_neuroticism        1247 non-null   float64\n",
            " 6   class_label             1247 non-null   object \n",
            " 7   Reputation              1247 non-null   float64\n",
            " 8   Question                1247 non-null   float64\n",
            " 9   Answer                  1247 non-null   float64\n",
            " 10  Bert_encoding           1247 non-null   object \n",
            " 11  Twitter_sername         1247 non-null   object \n",
            " 12  New_encoded_values      1247 non-null   object \n",
            "dtypes: float64(8), object(5)\n",
            "memory usage: 126.8+ KB\n"
          ]
        }
      ]
    },
    {
      "cell_type": "markdown",
      "source": [
        "# **delete duplicates**"
      ],
      "metadata": {
        "id": "bon3RlITfwOP"
      }
    },
    {
      "cell_type": "code",
      "source": [
        "cols_to_check = ['Twitter ID']\n",
        "\n",
        "# Drop the duplicates\n",
        "df = df.drop_duplicates(subset=cols_to_check, keep='first')\n",
        "\n",
        "# Write the cleaned dataset to a new file\n"
      ],
      "metadata": {
        "id": "oUt_AciGwUiu"
      },
      "execution_count": null,
      "outputs": []
    },
    {
      "cell_type": "code",
      "source": [
        "df.info()"
      ],
      "metadata": {
        "colab": {
          "base_uri": "https://localhost:8080/"
        },
        "id": "atV3v7tewkQA",
        "outputId": "1a0883a9-870e-4389-ebc5-b50d87a5d2a8"
      },
      "execution_count": null,
      "outputs": [
        {
          "output_type": "stream",
          "name": "stdout",
          "text": [
            "<class 'pandas.core.frame.DataFrame'>\n",
            "Int64Index: 805 entries, 0 to 1245\n",
            "Data columns (total 13 columns):\n",
            " #   Column                  Non-Null Count  Dtype  \n",
            "---  ------                  --------------  -----  \n",
            " 0   Twitter ID              805 non-null    object \n",
            " 1   big5_openness           805 non-null    float64\n",
            " 2   big5_conscientiousness  805 non-null    float64\n",
            " 3   big5_extraversion       805 non-null    float64\n",
            " 4   big5_agreeableness      805 non-null    float64\n",
            " 5   big5_neuroticism        805 non-null    float64\n",
            " 6   class_label             805 non-null    object \n",
            " 7   Reputation              805 non-null    float64\n",
            " 8   Question                805 non-null    float64\n",
            " 9   Answer                  805 non-null    float64\n",
            " 10  Bert_encoding           805 non-null    object \n",
            " 11  Twitter_sername         805 non-null    object \n",
            " 12  New_encoded_values      805 non-null    object \n",
            "dtypes: float64(8), object(5)\n",
            "memory usage: 88.0+ KB\n"
          ]
        }
      ]
    },
    {
      "cell_type": "code",
      "source": [
        "df1=pd.read_csv('/content/drive/MyDrive/changed_encoded_files.csv')"
      ],
      "metadata": {
        "id": "gmcuo6X-1Iwc"
      },
      "execution_count": null,
      "outputs": []
    },
    {
      "cell_type": "code",
      "source": [
        "df1.info()"
      ],
      "metadata": {
        "colab": {
          "base_uri": "https://localhost:8080/"
        },
        "id": "2cx4yV1z1dhA",
        "outputId": "7a1b9dc0-c1d5-4d05-81c2-a5c21765f078"
      },
      "execution_count": null,
      "outputs": [
        {
          "output_type": "stream",
          "name": "stdout",
          "text": [
            "<class 'pandas.core.frame.DataFrame'>\n",
            "RangeIndex: 963 entries, 0 to 962\n",
            "Data columns (total 4 columns):\n",
            " #   Column            Non-Null Count  Dtype \n",
            "---  ------            --------------  ----- \n",
            " 0   File name         963 non-null    object\n",
            " 1   new_column        963 non-null    object\n",
            " 2   new_name1         963 non-null    object\n",
            " 3   Extracting_name1  963 non-null    object\n",
            "dtypes: object(4)\n",
            "memory usage: 30.2+ KB\n"
          ]
        }
      ]
    },
    {
      "cell_type": "code",
      "source": [
        "df1['Extracting_name1'] = df1['Extracting_name1'].replace('stienmantweet', 'stienman')"
      ],
      "metadata": {
        "id": "bQmJTDxf1zBj"
      },
      "execution_count": null,
      "outputs": []
    },
    {
      "cell_type": "code",
      "source": [
        "df1['Extracting_name1'] = df1['Extracting_name1'].replace('bi', 'tweetsbi')"
      ],
      "metadata": {
        "id": "juewKGZp11AN"
      },
      "execution_count": null,
      "outputs": []
    },
    {
      "cell_type": "code",
      "source": [
        "k = 2\n",
        "i = 2\n",
        "\n",
        "new_column = []\n",
        "for index, row in df.iterrows():\n",
        "    print(\"1st loop\",i)\n",
        "\n",
        "    j = 0\n",
        "    p=0\n",
        "    for value in df1[\"Extracting_name1\"]:\n",
        "        if j == 0:\n",
        "            if row['Twitter_sername'] == value:\n",
        "                # print( f\"{row['Twitter_sername']}\",value,k,\"main dataframe\", i)\n",
        "\n",
        "                # print(\"2nd loop\",k)\n",
        "                k+=1\n",
        "\n",
        "                name1= df1[\"File name\"][p]\n",
        "                new_column.append(name1)\n",
        "                j += 1\n",
        "\n",
        "            else:\n",
        "                p += 1\n",
        "                continue\n",
        "                # print(f\"{row2}\")\n",
        "                print(\"NaN\")\n",
        "        p += 1\n",
        "    i += 1\n",
        "\n",
        "df['File name']=new_column"
      ],
      "metadata": {
        "id": "IsgI8I3U13O5"
      },
      "execution_count": null,
      "outputs": []
    },
    {
      "cell_type": "code",
      "source": [
        "df.info()"
      ],
      "metadata": {
        "colab": {
          "base_uri": "https://localhost:8080/"
        },
        "id": "gzz_56cn404g",
        "outputId": "f2105709-f34a-449b-b26d-ac8501db8966"
      },
      "execution_count": null,
      "outputs": [
        {
          "output_type": "stream",
          "name": "stdout",
          "text": [
            "<class 'pandas.core.frame.DataFrame'>\n",
            "Int64Index: 805 entries, 0 to 1245\n",
            "Data columns (total 14 columns):\n",
            " #   Column                  Non-Null Count  Dtype  \n",
            "---  ------                  --------------  -----  \n",
            " 0   Twitter ID              805 non-null    object \n",
            " 1   big5_openness           805 non-null    float64\n",
            " 2   big5_conscientiousness  805 non-null    float64\n",
            " 3   big5_extraversion       805 non-null    float64\n",
            " 4   big5_agreeableness      805 non-null    float64\n",
            " 5   big5_neuroticism        805 non-null    float64\n",
            " 6   class_label             805 non-null    object \n",
            " 7   Reputation              805 non-null    float64\n",
            " 8   Question                805 non-null    float64\n",
            " 9   Answer                  805 non-null    float64\n",
            " 10  Bert_encoding           805 non-null    object \n",
            " 11  Twitter_sername         805 non-null    object \n",
            " 12  New_encoded_values      805 non-null    object \n",
            " 13  File name               805 non-null    object \n",
            "dtypes: float64(8), object(6)\n",
            "memory usage: 94.3+ KB\n"
          ]
        }
      ]
    },
    {
      "cell_type": "code",
      "source": [
        "folder_path = '/content/drive/MyDrive/tweet1/tweet'"
      ],
      "metadata": {
        "id": "YDcg15Oi5MA5"
      },
      "execution_count": null,
      "outputs": []
    },
    {
      "cell_type": "code",
      "source": [
        "file_names = os.listdir(folder_path)"
      ],
      "metadata": {
        "id": "KZyK2A3u5YNk"
      },
      "execution_count": null,
      "outputs": []
    },
    {
      "cell_type": "code",
      "source": [
        "csv_files = [file_name for file_name in file_names if file_name.endswith('.csv')]"
      ],
      "metadata": {
        "id": "Q0-HbhBV5dhN"
      },
      "execution_count": null,
      "outputs": []
    },
    {
      "cell_type": "code",
      "source": [
        "import nltk\n",
        "nltk.download('punkt')\n",
        "from nltk.tokenize import word_tokenize"
      ],
      "metadata": {
        "colab": {
          "base_uri": "https://localhost:8080/"
        },
        "id": "F_QXfPKd-OBe",
        "outputId": "06f1c70b-5dfb-4163-9bee-def9c18e84e0"
      },
      "execution_count": null,
      "outputs": [
        {
          "output_type": "stream",
          "name": "stderr",
          "text": [
            "[nltk_data] Downloading package punkt to /root/nltk_data...\n",
            "[nltk_data]   Unzipping tokenizers/punkt.zip.\n"
          ]
        }
      ]
    },
    {
      "cell_type": "code",
      "source": [
        "nltk.download('stopwords')"
      ],
      "metadata": {
        "colab": {
          "base_uri": "https://localhost:8080/"
        },
        "id": "kvC_eSDh-m8j",
        "outputId": "71b7eda3-aa41-418b-cb41-8492e4e4c890"
      },
      "execution_count": null,
      "outputs": [
        {
          "output_type": "stream",
          "name": "stderr",
          "text": [
            "[nltk_data] Downloading package stopwords to /root/nltk_data...\n",
            "[nltk_data]   Unzipping corpora/stopwords.zip.\n"
          ]
        },
        {
          "output_type": "execute_result",
          "data": {
            "text/plain": [
              "True"
            ]
          },
          "metadata": {},
          "execution_count": 17
        }
      ]
    },
    {
      "cell_type": "code",
      "source": [
        "k = 0\n",
        "num_words = 0\n",
        "new_column = []\n",
        "for index, row in df.iterrows():\n",
        "    for file_name in csv_files:\n",
        "        if row['File name'] == file_name:\n",
        "            df3=file_name\n",
        "            df3=pd.read_csv(f'/content/drive/MyDrive/tweet1/tweet/{df3}')\n",
        "            # column=df3['tweet'].name\n",
        "\n",
        "            if ('tweet' in df3.columns) & ('text' not in df3.columns):\n",
        "                tweets_column = \"tweet\"\n",
        "                tokens = df3[tweets_column].apply(word_tokenize)\n",
        "\n",
        "                # Flatten the list of tokens\n",
        "                words = [word for tweet in tokens for word in tweet]\n",
        "\n",
        "                # Remove stopwords and punctuation marks\n",
        "                stopwords = set(nltk.corpus.stopwords.words('english'))\n",
        "                words = [word.lower() for word in words if word.isalpha() and word.lower() not in stopwords]\n",
        "\n",
        "                # Count the number of words\n",
        "                num_words = len(words)\n",
        "                # num_tweets += len(df3[tweets_column])\n",
        "                print(\"tweet words\",num_words,k)\n",
        "                new_column.append(num_words)\n",
        "                k +=1\n",
        "            else:\n",
        "                tweets_column = \"text\"\n",
        "                df4 = pd.DataFrame(df3[tweets_column].dropna().tolist(),columns=['text'])\n",
        "\n",
        "                tokens = df4[tweets_column].apply(word_tokenize)\n",
        "\n",
        "                # Flatten the list of tokens\n",
        "                words = [word for tweet in tokens for word in tweet]\n",
        "\n",
        "                # Remove stopwords and punctuation marks\n",
        "                stopwords = set(nltk.corpus.stopwords.words('english'))\n",
        "                words = [word.lower() for word in words if word.isalpha() and word.lower() not in stopwords]\n",
        "\n",
        "                # Count the number of words\n",
        "                num_words = len(words)\n",
        "\n",
        "                print(\"tweet words\",num_words,k)\n",
        "                new_column.append(num_words)\n",
        "                k +=1\n",
        "\n",
        "\n",
        "\n",
        "\n",
        "print(num_words)\n"
      ],
      "metadata": {
        "id": "gjIijFcj5Ha9"
      },
      "execution_count": null,
      "outputs": []
    },
    {
      "cell_type": "code",
      "source": [
        "df['words'] = new_column"
      ],
      "metadata": {
        "id": "WIVAIisJvvB3"
      },
      "execution_count": null,
      "outputs": []
    },
    {
      "cell_type": "code",
      "source": [
        "df.info()"
      ],
      "metadata": {
        "colab": {
          "base_uri": "https://localhost:8080/"
        },
        "id": "Q9Rrhx49xZhx",
        "outputId": "b8cb2649-8420-46e4-a04d-41b5f813e843"
      },
      "execution_count": null,
      "outputs": [
        {
          "output_type": "stream",
          "name": "stdout",
          "text": [
            "<class 'pandas.core.frame.DataFrame'>\n",
            "Int64Index: 805 entries, 0 to 1245\n",
            "Data columns (total 15 columns):\n",
            " #   Column                  Non-Null Count  Dtype  \n",
            "---  ------                  --------------  -----  \n",
            " 0   Twitter ID              805 non-null    object \n",
            " 1   big5_openness           805 non-null    float64\n",
            " 2   big5_conscientiousness  805 non-null    float64\n",
            " 3   big5_extraversion       805 non-null    float64\n",
            " 4   big5_agreeableness      805 non-null    float64\n",
            " 5   big5_neuroticism        805 non-null    float64\n",
            " 6   class_label             805 non-null    object \n",
            " 7   Reputation              805 non-null    float64\n",
            " 8   Question                805 non-null    float64\n",
            " 9   Answer                  805 non-null    float64\n",
            " 10  Bert_encoding           805 non-null    object \n",
            " 11  Twitter_sername         805 non-null    object \n",
            " 12  New_encoded_values      805 non-null    object \n",
            " 13  File name               805 non-null    object \n",
            " 14  words                   805 non-null    int64  \n",
            "dtypes: float64(8), int64(1), object(6)\n",
            "memory usage: 100.6+ KB\n"
          ]
        }
      ]
    },
    {
      "cell_type": "code",
      "source": [
        "\n",
        "max_tweets =df['words'].min()\n",
        "max_tweets"
      ],
      "metadata": {
        "colab": {
          "base_uri": "https://localhost:8080/"
        },
        "id": "aeDwuCBRxeXc",
        "outputId": "9b933d24-5a01-4bab-e0d0-b50d76417db0"
      },
      "execution_count": null,
      "outputs": [
        {
          "output_type": "execute_result",
          "data": {
            "text/plain": [
              "68"
            ]
          },
          "metadata": {},
          "execution_count": 46
        }
      ]
    },
    {
      "cell_type": "code",
      "source": [
        "k = 0\n",
        "num_words = 0\n",
        "new_column = []\n",
        "\n",
        "for index, row in df.iterrows():\n",
        "    for file_name in csv_files:\n",
        "        if row['File name'] == file_name:\n",
        "            df3=file_name\n",
        "            df3=pd.read_csv(f'/content/drive/MyDrive/tweet1/tweet/{df3}')\n",
        "            # column=df3['tweet'].name\n",
        "\n",
        "            if ('tweet' in df3.columns) & ('text' not in df3.columns):\n",
        "                tweets_column = \"tweet\"\n",
        "                num_words = len(df3[tweets_column])\n",
        "                # num_tweets += len(df3[tweets_column])\n",
        "                print(\"total tweet\", num_words,k)\n",
        "                new_column.append(num_words)\n",
        "                k +=1\n",
        "            else:\n",
        "                tweets_column = \"text\"\n",
        "\n",
        "                num_words = len(df3[tweets_column].dropna().tolist())\n",
        "                new_column.append(num_words)\n",
        "                print(\"total tweet\", num_words,k)\n",
        "                k +=1\n",
        "\n",
        "\n",
        "\n",
        "\n",
        "avg_tweets = num_words / df['File name'].nunique()\n",
        "print(\"total and averge tweets\",num_words,avg_tweets)\n"
      ],
      "metadata": {
        "id": "q_85JaQLDx63"
      },
      "execution_count": null,
      "outputs": []
    },
    {
      "cell_type": "code",
      "source": [
        "df['tweet_number'] = new_column"
      ],
      "metadata": {
        "id": "ouZbgl_E03ZI"
      },
      "execution_count": null,
      "outputs": []
    },
    {
      "cell_type": "code",
      "source": [
        "max_tweets =df['tweet_number'].max()\n",
        "print(max_tweets)\n",
        "min_tweets =df['tweet_number'].min()\n",
        "print(min_tweets)"
      ],
      "metadata": {
        "colab": {
          "base_uri": "https://localhost:8080/"
        },
        "id": "A9XRMl4L0_sN",
        "outputId": "fabb3e78-cc5a-46cb-934f-295d0be03f4c"
      },
      "execution_count": null,
      "outputs": [
        {
          "output_type": "stream",
          "name": "stdout",
          "text": [
            "3247\n",
            "9\n"
          ]
        }
      ]
    },
    {
      "cell_type": "code",
      "source": [
        "k = 0\n",
        "num_words = 0\n",
        "new_column = []\n",
        "total_words = 0\n",
        "\n",
        "for index, row in df.iterrows():\n",
        "    for file_name in csv_files:\n",
        "        if row['File name'] == file_name:\n",
        "            df3=file_name\n",
        "            df3=pd.read_csv(f'/content/drive/MyDrive/tweet1/tweet/{df3}')\n",
        "            # column=df3['tweet'].name\n",
        "\n",
        "            if ('tweet' in df3.columns) & ('text' not in df3.columns):\n",
        "                tweets_column = \"tweet\"\n",
        "                df3['num_words'] = df3[tweets_column].apply(lambda x: len(x.split()))\n",
        "                total_words += df3['num_words'].sum()\n",
        "                # num_tweets += len(df3[tweets_column])\n",
        "                print(\"total tweet\", total_words,k)\n",
        "\n",
        "                k +=1\n",
        "            else:\n",
        "                tweets_column = \"text\"\n",
        "                df4 = pd.DataFrame(df3[tweets_column].dropna().tolist(),columns=['text'])\n",
        "                df4['num_words'] = df4[tweets_column].apply(lambda x: len(x.split()))\n",
        "                total_words += df4['num_words'].sum()\n",
        "\n",
        "                print(\"total tweet\", total_words,k)\n",
        "                k +=1\n",
        "\n",
        "print (\"total sum of words from tweets\",total_words)\n",
        "print (\"Average of words in tweets\",total_words/805)\n",
        ""
      ],
      "metadata": {
        "id": "OQYbsqIuRyhO"
      },
      "execution_count": null,
      "outputs": []
    },
    {
      "cell_type": "code",
      "source": [
        "21211409/805"
      ],
      "metadata": {
        "colab": {
          "base_uri": "https://localhost:8080/"
        },
        "id": "JglED7mWTsc6",
        "outputId": "322376f5-6bd0-44f8-bb5c-00f20fcd9979"
      },
      "execution_count": null,
      "outputs": [
        {
          "output_type": "execute_result",
          "data": {
            "text/plain": [
              "26349.576397515528"
            ]
          },
          "metadata": {},
          "execution_count": 39
        }
      ]
    },
    {
      "cell_type": "markdown",
      "source": [
        "# **Result**\n",
        "\n",
        "\n",
        "\n",
        "# **Total tweet =  1477924**\n",
        "average tweets = 1840.503113325031\n",
        "\n",
        "max number of  tweet of a user = 3247\n",
        "\n",
        "min number of  tweet of a user =9\n",
        "\n",
        "# **Total words in tweets = 12710448**\n",
        "\n",
        "avera of words in tweets of a user = 27015.201242236024\n",
        "\n",
        "max number of words in tweet of a user = 42123\n",
        "\n",
        "min number of words in tweet of a user = 68"
      ],
      "metadata": {
        "id": "FI2idLle2QiH"
      }
    }
  ]
}