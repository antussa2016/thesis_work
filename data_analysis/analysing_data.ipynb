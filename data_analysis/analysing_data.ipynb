{
  "nbformat": 4,
  "nbformat_minor": 0,
  "metadata": {
    "colab": {
      "provenance": [],
      "authorship_tag": "ABX9TyOSJN0E+hedmiLf+MOq2y3c",
      "include_colab_link": true
    },
    "kernelspec": {
      "name": "python3",
      "display_name": "Python 3"
    },
    "language_info": {
      "name": "python"
    }
  },
  "cells": [
    {
      "cell_type": "markdown",
      "metadata": {
        "id": "view-in-github",
        "colab_type": "text"
      },
      "source": [
        "<a href=\"https://colab.research.google.com/github/antussa2016/thesis_work/blob/master/data_analysis/analysing_data.ipynb\" target=\"_parent\"><img src=\"https://colab.research.google.com/assets/colab-badge.svg\" alt=\"Open In Colab\"/></a>"
      ]
    },
    {
      "cell_type": "code",
      "execution_count": 1,
      "metadata": {
        "colab": {
          "base_uri": "https://localhost:8080/"
        },
        "id": "OW4hRlt63DnX",
        "outputId": "77066bc2-ae84-4ce0-888f-1cc15ed78164"
      },
      "outputs": [
        {
          "output_type": "stream",
          "name": "stdout",
          "text": [
            "Cloning into 'thesis_work'...\n",
            "remote: Enumerating objects: 41, done.\u001b[K\n",
            "remote: Counting objects: 100% (41/41), done.\u001b[K\n",
            "remote: Compressing objects: 100% (33/33), done.\u001b[K\n",
            "remote: Total 41 (delta 10), reused 0 (delta 0), pack-reused 0\u001b[K\n",
            "Receiving objects: 100% (41/41), 153.34 KiB | 3.74 MiB/s, done.\n",
            "Resolving deltas: 100% (10/10), done.\n"
          ]
        }
      ],
      "source": [
        "! git clone https://github.com/antussa2016/thesis_work\n"
      ]
    },
    {
      "cell_type": "code",
      "source": [
        "import matplotlib.pyplot as plt\n",
        "import pandas as pd"
      ],
      "metadata": {
        "id": "WUolDwIt4j2t"
      },
      "execution_count": 2,
      "outputs": []
    },
    {
      "cell_type": "code",
      "source": [
        "df = pd.read_csv('thesis_work/dataset/main_dataset.csv')"
      ],
      "metadata": {
        "id": "_RuUwcKd4oi4"
      },
      "execution_count": 3,
      "outputs": []
    },
    {
      "cell_type": "code",
      "source": [
        "df.head(2)"
      ],
      "metadata": {
        "colab": {
          "base_uri": "https://localhost:8080/",
          "height": 236
        },
        "id": "lN5DyGXq45yu",
        "outputId": "abc63f79-90cf-4976-8ccd-59452ee22169"
      },
      "execution_count": 4,
      "outputs": [
        {
          "output_type": "execute_result",
          "data": {
            "text/plain": [
              "  twitter_id  stackoverflow_id            location  question_count  \\\n",
              "0       10F1            145587  ['Louisiana, USA']              13   \n",
              "1       1tgr             32133          ['London']              33   \n",
              "\n",
              "   answer_count  reputation  \\\n",
              "0           500       74297   \n",
              "1           500       48461   \n",
              "\n",
              "                                    top_tags_answers  \\\n",
              "0  ['go', 'json', 'http', 'goroutine', 'struct', ...   \n",
              "1  ['c#', '.net', 'f#', 'winforms', 'generics', '...   \n",
              "\n",
              "                                   top_tags_question  Openness  \\\n",
              "0  ['go', 'javascript', 'python', 'c++', 'linux',...  0.839299   \n",
              "1  ['rust', 'f#', '.net', 'python', 'c#', 'pandas...  0.849555   \n",
              "\n",
              "   Conscientiousness  Extraversion  Agreeableness  Emotional range  \\\n",
              "0           0.170988      0.083984       0.047367         0.612101   \n",
              "1           0.100009      0.032557       0.001654         0.392036   \n",
              "\n",
              "   Conservation  Openness to change  Hedonism  Self-enhancement  \\\n",
              "0      0.068207            0.487871  0.294548          0.349292   \n",
              "1      0.005144            0.303714  0.103960          0.253416   \n",
              "\n",
              "   Self-transcendence  \n",
              "0            0.393112  \n",
              "1            0.167264  "
            ],
            "text/html": [
              "\n",
              "  <div id=\"df-a3aaf15d-a3a0-4082-b13e-a062ff005566\" class=\"colab-df-container\">\n",
              "    <div>\n",
              "<style scoped>\n",
              "    .dataframe tbody tr th:only-of-type {\n",
              "        vertical-align: middle;\n",
              "    }\n",
              "\n",
              "    .dataframe tbody tr th {\n",
              "        vertical-align: top;\n",
              "    }\n",
              "\n",
              "    .dataframe thead th {\n",
              "        text-align: right;\n",
              "    }\n",
              "</style>\n",
              "<table border=\"1\" class=\"dataframe\">\n",
              "  <thead>\n",
              "    <tr style=\"text-align: right;\">\n",
              "      <th></th>\n",
              "      <th>twitter_id</th>\n",
              "      <th>stackoverflow_id</th>\n",
              "      <th>location</th>\n",
              "      <th>question_count</th>\n",
              "      <th>answer_count</th>\n",
              "      <th>reputation</th>\n",
              "      <th>top_tags_answers</th>\n",
              "      <th>top_tags_question</th>\n",
              "      <th>Openness</th>\n",
              "      <th>Conscientiousness</th>\n",
              "      <th>Extraversion</th>\n",
              "      <th>Agreeableness</th>\n",
              "      <th>Emotional range</th>\n",
              "      <th>Conservation</th>\n",
              "      <th>Openness to change</th>\n",
              "      <th>Hedonism</th>\n",
              "      <th>Self-enhancement</th>\n",
              "      <th>Self-transcendence</th>\n",
              "    </tr>\n",
              "  </thead>\n",
              "  <tbody>\n",
              "    <tr>\n",
              "      <th>0</th>\n",
              "      <td>10F1</td>\n",
              "      <td>145587</td>\n",
              "      <td>['Louisiana, USA']</td>\n",
              "      <td>13</td>\n",
              "      <td>500</td>\n",
              "      <td>74297</td>\n",
              "      <td>['go', 'json', 'http', 'goroutine', 'struct', ...</td>\n",
              "      <td>['go', 'javascript', 'python', 'c++', 'linux',...</td>\n",
              "      <td>0.839299</td>\n",
              "      <td>0.170988</td>\n",
              "      <td>0.083984</td>\n",
              "      <td>0.047367</td>\n",
              "      <td>0.612101</td>\n",
              "      <td>0.068207</td>\n",
              "      <td>0.487871</td>\n",
              "      <td>0.294548</td>\n",
              "      <td>0.349292</td>\n",
              "      <td>0.393112</td>\n",
              "    </tr>\n",
              "    <tr>\n",
              "      <th>1</th>\n",
              "      <td>1tgr</td>\n",
              "      <td>32133</td>\n",
              "      <td>['London']</td>\n",
              "      <td>33</td>\n",
              "      <td>500</td>\n",
              "      <td>48461</td>\n",
              "      <td>['c#', '.net', 'f#', 'winforms', 'generics', '...</td>\n",
              "      <td>['rust', 'f#', '.net', 'python', 'c#', 'pandas...</td>\n",
              "      <td>0.849555</td>\n",
              "      <td>0.100009</td>\n",
              "      <td>0.032557</td>\n",
              "      <td>0.001654</td>\n",
              "      <td>0.392036</td>\n",
              "      <td>0.005144</td>\n",
              "      <td>0.303714</td>\n",
              "      <td>0.103960</td>\n",
              "      <td>0.253416</td>\n",
              "      <td>0.167264</td>\n",
              "    </tr>\n",
              "  </tbody>\n",
              "</table>\n",
              "</div>\n",
              "    <div class=\"colab-df-buttons\">\n",
              "\n",
              "  <div class=\"colab-df-container\">\n",
              "    <button class=\"colab-df-convert\" onclick=\"convertToInteractive('df-a3aaf15d-a3a0-4082-b13e-a062ff005566')\"\n",
              "            title=\"Convert this dataframe to an interactive table.\"\n",
              "            style=\"display:none;\">\n",
              "\n",
              "  <svg xmlns=\"http://www.w3.org/2000/svg\" height=\"24px\" viewBox=\"0 -960 960 960\">\n",
              "    <path d=\"M120-120v-720h720v720H120Zm60-500h600v-160H180v160Zm220 220h160v-160H400v160Zm0 220h160v-160H400v160ZM180-400h160v-160H180v160Zm440 0h160v-160H620v160ZM180-180h160v-160H180v160Zm440 0h160v-160H620v160Z\"/>\n",
              "  </svg>\n",
              "    </button>\n",
              "\n",
              "  <style>\n",
              "    .colab-df-container {\n",
              "      display:flex;\n",
              "      gap: 12px;\n",
              "    }\n",
              "\n",
              "    .colab-df-convert {\n",
              "      background-color: #E8F0FE;\n",
              "      border: none;\n",
              "      border-radius: 50%;\n",
              "      cursor: pointer;\n",
              "      display: none;\n",
              "      fill: #1967D2;\n",
              "      height: 32px;\n",
              "      padding: 0 0 0 0;\n",
              "      width: 32px;\n",
              "    }\n",
              "\n",
              "    .colab-df-convert:hover {\n",
              "      background-color: #E2EBFA;\n",
              "      box-shadow: 0px 1px 2px rgba(60, 64, 67, 0.3), 0px 1px 3px 1px rgba(60, 64, 67, 0.15);\n",
              "      fill: #174EA6;\n",
              "    }\n",
              "\n",
              "    .colab-df-buttons div {\n",
              "      margin-bottom: 4px;\n",
              "    }\n",
              "\n",
              "    [theme=dark] .colab-df-convert {\n",
              "      background-color: #3B4455;\n",
              "      fill: #D2E3FC;\n",
              "    }\n",
              "\n",
              "    [theme=dark] .colab-df-convert:hover {\n",
              "      background-color: #434B5C;\n",
              "      box-shadow: 0px 1px 3px 1px rgba(0, 0, 0, 0.15);\n",
              "      filter: drop-shadow(0px 1px 2px rgba(0, 0, 0, 0.3));\n",
              "      fill: #FFFFFF;\n",
              "    }\n",
              "  </style>\n",
              "\n",
              "    <script>\n",
              "      const buttonEl =\n",
              "        document.querySelector('#df-a3aaf15d-a3a0-4082-b13e-a062ff005566 button.colab-df-convert');\n",
              "      buttonEl.style.display =\n",
              "        google.colab.kernel.accessAllowed ? 'block' : 'none';\n",
              "\n",
              "      async function convertToInteractive(key) {\n",
              "        const element = document.querySelector('#df-a3aaf15d-a3a0-4082-b13e-a062ff005566');\n",
              "        const dataTable =\n",
              "          await google.colab.kernel.invokeFunction('convertToInteractive',\n",
              "                                                    [key], {});\n",
              "        if (!dataTable) return;\n",
              "\n",
              "        const docLinkHtml = 'Like what you see? Visit the ' +\n",
              "          '<a target=\"_blank\" href=https://colab.research.google.com/notebooks/data_table.ipynb>data table notebook</a>'\n",
              "          + ' to learn more about interactive tables.';\n",
              "        element.innerHTML = '';\n",
              "        dataTable['output_type'] = 'display_data';\n",
              "        await google.colab.output.renderOutput(dataTable, element);\n",
              "        const docLink = document.createElement('div');\n",
              "        docLink.innerHTML = docLinkHtml;\n",
              "        element.appendChild(docLink);\n",
              "      }\n",
              "    </script>\n",
              "  </div>\n",
              "\n",
              "    </div>\n",
              "  </div>\n"
            ]
          },
          "metadata": {},
          "execution_count": 4
        }
      ]
    },
    {
      "cell_type": "code",
      "source": [
        "#deleting extra columns"
      ],
      "metadata": {
        "id": "D3xWMsAo7Z1g"
      },
      "execution_count": null,
      "outputs": []
    },
    {
      "cell_type": "code",
      "source": [
        "df.drop(columns=['location','Conservation','Openness to change','Hedonism','Self-enhancement','Self-transcendence'], inplace=True)"
      ],
      "metadata": {
        "id": "r2A1R-Wq7XTG"
      },
      "execution_count": 5,
      "outputs": []
    },
    {
      "cell_type": "code",
      "source": [
        "df.head(1)"
      ],
      "metadata": {
        "colab": {
          "base_uri": "https://localhost:8080/",
          "height": 153
        },
        "id": "4EKylqG475K3",
        "outputId": "2049931b-cc86-4a07-c80a-0de79cdb14a8"
      },
      "execution_count": 6,
      "outputs": [
        {
          "output_type": "execute_result",
          "data": {
            "text/plain": [
              "  twitter_id  stackoverflow_id  question_count  answer_count  reputation  \\\n",
              "0       10F1            145587              13           500       74297   \n",
              "\n",
              "                                    top_tags_answers  \\\n",
              "0  ['go', 'json', 'http', 'goroutine', 'struct', ...   \n",
              "\n",
              "                                   top_tags_question  Openness  \\\n",
              "0  ['go', 'javascript', 'python', 'c++', 'linux',...  0.839299   \n",
              "\n",
              "   Conscientiousness  Extraversion  Agreeableness  Emotional range  \n",
              "0           0.170988      0.083984       0.047367         0.612101  "
            ],
            "text/html": [
              "\n",
              "  <div id=\"df-7af3fb7b-75d9-4842-bf55-45cdc3ed3bd4\" class=\"colab-df-container\">\n",
              "    <div>\n",
              "<style scoped>\n",
              "    .dataframe tbody tr th:only-of-type {\n",
              "        vertical-align: middle;\n",
              "    }\n",
              "\n",
              "    .dataframe tbody tr th {\n",
              "        vertical-align: top;\n",
              "    }\n",
              "\n",
              "    .dataframe thead th {\n",
              "        text-align: right;\n",
              "    }\n",
              "</style>\n",
              "<table border=\"1\" class=\"dataframe\">\n",
              "  <thead>\n",
              "    <tr style=\"text-align: right;\">\n",
              "      <th></th>\n",
              "      <th>twitter_id</th>\n",
              "      <th>stackoverflow_id</th>\n",
              "      <th>question_count</th>\n",
              "      <th>answer_count</th>\n",
              "      <th>reputation</th>\n",
              "      <th>top_tags_answers</th>\n",
              "      <th>top_tags_question</th>\n",
              "      <th>Openness</th>\n",
              "      <th>Conscientiousness</th>\n",
              "      <th>Extraversion</th>\n",
              "      <th>Agreeableness</th>\n",
              "      <th>Emotional range</th>\n",
              "    </tr>\n",
              "  </thead>\n",
              "  <tbody>\n",
              "    <tr>\n",
              "      <th>0</th>\n",
              "      <td>10F1</td>\n",
              "      <td>145587</td>\n",
              "      <td>13</td>\n",
              "      <td>500</td>\n",
              "      <td>74297</td>\n",
              "      <td>['go', 'json', 'http', 'goroutine', 'struct', ...</td>\n",
              "      <td>['go', 'javascript', 'python', 'c++', 'linux',...</td>\n",
              "      <td>0.839299</td>\n",
              "      <td>0.170988</td>\n",
              "      <td>0.083984</td>\n",
              "      <td>0.047367</td>\n",
              "      <td>0.612101</td>\n",
              "    </tr>\n",
              "  </tbody>\n",
              "</table>\n",
              "</div>\n",
              "    <div class=\"colab-df-buttons\">\n",
              "\n",
              "  <div class=\"colab-df-container\">\n",
              "    <button class=\"colab-df-convert\" onclick=\"convertToInteractive('df-7af3fb7b-75d9-4842-bf55-45cdc3ed3bd4')\"\n",
              "            title=\"Convert this dataframe to an interactive table.\"\n",
              "            style=\"display:none;\">\n",
              "\n",
              "  <svg xmlns=\"http://www.w3.org/2000/svg\" height=\"24px\" viewBox=\"0 -960 960 960\">\n",
              "    <path d=\"M120-120v-720h720v720H120Zm60-500h600v-160H180v160Zm220 220h160v-160H400v160Zm0 220h160v-160H400v160ZM180-400h160v-160H180v160Zm440 0h160v-160H620v160ZM180-180h160v-160H180v160Zm440 0h160v-160H620v160Z\"/>\n",
              "  </svg>\n",
              "    </button>\n",
              "\n",
              "  <style>\n",
              "    .colab-df-container {\n",
              "      display:flex;\n",
              "      gap: 12px;\n",
              "    }\n",
              "\n",
              "    .colab-df-convert {\n",
              "      background-color: #E8F0FE;\n",
              "      border: none;\n",
              "      border-radius: 50%;\n",
              "      cursor: pointer;\n",
              "      display: none;\n",
              "      fill: #1967D2;\n",
              "      height: 32px;\n",
              "      padding: 0 0 0 0;\n",
              "      width: 32px;\n",
              "    }\n",
              "\n",
              "    .colab-df-convert:hover {\n",
              "      background-color: #E2EBFA;\n",
              "      box-shadow: 0px 1px 2px rgba(60, 64, 67, 0.3), 0px 1px 3px 1px rgba(60, 64, 67, 0.15);\n",
              "      fill: #174EA6;\n",
              "    }\n",
              "\n",
              "    .colab-df-buttons div {\n",
              "      margin-bottom: 4px;\n",
              "    }\n",
              "\n",
              "    [theme=dark] .colab-df-convert {\n",
              "      background-color: #3B4455;\n",
              "      fill: #D2E3FC;\n",
              "    }\n",
              "\n",
              "    [theme=dark] .colab-df-convert:hover {\n",
              "      background-color: #434B5C;\n",
              "      box-shadow: 0px 1px 3px 1px rgba(0, 0, 0, 0.15);\n",
              "      filter: drop-shadow(0px 1px 2px rgba(0, 0, 0, 0.3));\n",
              "      fill: #FFFFFF;\n",
              "    }\n",
              "  </style>\n",
              "\n",
              "    <script>\n",
              "      const buttonEl =\n",
              "        document.querySelector('#df-7af3fb7b-75d9-4842-bf55-45cdc3ed3bd4 button.colab-df-convert');\n",
              "      buttonEl.style.display =\n",
              "        google.colab.kernel.accessAllowed ? 'block' : 'none';\n",
              "\n",
              "      async function convertToInteractive(key) {\n",
              "        const element = document.querySelector('#df-7af3fb7b-75d9-4842-bf55-45cdc3ed3bd4');\n",
              "        const dataTable =\n",
              "          await google.colab.kernel.invokeFunction('convertToInteractive',\n",
              "                                                    [key], {});\n",
              "        if (!dataTable) return;\n",
              "\n",
              "        const docLinkHtml = 'Like what you see? Visit the ' +\n",
              "          '<a target=\"_blank\" href=https://colab.research.google.com/notebooks/data_table.ipynb>data table notebook</a>'\n",
              "          + ' to learn more about interactive tables.';\n",
              "        element.innerHTML = '';\n",
              "        dataTable['output_type'] = 'display_data';\n",
              "        await google.colab.output.renderOutput(dataTable, element);\n",
              "        const docLink = document.createElement('div');\n",
              "        docLink.innerHTML = docLinkHtml;\n",
              "        element.appendChild(docLink);\n",
              "      }\n",
              "    </script>\n",
              "  </div>\n",
              "\n",
              "    </div>\n",
              "  </div>\n"
            ]
          },
          "metadata": {},
          "execution_count": 6
        }
      ]
    },
    {
      "cell_type": "code",
      "source": [
        "#renameing coumn"
      ],
      "metadata": {
        "id": "ct7uIicF8RsH"
      },
      "execution_count": null,
      "outputs": []
    },
    {
      "cell_type": "code",
      "source": [
        "df.rename(columns={'Emotional range': 'Neuroticism'}, inplace=True)"
      ],
      "metadata": {
        "id": "BBR_qC6p8VO3"
      },
      "execution_count": 7,
      "outputs": []
    },
    {
      "cell_type": "code",
      "source": [
        "df.rename(columns={'top_tags_answers': 'answer_tag','top_tags_question': 'question_tag'}, inplace=True)"
      ],
      "metadata": {
        "id": "MgurBbkI8u-E"
      },
      "execution_count": 8,
      "outputs": []
    },
    {
      "cell_type": "code",
      "source": [
        "df.head(1)"
      ],
      "metadata": {
        "colab": {
          "base_uri": "https://localhost:8080/",
          "height": 153
        },
        "id": "7KpxJDGN8m2d",
        "outputId": "c2a36a98-dda4-466a-eb99-ff8b3feaff32"
      },
      "execution_count": null,
      "outputs": [
        {
          "output_type": "execute_result",
          "data": {
            "text/plain": [
              "  twitter_id  stackoverflow_id  question_count  answer_count  reputation  \\\n",
              "0       10F1            145587              13           500       74297   \n",
              "\n",
              "                                          answer_tag  \\\n",
              "0  ['go', 'json', 'http', 'goroutine', 'struct', ...   \n",
              "\n",
              "                                        question_tag  Openness  \\\n",
              "0  ['go', 'javascript', 'python', 'c++', 'linux',...  0.839299   \n",
              "\n",
              "   Conscientiousness  Extraversion  Agreeableness  Neuroticism  \n",
              "0           0.170988      0.083984       0.047367     0.612101  "
            ],
            "text/html": [
              "\n",
              "  <div id=\"df-052c1b9a-d919-4661-b664-87a9e628def0\" class=\"colab-df-container\">\n",
              "    <div>\n",
              "<style scoped>\n",
              "    .dataframe tbody tr th:only-of-type {\n",
              "        vertical-align: middle;\n",
              "    }\n",
              "\n",
              "    .dataframe tbody tr th {\n",
              "        vertical-align: top;\n",
              "    }\n",
              "\n",
              "    .dataframe thead th {\n",
              "        text-align: right;\n",
              "    }\n",
              "</style>\n",
              "<table border=\"1\" class=\"dataframe\">\n",
              "  <thead>\n",
              "    <tr style=\"text-align: right;\">\n",
              "      <th></th>\n",
              "      <th>twitter_id</th>\n",
              "      <th>stackoverflow_id</th>\n",
              "      <th>question_count</th>\n",
              "      <th>answer_count</th>\n",
              "      <th>reputation</th>\n",
              "      <th>answer_tag</th>\n",
              "      <th>question_tag</th>\n",
              "      <th>Openness</th>\n",
              "      <th>Conscientiousness</th>\n",
              "      <th>Extraversion</th>\n",
              "      <th>Agreeableness</th>\n",
              "      <th>Neuroticism</th>\n",
              "    </tr>\n",
              "  </thead>\n",
              "  <tbody>\n",
              "    <tr>\n",
              "      <th>0</th>\n",
              "      <td>10F1</td>\n",
              "      <td>145587</td>\n",
              "      <td>13</td>\n",
              "      <td>500</td>\n",
              "      <td>74297</td>\n",
              "      <td>['go', 'json', 'http', 'goroutine', 'struct', ...</td>\n",
              "      <td>['go', 'javascript', 'python', 'c++', 'linux',...</td>\n",
              "      <td>0.839299</td>\n",
              "      <td>0.170988</td>\n",
              "      <td>0.083984</td>\n",
              "      <td>0.047367</td>\n",
              "      <td>0.612101</td>\n",
              "    </tr>\n",
              "  </tbody>\n",
              "</table>\n",
              "</div>\n",
              "    <div class=\"colab-df-buttons\">\n",
              "\n",
              "  <div class=\"colab-df-container\">\n",
              "    <button class=\"colab-df-convert\" onclick=\"convertToInteractive('df-052c1b9a-d919-4661-b664-87a9e628def0')\"\n",
              "            title=\"Convert this dataframe to an interactive table.\"\n",
              "            style=\"display:none;\">\n",
              "\n",
              "  <svg xmlns=\"http://www.w3.org/2000/svg\" height=\"24px\" viewBox=\"0 -960 960 960\">\n",
              "    <path d=\"M120-120v-720h720v720H120Zm60-500h600v-160H180v160Zm220 220h160v-160H400v160Zm0 220h160v-160H400v160ZM180-400h160v-160H180v160Zm440 0h160v-160H620v160ZM180-180h160v-160H180v160Zm440 0h160v-160H620v160Z\"/>\n",
              "  </svg>\n",
              "    </button>\n",
              "\n",
              "  <style>\n",
              "    .colab-df-container {\n",
              "      display:flex;\n",
              "      gap: 12px;\n",
              "    }\n",
              "\n",
              "    .colab-df-convert {\n",
              "      background-color: #E8F0FE;\n",
              "      border: none;\n",
              "      border-radius: 50%;\n",
              "      cursor: pointer;\n",
              "      display: none;\n",
              "      fill: #1967D2;\n",
              "      height: 32px;\n",
              "      padding: 0 0 0 0;\n",
              "      width: 32px;\n",
              "    }\n",
              "\n",
              "    .colab-df-convert:hover {\n",
              "      background-color: #E2EBFA;\n",
              "      box-shadow: 0px 1px 2px rgba(60, 64, 67, 0.3), 0px 1px 3px 1px rgba(60, 64, 67, 0.15);\n",
              "      fill: #174EA6;\n",
              "    }\n",
              "\n",
              "    .colab-df-buttons div {\n",
              "      margin-bottom: 4px;\n",
              "    }\n",
              "\n",
              "    [theme=dark] .colab-df-convert {\n",
              "      background-color: #3B4455;\n",
              "      fill: #D2E3FC;\n",
              "    }\n",
              "\n",
              "    [theme=dark] .colab-df-convert:hover {\n",
              "      background-color: #434B5C;\n",
              "      box-shadow: 0px 1px 3px 1px rgba(0, 0, 0, 0.15);\n",
              "      filter: drop-shadow(0px 1px 2px rgba(0, 0, 0, 0.3));\n",
              "      fill: #FFFFFF;\n",
              "    }\n",
              "  </style>\n",
              "\n",
              "    <script>\n",
              "      const buttonEl =\n",
              "        document.querySelector('#df-052c1b9a-d919-4661-b664-87a9e628def0 button.colab-df-convert');\n",
              "      buttonEl.style.display =\n",
              "        google.colab.kernel.accessAllowed ? 'block' : 'none';\n",
              "\n",
              "      async function convertToInteractive(key) {\n",
              "        const element = document.querySelector('#df-052c1b9a-d919-4661-b664-87a9e628def0');\n",
              "        const dataTable =\n",
              "          await google.colab.kernel.invokeFunction('convertToInteractive',\n",
              "                                                    [key], {});\n",
              "        if (!dataTable) return;\n",
              "\n",
              "        const docLinkHtml = 'Like what you see? Visit the ' +\n",
              "          '<a target=\"_blank\" href=https://colab.research.google.com/notebooks/data_table.ipynb>data table notebook</a>'\n",
              "          + ' to learn more about interactive tables.';\n",
              "        element.innerHTML = '';\n",
              "        dataTable['output_type'] = 'display_data';\n",
              "        await google.colab.output.renderOutput(dataTable, element);\n",
              "        const docLink = document.createElement('div');\n",
              "        docLink.innerHTML = docLinkHtml;\n",
              "        element.appendChild(docLink);\n",
              "      }\n",
              "    </script>\n",
              "  </div>\n",
              "\n",
              "    </div>\n",
              "  </div>\n"
            ]
          },
          "metadata": {},
          "execution_count": 44
        }
      ]
    },
    {
      "cell_type": "code",
      "source": [
        "df.info()"
      ],
      "metadata": {
        "colab": {
          "base_uri": "https://localhost:8080/"
        },
        "id": "YAp5ZwJKBvfG",
        "outputId": "e241076f-51dd-47af-9150-1970a1de6dfc"
      },
      "execution_count": null,
      "outputs": [
        {
          "output_type": "stream",
          "name": "stdout",
          "text": [
            "<class 'pandas.core.frame.DataFrame'>\n",
            "RangeIndex: 819 entries, 0 to 818\n",
            "Data columns (total 12 columns):\n",
            " #   Column             Non-Null Count  Dtype  \n",
            "---  ------             --------------  -----  \n",
            " 0   twitter_id         819 non-null    object \n",
            " 1   stackoverflow_id   819 non-null    int64  \n",
            " 2   question_count     819 non-null    int64  \n",
            " 3   answer_count       819 non-null    int64  \n",
            " 4   reputation         819 non-null    int64  \n",
            " 5   answer_tag         819 non-null    object \n",
            " 6   question_tag       819 non-null    object \n",
            " 7   Openness           819 non-null    float64\n",
            " 8   Conscientiousness  819 non-null    float64\n",
            " 9   Extraversion       819 non-null    float64\n",
            " 10  Agreeableness      819 non-null    float64\n",
            " 11  Neuroticism        819 non-null    float64\n",
            "dtypes: float64(5), int64(4), object(3)\n",
            "memory usage: 76.9+ KB\n"
          ]
        }
      ]
    },
    {
      "cell_type": "code",
      "source": [
        "df['answer_tag'] = df['answer_tag'].tolist()"
      ],
      "metadata": {
        "id": "mxKZzWtQWdTD"
      },
      "execution_count": 9,
      "outputs": []
    },
    {
      "cell_type": "code",
      "source": [
        "df['question_tag'] = df['question_tag'].tolist()"
      ],
      "metadata": {
        "id": "MKsdL6bEWlEy"
      },
      "execution_count": 10,
      "outputs": []
    },
    {
      "cell_type": "code",
      "source": [
        "df.head(1)"
      ],
      "metadata": {
        "colab": {
          "base_uri": "https://localhost:8080/",
          "height": 153
        },
        "id": "-8_MWhOTWtad",
        "outputId": "148fc630-eeb1-42eb-df81-3a2519a2d530"
      },
      "execution_count": null,
      "outputs": [
        {
          "output_type": "execute_result",
          "data": {
            "text/plain": [
              "  twitter_id  stackoverflow_id  question_count  answer_count  reputation  \\\n",
              "0       10F1            145587              13           500       74297   \n",
              "\n",
              "                                          answer_tag  \\\n",
              "0  ['go', 'json', 'http', 'goroutine', 'struct', ...   \n",
              "\n",
              "                                        question_tag  Openness  \\\n",
              "0  ['go', 'javascript', 'python', 'c++', 'linux',...  0.839299   \n",
              "\n",
              "   Conscientiousness  Extraversion  Agreeableness  Neuroticism  \\\n",
              "0           0.170988      0.083984       0.047367     0.612101   \n",
              "\n",
              "                                                tags  \n",
              "0  ['go', 'json', 'http', 'goroutine', 'struct', ...  "
            ],
            "text/html": [
              "\n",
              "  <div id=\"df-29e85727-7467-45c1-bbb9-0b701fe8f2e5\" class=\"colab-df-container\">\n",
              "    <div>\n",
              "<style scoped>\n",
              "    .dataframe tbody tr th:only-of-type {\n",
              "        vertical-align: middle;\n",
              "    }\n",
              "\n",
              "    .dataframe tbody tr th {\n",
              "        vertical-align: top;\n",
              "    }\n",
              "\n",
              "    .dataframe thead th {\n",
              "        text-align: right;\n",
              "    }\n",
              "</style>\n",
              "<table border=\"1\" class=\"dataframe\">\n",
              "  <thead>\n",
              "    <tr style=\"text-align: right;\">\n",
              "      <th></th>\n",
              "      <th>twitter_id</th>\n",
              "      <th>stackoverflow_id</th>\n",
              "      <th>question_count</th>\n",
              "      <th>answer_count</th>\n",
              "      <th>reputation</th>\n",
              "      <th>answer_tag</th>\n",
              "      <th>question_tag</th>\n",
              "      <th>Openness</th>\n",
              "      <th>Conscientiousness</th>\n",
              "      <th>Extraversion</th>\n",
              "      <th>Agreeableness</th>\n",
              "      <th>Neuroticism</th>\n",
              "      <th>tags</th>\n",
              "    </tr>\n",
              "  </thead>\n",
              "  <tbody>\n",
              "    <tr>\n",
              "      <th>0</th>\n",
              "      <td>10F1</td>\n",
              "      <td>145587</td>\n",
              "      <td>13</td>\n",
              "      <td>500</td>\n",
              "      <td>74297</td>\n",
              "      <td>['go', 'json', 'http', 'goroutine', 'struct', ...</td>\n",
              "      <td>['go', 'javascript', 'python', 'c++', 'linux',...</td>\n",
              "      <td>0.839299</td>\n",
              "      <td>0.170988</td>\n",
              "      <td>0.083984</td>\n",
              "      <td>0.047367</td>\n",
              "      <td>0.612101</td>\n",
              "      <td>['go', 'json', 'http', 'goroutine', 'struct', ...</td>\n",
              "    </tr>\n",
              "  </tbody>\n",
              "</table>\n",
              "</div>\n",
              "    <div class=\"colab-df-buttons\">\n",
              "\n",
              "  <div class=\"colab-df-container\">\n",
              "    <button class=\"colab-df-convert\" onclick=\"convertToInteractive('df-29e85727-7467-45c1-bbb9-0b701fe8f2e5')\"\n",
              "            title=\"Convert this dataframe to an interactive table.\"\n",
              "            style=\"display:none;\">\n",
              "\n",
              "  <svg xmlns=\"http://www.w3.org/2000/svg\" height=\"24px\" viewBox=\"0 -960 960 960\">\n",
              "    <path d=\"M120-120v-720h720v720H120Zm60-500h600v-160H180v160Zm220 220h160v-160H400v160Zm0 220h160v-160H400v160ZM180-400h160v-160H180v160Zm440 0h160v-160H620v160ZM180-180h160v-160H180v160Zm440 0h160v-160H620v160Z\"/>\n",
              "  </svg>\n",
              "    </button>\n",
              "\n",
              "  <style>\n",
              "    .colab-df-container {\n",
              "      display:flex;\n",
              "      gap: 12px;\n",
              "    }\n",
              "\n",
              "    .colab-df-convert {\n",
              "      background-color: #E8F0FE;\n",
              "      border: none;\n",
              "      border-radius: 50%;\n",
              "      cursor: pointer;\n",
              "      display: none;\n",
              "      fill: #1967D2;\n",
              "      height: 32px;\n",
              "      padding: 0 0 0 0;\n",
              "      width: 32px;\n",
              "    }\n",
              "\n",
              "    .colab-df-convert:hover {\n",
              "      background-color: #E2EBFA;\n",
              "      box-shadow: 0px 1px 2px rgba(60, 64, 67, 0.3), 0px 1px 3px 1px rgba(60, 64, 67, 0.15);\n",
              "      fill: #174EA6;\n",
              "    }\n",
              "\n",
              "    .colab-df-buttons div {\n",
              "      margin-bottom: 4px;\n",
              "    }\n",
              "\n",
              "    [theme=dark] .colab-df-convert {\n",
              "      background-color: #3B4455;\n",
              "      fill: #D2E3FC;\n",
              "    }\n",
              "\n",
              "    [theme=dark] .colab-df-convert:hover {\n",
              "      background-color: #434B5C;\n",
              "      box-shadow: 0px 1px 3px 1px rgba(0, 0, 0, 0.15);\n",
              "      filter: drop-shadow(0px 1px 2px rgba(0, 0, 0, 0.3));\n",
              "      fill: #FFFFFF;\n",
              "    }\n",
              "  </style>\n",
              "\n",
              "    <script>\n",
              "      const buttonEl =\n",
              "        document.querySelector('#df-29e85727-7467-45c1-bbb9-0b701fe8f2e5 button.colab-df-convert');\n",
              "      buttonEl.style.display =\n",
              "        google.colab.kernel.accessAllowed ? 'block' : 'none';\n",
              "\n",
              "      async function convertToInteractive(key) {\n",
              "        const element = document.querySelector('#df-29e85727-7467-45c1-bbb9-0b701fe8f2e5');\n",
              "        const dataTable =\n",
              "          await google.colab.kernel.invokeFunction('convertToInteractive',\n",
              "                                                    [key], {});\n",
              "        if (!dataTable) return;\n",
              "\n",
              "        const docLinkHtml = 'Like what you see? Visit the ' +\n",
              "          '<a target=\"_blank\" href=https://colab.research.google.com/notebooks/data_table.ipynb>data table notebook</a>'\n",
              "          + ' to learn more about interactive tables.';\n",
              "        element.innerHTML = '';\n",
              "        dataTable['output_type'] = 'display_data';\n",
              "        await google.colab.output.renderOutput(dataTable, element);\n",
              "        const docLink = document.createElement('div');\n",
              "        docLink.innerHTML = docLinkHtml;\n",
              "        element.appendChild(docLink);\n",
              "      }\n",
              "    </script>\n",
              "  </div>\n",
              "\n",
              "    </div>\n",
              "  </div>\n"
            ]
          },
          "metadata": {},
          "execution_count": 27
        }
      ]
    },
    {
      "cell_type": "code",
      "source": [
        "df['tags'] = df['answer_tag'] + df['question_tag']\n",
        "df['tags'] = [value.replace('][', ',') for value in df['tags']]"
      ],
      "metadata": {
        "id": "xO5pg4oUZXKN"
      },
      "execution_count": 11,
      "outputs": []
    },
    {
      "cell_type": "code",
      "source": [
        "df['tags'] = df['tags'].tolist()"
      ],
      "metadata": {
        "id": "aI58BBqLZyiO"
      },
      "execution_count": null,
      "outputs": []
    },
    {
      "cell_type": "code",
      "source": [
        "\n",
        "import ast"
      ],
      "metadata": {
        "id": "6C_qOqbjiler"
      },
      "execution_count": 12,
      "outputs": []
    },
    {
      "cell_type": "code",
      "source": [
        "def convert(obj):\n",
        "    L = []\n",
        "    for i in ast.literal_eval(obj):\n",
        "        L.append(i)\n",
        "    return L"
      ],
      "metadata": {
        "id": "L5WJSjNkiqZu"
      },
      "execution_count": 14,
      "outputs": []
    },
    {
      "cell_type": "code",
      "source": [
        "df['tags'] = df['tags'].apply(convert)"
      ],
      "metadata": {
        "id": "wNQVEbFEis79"
      },
      "execution_count": 15,
      "outputs": []
    },
    {
      "cell_type": "code",
      "source": [
        "df['tags'][5]"
      ],
      "metadata": {
        "colab": {
          "base_uri": "https://localhost:8080/"
        },
        "id": "5PtKofQja6XY",
        "outputId": "b7c8403d-71ed-4ac8-876a-d900f35c7c4a"
      },
      "execution_count": 16,
      "outputs": [
        {
          "output_type": "execute_result",
          "data": {
            "text/plain": [
              "['javascript',\n",
              " 'java',\n",
              " 'struts2',\n",
              " 'reactjs',\n",
              " 'ruby',\n",
              " 'ruby-on-rails',\n",
              " 'jsp',\n",
              " 'jquery',\n",
              " 'node.js',\n",
              " 'struts',\n",
              " 'ruby',\n",
              " 'reactjs',\n",
              " 'javascript',\n",
              " 'ruby-on-rails',\n",
              " 'electron',\n",
              " 'electron-forge',\n",
              " 'node.js',\n",
              " 'rspec',\n",
              " 'ruby-on-rails-5',\n",
              " 'electron-builder']"
            ]
          },
          "metadata": {},
          "execution_count": 16
        }
      ]
    },
    {
      "cell_type": "code",
      "source": [
        "#finding most common tags"
      ],
      "metadata": {
        "id": "Ynf7u2Z0UCy5"
      },
      "execution_count": null,
      "outputs": []
    },
    {
      "cell_type": "code",
      "source": [
        "type(df['tags'][0])"
      ],
      "metadata": {
        "id": "qR8TtMjCliya",
        "outputId": "c33cd1ce-19e8-4eea-dcac-3adb7a1b6b75",
        "colab": {
          "base_uri": "https://localhost:8080/"
        }
      },
      "execution_count": 18,
      "outputs": [
        {
          "output_type": "execute_result",
          "data": {
            "text/plain": [
              "list"
            ]
          },
          "metadata": {},
          "execution_count": 18
        }
      ]
    },
    {
      "cell_type": "code",
      "source": [
        "from collections import Counter\n",
        "\n",
        "# data = {'ID': [1, 2, 3],\n",
        "#         'Tags': ['python, data analysis, pandas',\n",
        "#                  'python, machine learning',\n",
        "#                  'java, web development, programming']}\n",
        "# dataf = pd.DataFrame(data)\n",
        "\n",
        "# Tokenize and count tag frequencies\n",
        "tags = []\n",
        "for tags_string in dataf['Tags']:\n",
        "    tags.append(tags_string.split(', '))\n",
        "dataf['tags'] = tags\n",
        "dataf['tags'][0]\n",
        "\n",
        "tag_frequencies = Counter(dataf['tags'].tolist())\n",
        "\n",
        "# # Find the most common programming tags (you can adjust the number)\n",
        "num_most_common = 5\n",
        "most_common_tags = tag_frequencies.most_common(num_most_common)\n",
        "\n",
        "# # Print the most common programming tags\n",
        "# for tag, frequency in most_common_tags:\n",
        "#     print(f\"Tag: {tag}, Frequency: {frequency} occurrences\")\n",
        "\n",
        "\n",
        "\n",
        "\n",
        "\n",
        "\n"
      ],
      "metadata": {
        "id": "HyZt8fJg9mDn"
      },
      "execution_count": null,
      "outputs": []
    },
    {
      "cell_type": "code",
      "source": [],
      "metadata": {
        "id": "V9hY9wsrCf6b"
      },
      "execution_count": null,
      "outputs": []
    }
  ]
}