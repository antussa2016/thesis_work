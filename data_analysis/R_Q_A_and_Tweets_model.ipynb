{
  "nbformat": 4,
  "nbformat_minor": 0,
  "metadata": {
    "colab": {
      "provenance": [],
      "authorship_tag": "ABX9TyO7HbQgHDScXxDrh8lQTj62",
      "include_colab_link": true
    },
    "kernelspec": {
      "name": "python3",
      "display_name": "Python 3"
    },
    "language_info": {
      "name": "python"
    }
  },
  "cells": [
    {
      "cell_type": "markdown",
      "metadata": {
        "id": "view-in-github",
        "colab_type": "text"
      },
      "source": [
        "<a href=\"https://colab.research.google.com/github/antussa2016/thesis_work/blob/master/data_analysis/R_Q_A_and_Tweets_model.ipynb\" target=\"_parent\"><img src=\"https://colab.research.google.com/assets/colab-badge.svg\" alt=\"Open In Colab\"/></a>"
      ]
    },
    {
      "cell_type": "code",
      "execution_count": 1,
      "metadata": {
        "colab": {
          "base_uri": "https://localhost:8080/"
        },
        "id": "MMB4ejM_SiKa",
        "outputId": "6e4adc11-212f-47ce-8c66-9e5edf6eb849"
      },
      "outputs": [
        {
          "output_type": "stream",
          "name": "stdout",
          "text": [
            "Mounted at /content/drive\n"
          ]
        }
      ],
      "source": [
        "from google.colab import drive\n",
        "drive.mount('/content/drive')"
      ]
    },
    {
      "cell_type": "code",
      "source": [
        "from tensorflow import keras\n",
        "from keras.layers import Conv1D, MaxPooling1D, Flatten, LSTM, Dense\n",
        "from keras.models import Sequential, load_model\n",
        "import matplotlib.pyplot as plt\n",
        "import numpy as np\n",
        "import pandas as pd\n",
        "import tensorflow as tf\n",
        "import seaborn as sns\n",
        "import ast\n",
        "import json"
      ],
      "metadata": {
        "id": "i8Lxu2ncSnSp"
      },
      "execution_count": 2,
      "outputs": []
    },
    {
      "cell_type": "code",
      "source": [
        "df = pd.read_csv('/content/drive/MyDrive/test_model_01.csv')"
      ],
      "metadata": {
        "id": "soLkRyYWStHJ"
      },
      "execution_count": 3,
      "outputs": []
    },
    {
      "cell_type": "markdown",
      "source": [
        "# **remove duplicates**"
      ],
      "metadata": {
        "id": "LGw0LRAC_tcw"
      }
    },
    {
      "cell_type": "code",
      "source": [
        "# df = df.drop_duplicates()"
      ],
      "metadata": {
        "id": "jFceGCASiENv"
      },
      "execution_count": null,
      "outputs": []
    },
    {
      "cell_type": "code",
      "source": [
        "df.info()"
      ],
      "metadata": {
        "id": "OdBvDotIiES_",
        "colab": {
          "base_uri": "https://localhost:8080/"
        },
        "outputId": "4cc20b8e-9c76-4b0e-e25a-18f743db6d0c"
      },
      "execution_count": 4,
      "outputs": [
        {
          "output_type": "stream",
          "name": "stdout",
          "text": [
            "<class 'pandas.core.frame.DataFrame'>\n",
            "RangeIndex: 1247 entries, 0 to 1246\n",
            "Data columns (total 4 columns):\n",
            " #   Column        Non-Null Count  Dtype  \n",
            "---  ------        --------------  -----  \n",
            " 0   encoded_data  1247 non-null   object \n",
            " 1   Reputation    1247 non-null   float64\n",
            " 2   Question      1247 non-null   float64\n",
            " 3   Answer        1247 non-null   float64\n",
            "dtypes: float64(3), object(1)\n",
            "memory usage: 39.1+ KB\n"
          ]
        }
      ]
    },
    {
      "cell_type": "code",
      "source": [
        "df['encoded_data'].describe()"
      ],
      "metadata": {
        "colab": {
          "base_uri": "https://localhost:8080/"
        },
        "id": "oGGi9d_Sj6wo",
        "outputId": "4da0f6bd-1147-4dc0-edb2-122c3f16c102"
      },
      "execution_count": 7,
      "outputs": [
        {
          "output_type": "execute_result",
          "data": {
            "text/plain": [
              "count                                                  1247\n",
              "unique                                                  803\n",
              "top       [-7.20829546e-01 -2.91609019e-01 -1.33424237e-...\n",
              "freq                                                      4\n",
              "Name: encoded_data, dtype: object"
            ]
          },
          "metadata": {},
          "execution_count": 7
        }
      ]
    },
    {
      "cell_type": "code",
      "source": [
        "df['encoded_data'] = df['encoded_data'].str.replace('\\n', '')"
      ],
      "metadata": {
        "id": "nVADe8IFkZ2Y"
      },
      "execution_count": 8,
      "outputs": []
    },
    {
      "cell_type": "code",
      "source": [
        "df['encoded_data']  = df['encoded_data'].str.split().str.join(\" \")"
      ],
      "metadata": {
        "id": "rqIn9PbUlVPp"
      },
      "execution_count": 9,
      "outputs": []
    },
    {
      "cell_type": "code",
      "source": [
        "df['encoded_data'] = df['encoded_data'].str.strip('[]').str.split()"
      ],
      "metadata": {
        "id": "DiVX5SfIFAzu"
      },
      "execution_count": 10,
      "outputs": []
    },
    {
      "cell_type": "code",
      "source": [
        "print (type(df.loc[0, 'encoded_data'][0]))"
      ],
      "metadata": {
        "colab": {
          "base_uri": "https://localhost:8080/"
        },
        "id": "NXOODYwfmw5_",
        "outputId": "09cd7578-1e64-4275-e081-e7961094a4eb"
      },
      "execution_count": 11,
      "outputs": [
        {
          "output_type": "stream",
          "name": "stdout",
          "text": [
            "<class 'str'>\n"
          ]
        }
      ]
    },
    {
      "cell_type": "code",
      "source": [
        "# df.encoded_values.str.strip(\"[]\").str.split(\", \", expand=True, regex=False).astype(float)"
      ],
      "metadata": {
        "id": "fOQ5dR1dHNEA"
      },
      "execution_count": null,
      "outputs": []
    },
    {
      "cell_type": "code",
      "source": [
        "df['encoded_data'] = df['encoded_data'].apply(lambda x: [float(y) for y in x])\n",
        "\n",
        "df['encoded_data'] = [[float(y) for y in x] for x in df['encoded_data']]"
      ],
      "metadata": {
        "id": "mxHmqXKT7N-h"
      },
      "execution_count": 12,
      "outputs": []
    },
    {
      "cell_type": "code",
      "source": [
        "print (type(df.loc[0, 'encoded_data'][0]))"
      ],
      "metadata": {
        "colab": {
          "base_uri": "https://localhost:8080/"
        },
        "id": "KVZ5WphmDlZY",
        "outputId": "6d90553f-fef1-42cf-92d8-036ae5adefe2"
      },
      "execution_count": 13,
      "outputs": [
        {
          "output_type": "stream",
          "name": "stdout",
          "text": [
            "<class 'float'>\n"
          ]
        }
      ]
    },
    {
      "cell_type": "code",
      "source": [
        "df['encoded_data']"
      ],
      "metadata": {
        "id": "leldkCpcmWUE"
      },
      "execution_count": null,
      "outputs": []
    },
    {
      "cell_type": "markdown",
      "source": [
        "# **To reshape**"
      ],
      "metadata": {
        "id": "_FFdLdVMsczn"
      }
    },
    {
      "cell_type": "code",
      "source": [
        "x = np.array(df['encoded_data'].tolist())\n",
        "\n",
        "# check the shape of the resulting array\n",
        "print(x.shape)"
      ],
      "metadata": {
        "colab": {
          "base_uri": "https://localhost:8080/"
        },
        "id": "MHWFRiBosEoc",
        "outputId": "12840261-b7e2-47ba-b212-8b420116a4ad"
      },
      "execution_count": 14,
      "outputs": [
        {
          "output_type": "stream",
          "name": "stdout",
          "text": [
            "(1247, 768)\n"
          ]
        }
      ]
    },
    {
      "cell_type": "code",
      "source": [
        "# y = np.array(df['Reputation'].tolist())"
      ],
      "metadata": {
        "id": "LXLdyraYTOPm"
      },
      "execution_count": null,
      "outputs": []
    },
    {
      "cell_type": "code",
      "source": [
        "# df2 = pd.DataFrame(df['encoded_values'].tolist(), index=df.index).astype(float).join(df[['encoded_values','Reputation']])"
      ],
      "metadata": {
        "id": "VB5whFbr-zJv"
      },
      "execution_count": null,
      "outputs": []
    },
    {
      "cell_type": "code",
      "source": [
        "# df.explode('encoded_values').astype({'encoded_values':float})"
      ],
      "metadata": {
        "id": "6ySCYCWo6wFa"
      },
      "execution_count": null,
      "outputs": []
    },
    {
      "cell_type": "code",
      "source": [
        "# df = df.drop(columns=['Question', 'Answer'])"
      ],
      "metadata": {
        "id": "4KyCCIy0yt_c"
      },
      "execution_count": null,
      "outputs": []
    },
    {
      "cell_type": "code",
      "source": [
        "from sklearn.model_selection import train_test_split"
      ],
      "metadata": {
        "id": "k9_HR67vy63D"
      },
      "execution_count": 15,
      "outputs": []
    },
    {
      "cell_type": "code",
      "source": [
        "# x = df.drop('Reputation', axis=1)\n",
        "y = df['Answer']"
      ],
      "metadata": {
        "id": "-zH-O24QzHKR"
      },
      "execution_count": 16,
      "outputs": []
    },
    {
      "cell_type": "code",
      "source": [
        "x_train, x_test, y_train, y_test = train_test_split(x, y, test_size=0.2,)"
      ],
      "metadata": {
        "id": "B3TXZi98zU80"
      },
      "execution_count": 17,
      "outputs": []
    },
    {
      "cell_type": "code",
      "source": [
        "print('X_train shape:', x_train.shape)\n",
        "print('X_test shape:', x_test.shape)\n",
        "print('y_train shape:', y_train.shape)\n",
        "print('y_test shape:', y_test.shape)"
      ],
      "metadata": {
        "colab": {
          "base_uri": "https://localhost:8080/"
        },
        "id": "JKIzgzqwzb1j",
        "outputId": "af45e130-ff1b-459b-ab68-283ba03bf6d3"
      },
      "execution_count": 18,
      "outputs": [
        {
          "output_type": "stream",
          "name": "stdout",
          "text": [
            "X_train shape: (997, 768)\n",
            "X_test shape: (250, 768)\n",
            "y_train shape: (997,)\n",
            "y_test shape: (250,)\n"
          ]
        }
      ]
    },
    {
      "cell_type": "code",
      "source": [
        "len(x_test)"
      ],
      "metadata": {
        "colab": {
          "base_uri": "https://localhost:8080/"
        },
        "id": "VfZR5a0KZ2CJ",
        "outputId": "d325cf15-96df-417d-d0da-49bfa15645e2"
      },
      "execution_count": null,
      "outputs": [
        {
          "output_type": "execute_result",
          "data": {
            "text/plain": [
              "250"
            ]
          },
          "metadata": {},
          "execution_count": 17
        }
      ]
    },
    {
      "cell_type": "code",
      "source": [
        "x_train[0].shape"
      ],
      "metadata": {
        "id": "97XtUQWJ0lYI",
        "colab": {
          "base_uri": "https://localhost:8080/"
        },
        "outputId": "4e6c08ab-719b-4ebe-f9d1-64d321fb50d0"
      },
      "execution_count": null,
      "outputs": [
        {
          "output_type": "execute_result",
          "data": {
            "text/plain": [
              "(768,)"
            ]
          },
          "metadata": {},
          "execution_count": 18
        }
      ]
    },
    {
      "cell_type": "markdown",
      "source": [
        "# **Feedforward Model**"
      ],
      "metadata": {
        "id": "hL8x-6o0oM0p"
      }
    },
    {
      "cell_type": "code",
      "source": [
        "model = Sequential([\n",
        "    keras.layers.Dense(100, input_shape=(768,), activation='relu'),\n",
        "    keras.layers.Dense(1, activation='sigmoid')\n",
        "\n",
        "])\n",
        "model.compile(optimizer='adam', loss='binary_crossentropy', metrics=['accuracy'])\n",
        "model.fit(x_train, y_train,validation_data=(x_test,y_test), epochs=10,batch_size=32)"
      ],
      "metadata": {
        "colab": {
          "base_uri": "https://localhost:8080/"
        },
        "id": "BKZ_oTZOzqTH",
        "outputId": "4c5e16c5-fea7-4c76-88a9-fe2a984e9b4a"
      },
      "execution_count": 19,
      "outputs": [
        {
          "output_type": "stream",
          "name": "stdout",
          "text": [
            "Epoch 1/10\n",
            "32/32 [==============================] - 1s 9ms/step - loss: 0.2344 - accuracy: 0.8806 - val_loss: 0.2652 - val_accuracy: 0.8600\n",
            "Epoch 2/10\n",
            "32/32 [==============================] - 0s 4ms/step - loss: 0.2425 - accuracy: 0.8806 - val_loss: 0.2520 - val_accuracy: 0.8600\n",
            "Epoch 3/10\n",
            "32/32 [==============================] - 0s 4ms/step - loss: 0.2357 - accuracy: 0.8806 - val_loss: 0.2576 - val_accuracy: 0.8600\n",
            "Epoch 4/10\n",
            "32/32 [==============================] - 0s 4ms/step - loss: 0.2247 - accuracy: 0.8806 - val_loss: 0.2506 - val_accuracy: 0.8600\n",
            "Epoch 5/10\n",
            "32/32 [==============================] - 0s 4ms/step - loss: 0.2333 - accuracy: 0.8806 - val_loss: 0.2576 - val_accuracy: 0.8600\n",
            "Epoch 6/10\n",
            "32/32 [==============================] - 0s 4ms/step - loss: 0.2290 - accuracy: 0.8806 - val_loss: 0.2511 - val_accuracy: 0.8600\n",
            "Epoch 7/10\n",
            "32/32 [==============================] - 0s 4ms/step - loss: 0.2221 - accuracy: 0.8806 - val_loss: 0.2532 - val_accuracy: 0.8600\n",
            "Epoch 8/10\n",
            "32/32 [==============================] - 0s 4ms/step - loss: 0.2245 - accuracy: 0.8806 - val_loss: 0.2484 - val_accuracy: 0.8600\n",
            "Epoch 9/10\n",
            "32/32 [==============================] - 0s 4ms/step - loss: 0.2251 - accuracy: 0.8806 - val_loss: 0.2452 - val_accuracy: 0.8600\n",
            "Epoch 10/10\n",
            "32/32 [==============================] - 0s 4ms/step - loss: 0.2255 - accuracy: 0.8806 - val_loss: 0.2440 - val_accuracy: 0.8600\n"
          ]
        },
        {
          "output_type": "execute_result",
          "data": {
            "text/plain": [
              "<keras.src.callbacks.History at 0x7b44744d9960>"
            ]
          },
          "metadata": {},
          "execution_count": 19
        }
      ]
    },
    {
      "cell_type": "code",
      "source": [
        "from sklearn.metrics import mean_absolute_error, mean_squared_error, r2_score\n",
        "\n",
        "y_pred = model.predict(x_test).squeeze()\n",
        "\n",
        "# Calculate regression metrics\n",
        "mae = mean_absolute_error(y_test, y_pred)\n",
        "mse = mean_squared_error(y_test, y_pred)\n",
        "rmse = np.sqrt(mse)\n",
        "r2 = r2_score(y_test, y_pred)"
      ],
      "metadata": {
        "colab": {
          "base_uri": "https://localhost:8080/"
        },
        "id": "ZQRFjFKQkVSV",
        "outputId": "e5dc76e5-269a-40cf-d9a3-10f0c972912d"
      },
      "execution_count": 22,
      "outputs": [
        {
          "output_type": "stream",
          "name": "stdout",
          "text": [
            "8/8 [==============================] - 0s 2ms/step\n"
          ]
        }
      ]
    },
    {
      "cell_type": "code",
      "source": [
        "# Print the metrics\n",
        "print(f\"Mean Absolute Error (MAE): {mae:.4f}\")\n",
        "print(f\"Mean Squared Error (MSE): {mse:.4f}\")\n",
        "print(f\"Root Mean Squared Error (RMSE): {rmse:.4f}\")\n",
        "print(f\"R-squared (R2): {r2:.4f}\")"
      ],
      "metadata": {
        "colab": {
          "base_uri": "https://localhost:8080/"
        },
        "id": "7o5E6jEfk4jJ",
        "outputId": "d452e01f-d4df-4acd-e039-b932c39c5939"
      },
      "execution_count": 23,
      "outputs": [
        {
          "output_type": "stream",
          "name": "stdout",
          "text": [
            "Mean Absolute Error (MAE): 0.1086\n",
            "Mean Squared Error (MSE): 0.0423\n",
            "Root Mean Squared Error (RMSE): 0.2057\n",
            "R-squared (R2): 0.0251\n"
          ]
        }
      ]
    },
    {
      "cell_type": "markdown",
      "source": [
        "# **Evaluate the model**"
      ],
      "metadata": {
        "id": "TTN9lHd0nq-y"
      }
    },
    {
      "cell_type": "code",
      "source": [
        "test_loss,test_acc=model.evaluate(x_test,y_test)\n",
        "print(\"Loss=%.3f\" %test_loss)\n",
        "print(\"Accuracy=%.3f\" %test_acc)"
      ],
      "metadata": {
        "colab": {
          "base_uri": "https://localhost:8080/"
        },
        "id": "duCsqNEMnuZ5",
        "outputId": "832cdc40-4ef5-465a-cd45-fd0602b7e7a2"
      },
      "execution_count": null,
      "outputs": [
        {
          "output_type": "stream",
          "name": "stdout",
          "text": [
            "8/8 [==============================] - 0s 2ms/step - loss: 0.2426 - accuracy: 0.8600\n",
            "Loss=0.243\n",
            "Accuracy=0.860\n"
          ]
        }
      ]
    },
    {
      "cell_type": "code",
      "source": [
        "prediction = model.predict(x_test)"
      ],
      "metadata": {
        "colab": {
          "base_uri": "https://localhost:8080/"
        },
        "id": "jpSvUgn6gPyH",
        "outputId": "ab19be74-44b3-42db-e7fd-3d4618444e68"
      },
      "execution_count": null,
      "outputs": [
        {
          "output_type": "stream",
          "name": "stdout",
          "text": [
            "8/8 [==============================] - 0s 1ms/step\n"
          ]
        }
      ]
    },
    {
      "cell_type": "code",
      "source": [
        "prediction[:50]"
      ],
      "metadata": {
        "id": "y4Jjo3zwgT8Z"
      },
      "execution_count": null,
      "outputs": []
    },
    {
      "cell_type": "code",
      "source": [
        "y_test[:50]"
      ],
      "metadata": {
        "id": "OVg-M5WcgWBj"
      },
      "execution_count": null,
      "outputs": []
    },
    {
      "cell_type": "code",
      "source": [
        "y_pred = []\n",
        "for element in prediction:\n",
        "    if element > 0.9:\n",
        "        y_pred.append(1)\n",
        "    else:\n",
        "        y_pred.append(0)"
      ],
      "metadata": {
        "id": "_BMd69q1ghZo"
      },
      "execution_count": null,
      "outputs": []
    },
    {
      "cell_type": "code",
      "source": [
        "y_pred[:25]"
      ],
      "metadata": {
        "colab": {
          "base_uri": "https://localhost:8080/"
        },
        "id": "lDpDOxRngkRV",
        "outputId": "afe13de6-3a93-4e5e-f007-6c96f691b2ff"
      },
      "execution_count": null,
      "outputs": [
        {
          "output_type": "execute_result",
          "data": {
            "text/plain": [
              "[1, 1, 1, 1, 1, 0, 0, 1, 1, 1, 1, 1, 1, 1, 1, 1, 1, 1, 1, 1, 0, 1, 0, 1, 1]"
            ]
          },
          "metadata": {},
          "execution_count": 26
        }
      ]
    },
    {
      "cell_type": "code",
      "source": [
        "Y_test = []\n",
        "for i in y_test:\n",
        "    if i> 0.9:\n",
        "        Y_test.append(1)\n",
        "    else:\n",
        "        Y_test.append(0)"
      ],
      "metadata": {
        "id": "F3K24Pe1gc-N"
      },
      "execution_count": null,
      "outputs": []
    },
    {
      "cell_type": "code",
      "source": [
        "Y_test[:50]"
      ],
      "metadata": {
        "id": "hzLrMGGUgqkl"
      },
      "execution_count": null,
      "outputs": []
    },
    {
      "cell_type": "markdown",
      "source": [
        "# **COnfusion Matric**"
      ],
      "metadata": {
        "id": "fgWjVwFaVGJa"
      }
    },
    {
      "cell_type": "code",
      "source": [
        "from sklearn.metrics import confusion_matrix ,ConfusionMatrixDisplay, classification_report"
      ],
      "metadata": {
        "id": "AsjytkXFVO8M"
      },
      "execution_count": null,
      "outputs": []
    },
    {
      "cell_type": "code",
      "source": [
        "cm = confusion_matrix(Y_test, y_pred)\n",
        "cmd = ConfusionMatrixDisplay(cm, display_labels=['class 0', 'class 1'])"
      ],
      "metadata": {
        "id": "mCPlIRQ-gxcZ"
      },
      "execution_count": null,
      "outputs": []
    },
    {
      "cell_type": "code",
      "source": [
        "fig, ax = plt.subplots(figsize=(8, 8))\n",
        "cmd.plot(ax=ax, cmap='Blues')\n",
        "plt.show()"
      ],
      "metadata": {
        "colab": {
          "base_uri": "https://localhost:8080/",
          "height": 653
        },
        "id": "G4RNpNLmg2EI",
        "outputId": "6e5fde49-5963-4197-a2e9-1761252cdd2d"
      },
      "execution_count": null,
      "outputs": [
        {
          "output_type": "display_data",
          "data": {
            "text/plain": [
              "<Figure size 800x800 with 2 Axes>"
            ],
            "image/png": "[encoded data removed]"
          },
          "metadata": {}
        }
      ]
    },
    {
      "cell_type": "code",
      "source": [
        "print(classification_report(Y_test,y_pred))"
      ],
      "metadata": {
        "colab": {
          "base_uri": "https://localhost:8080/"
        },
        "id": "ZvRY7hf8g4Vn",
        "outputId": "06851647-e40c-4c37-ab1f-6d318ffa0b13"
      },
      "execution_count": null,
      "outputs": [
        {
          "output_type": "stream",
          "name": "stdout",
          "text": [
            "              precision    recall  f1-score   support\n",
            "\n",
            "           0       0.27      0.12      0.17        32\n",
            "           1       0.88      0.95      0.91       218\n",
            "\n",
            "    accuracy                           0.84       250\n",
            "   macro avg       0.57      0.54      0.54       250\n",
            "weighted avg       0.80      0.84      0.82       250\n",
            "\n"
          ]
        }
      ]
    },
    {
      "cell_type": "markdown",
      "source": [
        "# **Building 1DCNN Model**\n",
        "\n"
      ],
      "metadata": {
        "id": "jzMJxiQOs-M4"
      }
    },
    {
      "cell_type": "code",
      "source": [
        "model = Sequential()\n",
        "model.add(Conv1D(filters=64, kernel_size=3, activation='relu', input_shape=(768, 1)))# add 1D convolutional layer\n",
        "model.add(MaxPooling1D(pool_size=2))# add max pooling layer\n",
        "model.add(Flatten())# add flatten layer\n",
        "model.add(Dense(64, activation='relu'))# add dense layer\n",
        "model.add(Dense(1, activation='sigmoid'))# add output layer\n",
        "model.compile(optimizer='adam', loss='binary_crossentropy', metrics=['accuracy'])  # compile the model\n",
        "model.fit(x_train, y_train, batch_size=32, epochs=10)"
      ],
      "metadata": {
        "colab": {
          "base_uri": "https://localhost:8080/"
        },
        "id": "jY2iTwlrjZ43",
        "outputId": "48adc3e6-37ea-458e-8667-47cd1dc6f549"
      },
      "execution_count": 24,
      "outputs": [
        {
          "output_type": "stream",
          "name": "stdout",
          "text": [
            "Epoch 1/10\n",
            "32/32 [==============================] - 3s 65ms/step - loss: 0.2836 - accuracy: 0.8546\n",
            "Epoch 2/10\n",
            "32/32 [==============================] - 3s 80ms/step - loss: 0.2349 - accuracy: 0.8806\n",
            "Epoch 3/10\n",
            "32/32 [==============================] - 1s 43ms/step - loss: 0.2432 - accuracy: 0.8806\n",
            "Epoch 4/10\n",
            "32/32 [==============================] - 1s 37ms/step - loss: 0.2379 - accuracy: 0.8806\n",
            "Epoch 5/10\n",
            "32/32 [==============================] - 2s 62ms/step - loss: 0.2340 - accuracy: 0.8806\n",
            "Epoch 6/10\n",
            "32/32 [==============================] - 2s 65ms/step - loss: 0.2311 - accuracy: 0.8806\n",
            "Epoch 7/10\n",
            "32/32 [==============================] - 1s 40ms/step - loss: 0.2280 - accuracy: 0.8806\n",
            "Epoch 8/10\n",
            "32/32 [==============================] - 2s 57ms/step - loss: 0.2253 - accuracy: 0.8806\n",
            "Epoch 9/10\n",
            "32/32 [==============================] - 2s 45ms/step - loss: 0.2271 - accuracy: 0.8806\n",
            "Epoch 10/10\n",
            "32/32 [==============================] - 1s 38ms/step - loss: 0.2232 - accuracy: 0.8806\n"
          ]
        },
        {
          "output_type": "execute_result",
          "data": {
            "text/plain": [
              "<keras.src.callbacks.History at 0x7b4473536470>"
            ]
          },
          "metadata": {},
          "execution_count": 24
        }
      ]
    },
    {
      "cell_type": "code",
      "source": [
        "test_loss,test_acc=model.evaluate(x_test,y_test)"
      ],
      "metadata": {
        "colab": {
          "base_uri": "https://localhost:8080/"
        },
        "id": "G2OKOETAjBct",
        "outputId": "3ff05140-5088-4093-cb1e-f0b16c03363d"
      },
      "execution_count": 25,
      "outputs": [
        {
          "output_type": "stream",
          "name": "stdout",
          "text": [
            "8/8 [==============================] - 0s 10ms/step - loss: 0.2626 - accuracy: 0.8600\n"
          ]
        }
      ]
    },
    {
      "cell_type": "code",
      "source": [
        "from sklearn.metrics import mean_absolute_error, mean_squared_error, r2_score\n",
        "\n",
        "y_pred = model.predict(x_test).squeeze()\n",
        "\n",
        "# Calculate regression metrics\n",
        "mae = mean_absolute_error(y_test, y_pred)\n",
        "mse = mean_squared_error(y_test, y_pred)\n",
        "rmse = np.sqrt(mse)\n",
        "r2 = r2_score(y_test, y_pred)"
      ],
      "metadata": {
        "colab": {
          "base_uri": "https://localhost:8080/"
        },
        "id": "4P4aBEgVlvsf",
        "outputId": "63aade92-85bd-4b2d-d4c8-70b36bb1e929"
      },
      "execution_count": 26,
      "outputs": [
        {
          "output_type": "stream",
          "name": "stdout",
          "text": [
            "8/8 [==============================] - 0s 16ms/step\n"
          ]
        }
      ]
    },
    {
      "cell_type": "code",
      "source": [
        "# Print the metrics\n",
        "print(f\"Mean Absolute Error (MAE): {mae:.4f}\")\n",
        "print(f\"Mean Squared Error (MSE): {mse:.4f}\")\n",
        "print(f\"Root Mean Squared Error (RMSE): {rmse:.4f}\")\n",
        "print(f\"R-squared (R2): {r2:.4f}\")"
      ],
      "metadata": {
        "colab": {
          "base_uri": "https://localhost:8080/"
        },
        "id": "uYshM1xVl3vR",
        "outputId": "e4593c4c-34c1-4fe9-cf5f-ab7d02a9c07a"
      },
      "execution_count": 27,
      "outputs": [
        {
          "output_type": "stream",
          "name": "stdout",
          "text": [
            "Mean Absolute Error (MAE): 0.0959\n",
            "Mean Squared Error (MSE): 0.0441\n",
            "Root Mean Squared Error (RMSE): 0.2099\n",
            "R-squared (R2): -0.0157\n"
          ]
        }
      ]
    },
    {
      "cell_type": "markdown",
      "source": [
        "# **LSTM Model building**"
      ],
      "metadata": {
        "id": "nyV8QDJZ_Gcl"
      }
    },
    {
      "cell_type": "code",
      "source": [
        "x_train = x_train.reshape((x_train.shape[0], 1, x_train.shape[1]))"
      ],
      "metadata": {
        "id": "PAlw_7so_L1x"
      },
      "execution_count": 28,
      "outputs": []
    },
    {
      "cell_type": "code",
      "source": [
        "x_test = x_test.reshape((x_test.shape[0], 1, x_test.shape[1]))"
      ],
      "metadata": {
        "id": "JqEHrr33_Xp3"
      },
      "execution_count": 29,
      "outputs": []
    },
    {
      "cell_type": "code",
      "source": [
        "model = Sequential()\n",
        "model.add(LSTM(units=64, input_shape=(1, 768)))\n",
        "model.add(Dense(units=1, activation='sigmoid'))\n",
        "model.compile(optimizer='adam', loss='binary_crossentropy', metrics=['accuracy'])\n",
        "\n",
        "# Train the model\n",
        "model.fit(x_train, y_train, batch_size=32, epochs=10)"
      ],
      "metadata": {
        "colab": {
          "base_uri": "https://localhost:8080/"
        },
        "id": "HVwNRT4P_R1E",
        "outputId": "fe210a8a-81f5-4220-b49f-914374952cc7"
      },
      "execution_count": 30,
      "outputs": [
        {
          "output_type": "stream",
          "name": "stdout",
          "text": [
            "Epoch 1/10\n",
            "32/32 [==============================] - 7s 10ms/step - loss: 0.2639 - accuracy: 0.8526\n",
            "Epoch 2/10\n",
            "32/32 [==============================] - 0s 10ms/step - loss: 0.2302 - accuracy: 0.8806\n",
            "Epoch 3/10\n",
            "32/32 [==============================] - 0s 10ms/step - loss: 0.2298 - accuracy: 0.8806\n",
            "Epoch 4/10\n",
            "32/32 [==============================] - 0s 10ms/step - loss: 0.2303 - accuracy: 0.8806\n",
            "Epoch 5/10\n",
            "32/32 [==============================] - 0s 10ms/step - loss: 0.2293 - accuracy: 0.8806\n",
            "Epoch 6/10\n",
            "32/32 [==============================] - 0s 11ms/step - loss: 0.2286 - accuracy: 0.8806\n",
            "Epoch 7/10\n",
            "32/32 [==============================] - 0s 11ms/step - loss: 0.2297 - accuracy: 0.8806\n",
            "Epoch 8/10\n",
            "32/32 [==============================] - 0s 11ms/step - loss: 0.2276 - accuracy: 0.8806\n",
            "Epoch 9/10\n",
            "32/32 [==============================] - 0s 9ms/step - loss: 0.2268 - accuracy: 0.8806\n",
            "Epoch 10/10\n",
            "32/32 [==============================] - 0s 10ms/step - loss: 0.2254 - accuracy: 0.8806\n"
          ]
        },
        {
          "output_type": "execute_result",
          "data": {
            "text/plain": [
              "<keras.src.callbacks.History at 0x7b44733c7be0>"
            ]
          },
          "metadata": {},
          "execution_count": 30
        }
      ]
    },
    {
      "cell_type": "code",
      "source": [
        "test_loss,test_acc=model.evaluate(x_test,y_test)"
      ],
      "metadata": {
        "colab": {
          "base_uri": "https://localhost:8080/"
        },
        "id": "miFgbhXnAqkb",
        "outputId": "0d4d94df-1565-4e86-8d0a-04b1afb5ba1c"
      },
      "execution_count": 31,
      "outputs": [
        {
          "output_type": "stream",
          "name": "stdout",
          "text": [
            "8/8 [==============================] - 1s 5ms/step - loss: 0.2527 - accuracy: 0.8600\n"
          ]
        }
      ]
    },
    {
      "cell_type": "code",
      "source": [
        "from sklearn.metrics import mean_absolute_error, mean_squared_error, r2_score\n",
        "\n",
        "y_pred = model.predict(x_test).squeeze()\n",
        "\n",
        "# Calculate regression metrics\n",
        "mae = mean_absolute_error(y_test, y_pred)\n",
        "mse = mean_squared_error(y_test, y_pred)\n",
        "rmse = np.sqrt(mse)\n",
        "r2 = r2_score(y_test, y_pred)"
      ],
      "metadata": {
        "colab": {
          "base_uri": "https://localhost:8080/"
        },
        "id": "deEua2fhmCxR",
        "outputId": "94a94620-8710-417b-c548-1579672cc474"
      },
      "execution_count": 32,
      "outputs": [
        {
          "output_type": "stream",
          "name": "stdout",
          "text": [
            "8/8 [==============================] - 0s 3ms/step\n"
          ]
        }
      ]
    },
    {
      "cell_type": "code",
      "source": [
        "# Print the metrics\n",
        "print(f\"Mean Absolute Error (MAE): {mae:.4f}\")\n",
        "print(f\"Mean Squared Error (MSE): {mse:.4f}\")\n",
        "print(f\"Root Mean Squared Error (RMSE): {rmse:.4f}\")\n",
        "print(f\"R-squared (R2): {r2:.4f}\")"
      ],
      "metadata": {
        "colab": {
          "base_uri": "https://localhost:8080/"
        },
        "id": "aRQJEt5bmG-L",
        "outputId": "faaa45db-4535-406c-c522-f362a79c6f4f"
      },
      "execution_count": 33,
      "outputs": [
        {
          "output_type": "stream",
          "name": "stdout",
          "text": [
            "Mean Absolute Error (MAE): 0.1200\n",
            "Mean Squared Error (MSE): 0.0432\n",
            "Root Mean Squared Error (RMSE): 0.2078\n",
            "R-squared (R2): 0.0051\n"
          ]
        }
      ]
    },
    {
      "cell_type": "markdown",
      "source": [
        "# **Accuracy for reputation** 0.4%\n",
        "\n",
        "FFNN.......  0.0040\n",
        "\n",
        "1DCNN...... 0.0040\n",
        "\n",
        "LSTM.....  0.0040\n",
        "\n",
        "\n",
        "# **Accuracy for question** 8.8%\n",
        "\n",
        "FFNN....... 0.0880\n",
        "\n",
        "1DCNN...... 0.0880\n",
        "\n",
        "LSTM.....   0.0880\n",
        "\n",
        "# **Accuracy for Answer** 86%\n",
        "\n",
        "FFNN....... 0.8600\n",
        "\n",
        "1DCNN...... 0.8600\n",
        "\n",
        "LSTM..... 0.8600\n"
      ],
      "metadata": {
        "id": "WO45WP8SF1S7"
      }
    }
  ]
}