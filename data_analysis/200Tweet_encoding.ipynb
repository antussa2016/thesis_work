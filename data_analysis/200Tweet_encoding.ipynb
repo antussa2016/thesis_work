{
  "nbformat": 4,
  "nbformat_minor": 0,
  "metadata": {
    "colab": {
      "provenance": [],
      "authorship_tag": "ABX9TyNA+dV6FFP4iYgNaBNgWF9W",
      "include_colab_link": true
    },
    "kernelspec": {
      "name": "python3",
      "display_name": "Python 3"
    },
    "language_info": {
      "name": "python"
    },
    "accelerator": "GPU",
    "gpuClass": "standard"
  },
  "cells": [
    {
      "cell_type": "markdown",
      "metadata": {
        "id": "view-in-github",
        "colab_type": "text"
      },
      "source": [
        "<a href=\"https://colab.research.google.com/github/antussa2016/thesis_work/blob/master/data_analysis/200Tweet_encoding.ipynb\" target=\"_parent\"><img src=\"https://colab.research.google.com/assets/colab-badge.svg\" alt=\"Open In Colab\"/></a>"
      ]
    },
    {
      "cell_type": "code",
      "execution_count": null,
      "metadata": {
        "colab": {
          "base_uri": "https://localhost:8080/"
        },
        "id": "UnO8Y0b1KzTM",
        "outputId": "9597f3d5-2215-4974-e124-39cd28188643"
      },
      "outputs": [
        {
          "output_type": "stream",
          "name": "stdout",
          "text": [
            "Mounted at /content/drive\n"
          ]
        }
      ],
      "source": [
        "from google.colab import drive\n",
        "drive.mount('/content/drive')"
      ]
    },
    {
      "cell_type": "code",
      "source": [
        "!pip install tensorflow-text"
      ],
      "metadata": {
        "id": "L28zQmraLSCo"
      },
      "execution_count": null,
      "outputs": []
    },
    {
      "cell_type": "code",
      "source": [
        "import pandas as pd\n",
        "import numpy as np\n",
        "import os\n",
        "import tensorflow as tf\n",
        "import tensorflow_hub as hub\n",
        "import tensorflow_text as text\n",
        "import nltk\n",
        "from nltk.stem import WordNetLemmatizer\n",
        "import re\n",
        "from collections import Counter"
      ],
      "metadata": {
        "id": "lTTdZMCoK-Pc"
      },
      "execution_count": null,
      "outputs": []
    },
    {
      "cell_type": "code",
      "source": [
        "nltk.download('punkt')\n",
        "nltk.download('wordnet')\n",
        "nltk.download('stopwords')\n",
        "nltk.download('averaged_perceptron_tagger')"
      ],
      "metadata": {
        "colab": {
          "base_uri": "https://localhost:8080/"
        },
        "id": "mmwXVXAVSEre",
        "outputId": "637020fe-eae8-479b-fd09-a197734044d4"
      },
      "execution_count": null,
      "outputs": [
        {
          "output_type": "stream",
          "name": "stderr",
          "text": [
            "[nltk_data] Downloading package punkt to /root/nltk_data...\n",
            "[nltk_data]   Unzipping tokenizers/punkt.zip.\n",
            "[nltk_data] Downloading package wordnet to /root/nltk_data...\n",
            "[nltk_data] Downloading package stopwords to /root/nltk_data...\n",
            "[nltk_data]   Unzipping corpora/stopwords.zip.\n",
            "[nltk_data] Downloading package averaged_perceptron_tagger to\n",
            "[nltk_data]     /root/nltk_data...\n",
            "[nltk_data]   Unzipping taggers/averaged_perceptron_tagger.zip.\n"
          ]
        },
        {
          "output_type": "execute_result",
          "data": {
            "text/plain": [
              "True"
            ]
          },
          "metadata": {},
          "execution_count": 4
        }
      ]
    },
    {
      "cell_type": "code",
      "source": [
        "df1 = pd.read_csv('/content/drive/MyDrive/tweet_files.csv')\n",
        "folder_path = '/content/drive/MyDrive/tweet1/tweet'"
      ],
      "metadata": {
        "id": "tEW0FmCNLCxP"
      },
      "execution_count": null,
      "outputs": []
    },
    {
      "cell_type": "code",
      "source": [],
      "metadata": {
        "id": "CMkfrRytk4gB"
      },
      "execution_count": null,
      "outputs": []
    },
    {
      "cell_type": "code",
      "source": [
        "file_names = os.listdir(folder_path)"
      ],
      "metadata": {
        "id": "qZiE6afyLF7Y"
      },
      "execution_count": null,
      "outputs": []
    },
    {
      "cell_type": "code",
      "source": [
        "csv_files = [file_name for file_name in file_names if file_name.endswith('.csv')]"
      ],
      "metadata": {
        "id": "rseAK-2LLIFp"
      },
      "execution_count": null,
      "outputs": []
    },
    {
      "cell_type": "markdown",
      "source": [
        "# Removing similar words from tweets"
      ],
      "metadata": {
        "id": "kevKE6MsNNjW"
      }
    },
    {
      "cell_type": "code",
      "source": [
        "def removing_similar_words(text):\n",
        "    tokens = nltk.word_tokenize(text)\n",
        "    lemmatizer = WordNetLemmatizer()\n",
        "    lemmatized_tokens = [lemmatizer.lemmatize(token) for token in tokens]\n",
        "    unique_tokens = list(set(lemmatized_tokens))\n",
        "    clean_tweet = ' '.join(unique_tokens)\n",
        "    return clean_tweet"
      ],
      "metadata": {
        "id": "wRPN43qkMZV-"
      },
      "execution_count": null,
      "outputs": []
    },
    {
      "cell_type": "markdown",
      "source": [
        "# **Removing preposition from tweets**"
      ],
      "metadata": {
        "id": "IvfeJIarOCO4"
      }
    },
    {
      "cell_type": "code",
      "source": [
        "def remove_prepositions(tweet):\n",
        "    # Tokenize tweet into words\n",
        "    words = nltk.word_tokenize(tweet)\n",
        "\n",
        "    # Remove prepositions using list comprehension\n",
        "    filtered_words = [word for word in words if word.lower() not in nltk.corpus.stopwords.words('english') and nltk.pos_tag([word])[0][1] != 'IN']\n",
        "\n",
        "    # Rejoin filtered words into a string\n",
        "    filtered_tweet = ' '.join(filtered_words)\n",
        "\n",
        "    # Return filtered tweet\n",
        "    return filtered_tweet"
      ],
      "metadata": {
        "id": "J6w9HI4pOC_i"
      },
      "execution_count": null,
      "outputs": []
    },
    {
      "cell_type": "markdown",
      "source": [
        "# **Removing unwanted words like articles from tweets**"
      ],
      "metadata": {
        "id": "6mNL3pMeOZZ-"
      }
    },
    {
      "cell_type": "code",
      "source": [
        "unwanted_words = ['a', 'an', 'the', 'and', 'or', 'but']\n",
        "\n",
        "# Define a function to remove unwanted words\n",
        "def remove_unwanted_words(text):\n",
        "    # Convert text to lowercase\n",
        "    text = text.lower()\n",
        "    # Remove unwanted words using regular expressions\n",
        "    text = re.sub(r'\\b(' + '|'.join(unwanted_words) + r')\\b', '', text)\n",
        "    # Remove extra spaces\n",
        "    text = re.sub(r'\\s+', ' ', text).strip()\n",
        "    return text\n",
        "\n",
        "# Example tweet\n",
        "\n",
        "# Remove unwanted words from the tweet\n"
      ],
      "metadata": {
        "id": "WGzkW9B6OiCW"
      },
      "execution_count": null,
      "outputs": []
    },
    {
      "cell_type": "markdown",
      "source": [
        "# **Removing one or two letters words from tweets**"
      ],
      "metadata": {
        "id": "L9GZUyuIPYrB"
      }
    },
    {
      "cell_type": "code",
      "source": [
        "def removing_oneOrtwo_words(text):\n",
        "    stop_words = nltk.corpus.stopwords.words('english')\n",
        "    stop_words.extend(['rt', 'co', 'u', 'ur', 'im'])\n",
        "    tokens = nltk.word_tokenize(text)\n",
        "    filtered_tokens = [word for word in tokens if not word.lower() in stop_words and len(word) > 2]\n",
        "    filtered_tweet = ' '.join(filtered_tokens)\n",
        "    return filtered_tweet"
      ],
      "metadata": {
        "id": "39tNtpfVO5vG"
      },
      "execution_count": null,
      "outputs": []
    },
    {
      "cell_type": "markdown",
      "source": [
        "# **Removing repeated words from tweets**"
      ],
      "metadata": {
        "id": "yDTzt2luQgwv"
      }
    },
    {
      "cell_type": "code",
      "source": [
        "def removing_repeated_words(text):\n",
        "    words = text.split()\n",
        "    word_counts = Counter(words)\n",
        "    most_common = [word for word, count in word_counts.most_common(5)]\n",
        "    words = [word for word in words if word not in most_common]\n",
        "    clean_tweet = \" \".join(words)\n",
        "    return clean_tweet"
      ],
      "metadata": {
        "id": "79q0XEewQFNv"
      },
      "execution_count": null,
      "outputs": []
    },
    {
      "cell_type": "code",
      "source": [
        "k = 0\n",
        "new_column = []\n",
        "for index, row in df1.iterrows():\n",
        "    for file_name in csv_files:\n",
        "        if row['File name'] == file_name:\n",
        "            df3=file_names[k]\n",
        "            df3=pd.read_csv(f'/content/drive/MyDrive/tweet1/tweet/{df3}')\n",
        "            # column=df3['tweet'].name\n",
        "\n",
        "            if ('tweet' in df3.columns) & ('text' not in df3.columns):\n",
        "                df3['tweet'] =  df3['tweet'].str.replace('http[s]?://(?:[a-zA-Z]|[0-9]|[$-_@.&+]|[!*\\(\\),]|(?:%[0-9a-fA-F][0-9a-fA-F]))+', ' ')\n",
        "                df3['tweet'] = df3['tweet'].str.replace(r\"[\\\"\\'\\|\\?\\=\\.\\@\\#\\*\\,]\", '')\n",
        "                processed_texts = [text.lower().split() for text in df3['tweet']]\n",
        "                bert_preprocess = hub.KerasLayer(\"https://tfhub.dev/tensorflow/bert_en_uncased_preprocess/3\")\n",
        "                bert_encoder = hub.KerasLayer(\"https://tfhub.dev/tensorflow/bert_en_uncased_L-12_H-768_A-12/4\")\n",
        "                def get_sentence_embeding(sentences):\n",
        "                    preprocessed_text = bert_preprocess(sentences)\n",
        "                    return bert_encoder(preprocessed_text)['pooled_output']\n",
        "                text = []\n",
        "                for i in df3['tweet']:\n",
        "                    string = \"\"\n",
        "                    for j in i:\n",
        "                        string += j\n",
        "                        text.append(string)\n",
        "                bert_text = text[:200]\n",
        "                bert_string = ' '.join(bert_text)\n",
        "                string1 = removing_similar_words(bert_string)\n",
        "                string2 = remove_prepositions(string1)\n",
        "                string3 = remove_unwanted_words(string2)\n",
        "                string4 = removing_oneOrtwo_words(string3)\n",
        "                string5 = removing_repeated_words(string4)\n",
        "                bert_list = []\n",
        "                bert_list.append(string5)\n",
        "                bert_embed = get_sentence_embeding(bert_list)\n",
        "                hidden = tf.constant(bert_embed)\n",
        "                hidden_array = hidden.numpy()\n",
        "                hidden_array.resize((768,))\n",
        "                hidden_values = hidden_array[:768]\n",
        "                new_column.append(hidden_values)\n",
        "                print(k)\n",
        "                k +=1\n",
        "            else:\n",
        "                df3.loc[df3['text'].isna()]\n",
        "                df3['text'] =  df3['text'].str.replace('http[s]?://(?:[a-zA-Z]|[0-9]|[$-_@.&+]|[!*\\(\\),]|(?:%[0-9a-fA-F][0-9a-fA-F]))+', ' ')\n",
        "                df3['text'] = df3['text'].str.replace(r\"[\\\"\\'\\|\\?\\=\\.\\@\\#\\*\\,]\", '')\n",
        "                processed_texts = [text.lower().split() for text in df3['text'].dropna().tolist()]\n",
        "                bert_preprocess = hub.KerasLayer(\"https://tfhub.dev/tensorflow/bert_en_uncased_preprocess/3\")\n",
        "                bert_encoder = hub.KerasLayer(\"https://tfhub.dev/tensorflow/bert_en_uncased_L-12_H-768_A-12/4\")\n",
        "                def get_sentence_embeding(sentences):\n",
        "                    preprocessed_text = bert_preprocess(sentences)\n",
        "                    return bert_encoder(preprocessed_text)['pooled_output']\n",
        "                text = []\n",
        "                for i in df3['text'].dropna().tolist():\n",
        "                    string = \"\"\n",
        "                    for j in i:\n",
        "                        string += j\n",
        "                        text.append(string)\n",
        "                bert_text = text[:200]\n",
        "                bert_string = ' '.join(bert_text)\n",
        "                string1 = removing_similar_words(bert_string)\n",
        "                string2 = remove_prepositions(string1)\n",
        "                string3 = remove_unwanted_words(string2)\n",
        "                string4 = removing_oneOrtwo_words(string3)\n",
        "                string5 = removing_repeated_words(string4)\n",
        "                bert_list = []\n",
        "                bert_list.append(string5)\n",
        "                bert_embed = get_sentence_embeding(bert_list)\n",
        "                hidden = tf.constant(bert_embed)\n",
        "                hidden_array = hidden.numpy()\n",
        "                hidden_array.resize((768,))\n",
        "                hidden_values = hidden_array[:768]\n",
        "                new_column.append(hidden_values)\n",
        "                print(k)\n",
        "                k +=1\n"
      ],
      "metadata": {
        "id": "_JUiz67_La4O"
      },
      "execution_count": null,
      "outputs": []
    },
    {
      "cell_type": "code",
      "source": [
        "df1['new_column'] = new_column"
      ],
      "metadata": {
        "id": "u2tIIS5aMMIB"
      },
      "execution_count": null,
      "outputs": []
    },
    {
      "cell_type": "code",
      "source": [
        "df1.head()"
      ],
      "metadata": {
        "colab": {
          "base_uri": "https://localhost:8080/",
          "height": 206
        },
        "id": "LdM2tHzUMTMh",
        "outputId": "09613458-4e9f-4a30-f4d9-ec8ad719a915"
      },
      "execution_count": null,
      "outputs": [
        {
          "output_type": "execute_result",
          "data": {
            "text/plain": [
              "             File name                                         new_column\n",
              "0         bozhobg_.csv  [-0.83739275, -0.53459024, -0.8605162, 0.72336...\n",
              "1  engineer_fouad_.csv  [-0.8078663, -0.34387338, -0.6524926, 0.640008...\n",
              "2          yuvadm_.csv  [-0.8478003, -0.4863819, -0.8600512, 0.7470851...\n",
              "3        @borland_.csv  [-0.73726755, -0.39729238, -0.5068549, 0.33198...\n",
              "4      @agriffini_.csv  [-0.700285, -0.4379541, -0.65491354, 0.4998842..."
            ],
            "text/html": [
              "\n",
              "  <div id=\"df-42a88c93-005d-4fa8-8a22-5f3e0d85c651\">\n",
              "    <div class=\"colab-df-container\">\n",
              "      <div>\n",
              "<style scoped>\n",
              "    .dataframe tbody tr th:only-of-type {\n",
              "        vertical-align: middle;\n",
              "    }\n",
              "\n",
              "    .dataframe tbody tr th {\n",
              "        vertical-align: top;\n",
              "    }\n",
              "\n",
              "    .dataframe thead th {\n",
              "        text-align: right;\n",
              "    }\n",
              "</style>\n",
              "<table border=\"1\" class=\"dataframe\">\n",
              "  <thead>\n",
              "    <tr style=\"text-align: right;\">\n",
              "      <th></th>\n",
              "      <th>File name</th>\n",
              "      <th>new_column</th>\n",
              "    </tr>\n",
              "  </thead>\n",
              "  <tbody>\n",
              "    <tr>\n",
              "      <th>0</th>\n",
              "      <td>bozhobg_.csv</td>\n",
              "      <td>[-0.83739275, -0.53459024, -0.8605162, 0.72336...</td>\n",
              "    </tr>\n",
              "    <tr>\n",
              "      <th>1</th>\n",
              "      <td>engineer_fouad_.csv</td>\n",
              "      <td>[-0.8078663, -0.34387338, -0.6524926, 0.640008...</td>\n",
              "    </tr>\n",
              "    <tr>\n",
              "      <th>2</th>\n",
              "      <td>yuvadm_.csv</td>\n",
              "      <td>[-0.8478003, -0.4863819, -0.8600512, 0.7470851...</td>\n",
              "    </tr>\n",
              "    <tr>\n",
              "      <th>3</th>\n",
              "      <td>@borland_.csv</td>\n",
              "      <td>[-0.73726755, -0.39729238, -0.5068549, 0.33198...</td>\n",
              "    </tr>\n",
              "    <tr>\n",
              "      <th>4</th>\n",
              "      <td>@agriffini_.csv</td>\n",
              "      <td>[-0.700285, -0.4379541, -0.65491354, 0.4998842...</td>\n",
              "    </tr>\n",
              "  </tbody>\n",
              "</table>\n",
              "</div>\n",
              "      <button class=\"colab-df-convert\" onclick=\"convertToInteractive('df-42a88c93-005d-4fa8-8a22-5f3e0d85c651')\"\n",
              "              title=\"Convert this dataframe to an interactive table.\"\n",
              "              style=\"display:none;\">\n",
              "        \n",
              "  <svg xmlns=\"http://www.w3.org/2000/svg\" height=\"24px\"viewBox=\"0 0 24 24\"\n",
              "       width=\"24px\">\n",
              "    <path d=\"M0 0h24v24H0V0z\" fill=\"none\"/>\n",
              "    <path d=\"M18.56 5.44l.94 2.06.94-2.06 2.06-.94-2.06-.94-.94-2.06-.94 2.06-2.06.94zm-11 1L8.5 8.5l.94-2.06 2.06-.94-2.06-.94L8.5 2.5l-.94 2.06-2.06.94zm10 10l.94 2.06.94-2.06 2.06-.94-2.06-.94-.94-2.06-.94 2.06-2.06.94z\"/><path d=\"M17.41 7.96l-1.37-1.37c-.4-.4-.92-.59-1.43-.59-.52 0-1.04.2-1.43.59L10.3 9.45l-7.72 7.72c-.78.78-.78 2.05 0 2.83L4 21.41c.39.39.9.59 1.41.59.51 0 1.02-.2 1.41-.59l7.78-7.78 2.81-2.81c.8-.78.8-2.07 0-2.86zM5.41 20L4 18.59l7.72-7.72 1.47 1.35L5.41 20z\"/>\n",
              "  </svg>\n",
              "      </button>\n",
              "      \n",
              "  <style>\n",
              "    .colab-df-container {\n",
              "      display:flex;\n",
              "      flex-wrap:wrap;\n",
              "      gap: 12px;\n",
              "    }\n",
              "\n",
              "    .colab-df-convert {\n",
              "      background-color: #E8F0FE;\n",
              "      border: none;\n",
              "      border-radius: 50%;\n",
              "      cursor: pointer;\n",
              "      display: none;\n",
              "      fill: #1967D2;\n",
              "      height: 32px;\n",
              "      padding: 0 0 0 0;\n",
              "      width: 32px;\n",
              "    }\n",
              "\n",
              "    .colab-df-convert:hover {\n",
              "      background-color: #E2EBFA;\n",
              "      box-shadow: 0px 1px 2px rgba(60, 64, 67, 0.3), 0px 1px 3px 1px rgba(60, 64, 67, 0.15);\n",
              "      fill: #174EA6;\n",
              "    }\n",
              "\n",
              "    [theme=dark] .colab-df-convert {\n",
              "      background-color: #3B4455;\n",
              "      fill: #D2E3FC;\n",
              "    }\n",
              "\n",
              "    [theme=dark] .colab-df-convert:hover {\n",
              "      background-color: #434B5C;\n",
              "      box-shadow: 0px 1px 3px 1px rgba(0, 0, 0, 0.15);\n",
              "      filter: drop-shadow(0px 1px 2px rgba(0, 0, 0, 0.3));\n",
              "      fill: #FFFFFF;\n",
              "    }\n",
              "  </style>\n",
              "\n",
              "      <script>\n",
              "        const buttonEl =\n",
              "          document.querySelector('#df-42a88c93-005d-4fa8-8a22-5f3e0d85c651 button.colab-df-convert');\n",
              "        buttonEl.style.display =\n",
              "          google.colab.kernel.accessAllowed ? 'block' : 'none';\n",
              "\n",
              "        async function convertToInteractive(key) {\n",
              "          const element = document.querySelector('#df-42a88c93-005d-4fa8-8a22-5f3e0d85c651');\n",
              "          const dataTable =\n",
              "            await google.colab.kernel.invokeFunction('convertToInteractive',\n",
              "                                                     [key], {});\n",
              "          if (!dataTable) return;\n",
              "\n",
              "          const docLinkHtml = 'Like what you see? Visit the ' +\n",
              "            '<a target=\"_blank\" href=https://colab.research.google.com/notebooks/data_table.ipynb>data table notebook</a>'\n",
              "            + ' to learn more about interactive tables.';\n",
              "          element.innerHTML = '';\n",
              "          dataTable['output_type'] = 'display_data';\n",
              "          await google.colab.output.renderOutput(dataTable, element);\n",
              "          const docLink = document.createElement('div');\n",
              "          docLink.innerHTML = docLinkHtml;\n",
              "          element.appendChild(docLink);\n",
              "        }\n",
              "      </script>\n",
              "    </div>\n",
              "  </div>\n",
              "  "
            ]
          },
          "metadata": {},
          "execution_count": 15
        }
      ]
    },
    {
      "cell_type": "code",
      "source": [
        "df1.to_csv('/content/drive/MyDrive/encoded_files_new_data.csv', index=False)"
      ],
      "metadata": {
        "id": "0tQBkLJcMRhQ"
      },
      "execution_count": null,
      "outputs": []
    }
  ]
}